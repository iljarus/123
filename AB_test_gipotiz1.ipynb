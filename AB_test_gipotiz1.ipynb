{
 "cells": [
  {
   "cell_type": "markdown",
   "metadata": {},
   "source": [
    "## описание проекта\n",
    "Вы — аналитик крупного интернет-магазина. Вместе с отделом маркетинга вы подготовили список гипотез для увеличения выручки.\n",
    "Приоритизируйте гипотезы, запустите A/B-тест и проанализируйте результаты.\n",
    "\n",
    "### Часть 1. Приоритизация гипотез.\n",
    "\n",
    "В файле /datasets/hypothesis.csv 9 гипотез по увеличению выручки интернет-магазина с указанными параметрами Reach, Impact, Confidence, Effort.\n",
    "#### Задача\n",
    "- Примените фреймворк ICE для приоритизации гипотез. Отсортируйте их по убыванию приоритета.\n",
    "- Примените фреймворк RICE для приоритизации гипотез. Отсортируйте их по убыванию приоритета.\n",
    "- Укажите, как изменилась приоритизация гипотез при применении RICE вместо ICE. Объясните, почему так произошло.\n",
    "\n",
    "### Часть 2. Анализ A/B-теста\n",
    "\n",
    "Вы провели A/B-тест и получили результаты, которые описаны в файлах /datasets/orders.csv и /datasets/visitors.csv.\n",
    "#### Задача\n",
    "#### Проанализируйте A/B-тест:\n",
    "- Постройте график кумулятивной выручки по группам. Сделайте выводы и предположения.\n",
    "- Постройте график кумулятивного среднего чека по группам. Сделайте выводы и предположения.\n",
    "- Постройте график относительного изменения кумулятивного среднего чека группы B к группе A. Сделайте выводы и предположения.\n",
    "- Постройте график кумулятивной конверсии по группам. Сделайте выводы и предположения.\n",
    "- Постройте график относительного изменения кумулятивной конверсии группы B к группе A. Сделайте выводы и предположения.\n",
    "- Постройте точечный график количества заказов по пользователям. Сделайте выводы и предположения.\n",
    "- Посчитайте 95-й и 99-й перцентили количества заказов на пользователя. Выберите границу для определения аномальных пользователей.\n",
    "- Постройте точечный график стоимостей заказов. Сделайте выводы и предположения.\n",
    "- Посчитайте 95-й и 99-й перцентили стоимости заказов. Выберите границу для определения аномальных заказов.\n",
    "- Посчитайте статистическую значимость различий в конверсии между группами по «сырым» данным. Сделайте выводы и предположения.\n",
    "- Посчитайте статистическую значимость различий в среднем чеке заказа между группами по «сырым» данным. Сделайте выводы и предположения.\n",
    "- Посчитайте статистическую значимость различий в конверсии между группами по «очищенным» данным. Сделайте выводы и предположения.\n",
    "- Посчитайте статистическую значимость различий в среднем чеке заказа между группами по «очищенным» данным. Сделайте выводы и предположения.\n",
    "- Примите решение по результатам теста и объясните его. Варианты решений: 1. Остановить тест, зафиксировать победу одной из групп. 2. Остановить тест, зафиксировать отсутствие различий между группами. 3. Продолжить тест."
   ]
  },
  {
   "cell_type": "code",
   "execution_count": 1,
   "metadata": {},
   "outputs": [],
   "source": [
    "import pandas as pd\n",
    "import numpy as np\n",
    "import datetime as dt\n",
    "import seaborn as sns\n",
    "from matplotlib import pyplot as plt\n",
    "import scipy.stats as stats\n",
    "from pandas.plotting import register_matplotlib_converters\n",
    "import warnings\n",
    "register_matplotlib_converters()"
   ]
  },
  {
   "cell_type": "code",
   "execution_count": 2,
   "metadata": {},
   "outputs": [],
   "source": [
    "try:\n",
    "    hypothesis = pd.read_csv('hypothesis.csv')\n",
    "    orders = pd.read_csv('orders.csv')\n",
    "    visitors = pd.read_csv('visitors.csv')\n",
    "except:\n",
    "    hypothesis = pd.read_csv('/datasets/hypothesis.csv')\n",
    "    orders = pd.read_csv('/datasets/orders.csv')\n",
    "    visitors = pd.read_csv('/datasets/visitors.csv')"
   ]
  },
  {
   "cell_type": "code",
   "execution_count": 3,
   "metadata": {},
   "outputs": [],
   "source": [
    "hypothesis.columns = hypothesis.columns.str.lower()\n",
    "orders = orders.rename(columns = {'transactionId' : 'transaction_id', 'visitorId' : 'visitor_id'})"
   ]
  },
  {
   "cell_type": "code",
   "execution_count": 4,
   "metadata": {},
   "outputs": [
    {
     "data": {
      "text/html": [
       "<div>\n",
       "<style scoped>\n",
       "    .dataframe tbody tr th:only-of-type {\n",
       "        vertical-align: middle;\n",
       "    }\n",
       "\n",
       "    .dataframe tbody tr th {\n",
       "        vertical-align: top;\n",
       "    }\n",
       "\n",
       "    .dataframe thead th {\n",
       "        text-align: right;\n",
       "    }\n",
       "</style>\n",
       "<table border=\"1\" class=\"dataframe\">\n",
       "  <thead>\n",
       "    <tr style=\"text-align: right;\">\n",
       "      <th></th>\n",
       "      <th>hypothesis</th>\n",
       "      <th>reach</th>\n",
       "      <th>impact</th>\n",
       "      <th>confidence</th>\n",
       "      <th>efforts</th>\n",
       "    </tr>\n",
       "  </thead>\n",
       "  <tbody>\n",
       "    <tr>\n",
       "      <th>0</th>\n",
       "      <td>Добавить два новых канала привлечения трафика,...</td>\n",
       "      <td>3</td>\n",
       "      <td>10</td>\n",
       "      <td>8</td>\n",
       "      <td>6</td>\n",
       "    </tr>\n",
       "    <tr>\n",
       "      <th>1</th>\n",
       "      <td>Запустить собственную службу доставки, что сок...</td>\n",
       "      <td>2</td>\n",
       "      <td>5</td>\n",
       "      <td>4</td>\n",
       "      <td>10</td>\n",
       "    </tr>\n",
       "    <tr>\n",
       "      <th>2</th>\n",
       "      <td>Добавить блоки рекомендаций товаров на сайт ин...</td>\n",
       "      <td>8</td>\n",
       "      <td>3</td>\n",
       "      <td>7</td>\n",
       "      <td>3</td>\n",
       "    </tr>\n",
       "    <tr>\n",
       "      <th>3</th>\n",
       "      <td>Изменить структура категорий, что увеличит кон...</td>\n",
       "      <td>8</td>\n",
       "      <td>3</td>\n",
       "      <td>3</td>\n",
       "      <td>8</td>\n",
       "    </tr>\n",
       "    <tr>\n",
       "      <th>4</th>\n",
       "      <td>Изменить цвет фона главной страницы, чтобы уве...</td>\n",
       "      <td>3</td>\n",
       "      <td>1</td>\n",
       "      <td>1</td>\n",
       "      <td>1</td>\n",
       "    </tr>\n",
       "  </tbody>\n",
       "</table>\n",
       "</div>"
      ],
      "text/plain": [
       "                                          hypothesis  reach  impact  \\\n",
       "0  Добавить два новых канала привлечения трафика,...      3      10   \n",
       "1  Запустить собственную службу доставки, что сок...      2       5   \n",
       "2  Добавить блоки рекомендаций товаров на сайт ин...      8       3   \n",
       "3  Изменить структура категорий, что увеличит кон...      8       3   \n",
       "4  Изменить цвет фона главной страницы, чтобы уве...      3       1   \n",
       "\n",
       "   confidence  efforts  \n",
       "0           8        6  \n",
       "1           4       10  \n",
       "2           7        3  \n",
       "3           3        8  \n",
       "4           1        1  "
      ]
     },
     "metadata": {},
     "output_type": "display_data"
    },
    {
     "data": {
      "text/html": [
       "<div>\n",
       "<style scoped>\n",
       "    .dataframe tbody tr th:only-of-type {\n",
       "        vertical-align: middle;\n",
       "    }\n",
       "\n",
       "    .dataframe tbody tr th {\n",
       "        vertical-align: top;\n",
       "    }\n",
       "\n",
       "    .dataframe thead th {\n",
       "        text-align: right;\n",
       "    }\n",
       "</style>\n",
       "<table border=\"1\" class=\"dataframe\">\n",
       "  <thead>\n",
       "    <tr style=\"text-align: right;\">\n",
       "      <th></th>\n",
       "      <th>transaction_id</th>\n",
       "      <th>visitor_id</th>\n",
       "      <th>date</th>\n",
       "      <th>revenue</th>\n",
       "      <th>group</th>\n",
       "    </tr>\n",
       "  </thead>\n",
       "  <tbody>\n",
       "    <tr>\n",
       "      <th>0</th>\n",
       "      <td>3667963787</td>\n",
       "      <td>3312258926</td>\n",
       "      <td>2019-08-15</td>\n",
       "      <td>1650</td>\n",
       "      <td>B</td>\n",
       "    </tr>\n",
       "    <tr>\n",
       "      <th>1</th>\n",
       "      <td>2804400009</td>\n",
       "      <td>3642806036</td>\n",
       "      <td>2019-08-15</td>\n",
       "      <td>730</td>\n",
       "      <td>B</td>\n",
       "    </tr>\n",
       "    <tr>\n",
       "      <th>2</th>\n",
       "      <td>2961555356</td>\n",
       "      <td>4069496402</td>\n",
       "      <td>2019-08-15</td>\n",
       "      <td>400</td>\n",
       "      <td>A</td>\n",
       "    </tr>\n",
       "    <tr>\n",
       "      <th>3</th>\n",
       "      <td>3797467345</td>\n",
       "      <td>1196621759</td>\n",
       "      <td>2019-08-15</td>\n",
       "      <td>9759</td>\n",
       "      <td>B</td>\n",
       "    </tr>\n",
       "    <tr>\n",
       "      <th>4</th>\n",
       "      <td>2282983706</td>\n",
       "      <td>2322279887</td>\n",
       "      <td>2019-08-15</td>\n",
       "      <td>2308</td>\n",
       "      <td>B</td>\n",
       "    </tr>\n",
       "  </tbody>\n",
       "</table>\n",
       "</div>"
      ],
      "text/plain": [
       "   transaction_id  visitor_id        date  revenue group\n",
       "0      3667963787  3312258926  2019-08-15     1650     B\n",
       "1      2804400009  3642806036  2019-08-15      730     B\n",
       "2      2961555356  4069496402  2019-08-15      400     A\n",
       "3      3797467345  1196621759  2019-08-15     9759     B\n",
       "4      2282983706  2322279887  2019-08-15     2308     B"
      ]
     },
     "metadata": {},
     "output_type": "display_data"
    },
    {
     "data": {
      "text/html": [
       "<div>\n",
       "<style scoped>\n",
       "    .dataframe tbody tr th:only-of-type {\n",
       "        vertical-align: middle;\n",
       "    }\n",
       "\n",
       "    .dataframe tbody tr th {\n",
       "        vertical-align: top;\n",
       "    }\n",
       "\n",
       "    .dataframe thead th {\n",
       "        text-align: right;\n",
       "    }\n",
       "</style>\n",
       "<table border=\"1\" class=\"dataframe\">\n",
       "  <thead>\n",
       "    <tr style=\"text-align: right;\">\n",
       "      <th></th>\n",
       "      <th>date</th>\n",
       "      <th>group</th>\n",
       "      <th>visitors</th>\n",
       "    </tr>\n",
       "  </thead>\n",
       "  <tbody>\n",
       "    <tr>\n",
       "      <th>0</th>\n",
       "      <td>2019-08-01</td>\n",
       "      <td>A</td>\n",
       "      <td>719</td>\n",
       "    </tr>\n",
       "    <tr>\n",
       "      <th>1</th>\n",
       "      <td>2019-08-02</td>\n",
       "      <td>A</td>\n",
       "      <td>619</td>\n",
       "    </tr>\n",
       "    <tr>\n",
       "      <th>2</th>\n",
       "      <td>2019-08-03</td>\n",
       "      <td>A</td>\n",
       "      <td>507</td>\n",
       "    </tr>\n",
       "    <tr>\n",
       "      <th>3</th>\n",
       "      <td>2019-08-04</td>\n",
       "      <td>A</td>\n",
       "      <td>717</td>\n",
       "    </tr>\n",
       "    <tr>\n",
       "      <th>4</th>\n",
       "      <td>2019-08-05</td>\n",
       "      <td>A</td>\n",
       "      <td>756</td>\n",
       "    </tr>\n",
       "  </tbody>\n",
       "</table>\n",
       "</div>"
      ],
      "text/plain": [
       "         date group  visitors\n",
       "0  2019-08-01     A       719\n",
       "1  2019-08-02     A       619\n",
       "2  2019-08-03     A       507\n",
       "3  2019-08-04     A       717\n",
       "4  2019-08-05     A       756"
      ]
     },
     "metadata": {},
     "output_type": "display_data"
    }
   ],
   "source": [
    "display(hypothesis.head())\n",
    "display(orders.head())\n",
    "display(visitors.head())"
   ]
  },
  {
   "cell_type": "code",
   "execution_count": 5,
   "metadata": {},
   "outputs": [],
   "source": [
    "orders['date'] = orders['date'].map(\n",
    "    lambda x: dt.datetime.strptime(x, '%Y-%m-%d')\n",
    ")\n",
    "\n",
    "visitors['date'] = visitors['date'].map(\n",
    "    lambda x: dt.datetime.strptime(x, '%Y-%m-%d')\n",
    ")"
   ]
  },
  {
   "cell_type": "code",
   "execution_count": 6,
   "metadata": {},
   "outputs": [
    {
     "name": "stdout",
     "output_type": "stream",
     "text": [
      "<class 'pandas.core.frame.DataFrame'>\n",
      "RangeIndex: 9 entries, 0 to 8\n",
      "Data columns (total 5 columns):\n",
      " #   Column      Non-Null Count  Dtype \n",
      "---  ------      --------------  ----- \n",
      " 0   hypothesis  9 non-null      object\n",
      " 1   reach       9 non-null      int64 \n",
      " 2   impact      9 non-null      int64 \n",
      " 3   confidence  9 non-null      int64 \n",
      " 4   efforts     9 non-null      int64 \n",
      "dtypes: int64(4), object(1)\n",
      "memory usage: 488.0+ bytes\n",
      "\n",
      "<class 'pandas.core.frame.DataFrame'>\n",
      "RangeIndex: 1197 entries, 0 to 1196\n",
      "Data columns (total 5 columns):\n",
      " #   Column          Non-Null Count  Dtype         \n",
      "---  ------          --------------  -----         \n",
      " 0   transaction_id  1197 non-null   int64         \n",
      " 1   visitor_id      1197 non-null   int64         \n",
      " 2   date            1197 non-null   datetime64[ns]\n",
      " 3   revenue         1197 non-null   int64         \n",
      " 4   group           1197 non-null   object        \n",
      "dtypes: datetime64[ns](1), int64(3), object(1)\n",
      "memory usage: 46.9+ KB\n",
      "\n",
      "<class 'pandas.core.frame.DataFrame'>\n",
      "RangeIndex: 62 entries, 0 to 61\n",
      "Data columns (total 3 columns):\n",
      " #   Column    Non-Null Count  Dtype         \n",
      "---  ------    --------------  -----         \n",
      " 0   date      62 non-null     datetime64[ns]\n",
      " 1   group     62 non-null     object        \n",
      " 2   visitors  62 non-null     int64         \n",
      "dtypes: datetime64[ns](1), int64(1), object(1)\n",
      "memory usage: 1.6+ KB\n"
     ]
    }
   ],
   "source": [
    "hypothesis.info()\n",
    "print()\n",
    "orders.info()\n",
    "print()\n",
    "visitors.info()"
   ]
  },
  {
   "cell_type": "code",
   "execution_count": 7,
   "metadata": {},
   "outputs": [
    {
     "data": {
      "text/plain": [
       "array([   8300375,  199603092,  232979603,  237748145,  276558944,\n",
       "        351125977,  393266494,  457167155,  471551937,  477780734,\n",
       "        818047933,  963407295, 1230306981, 1294878855, 1316129916,\n",
       "       1333886533, 1404934699, 1602967004, 1614305549, 1648269707,\n",
       "       1668030113, 1738359350, 1801183820, 1959144690, 2038680547,\n",
       "       2044997962, 2378935119, 2458001652, 2579882178, 2587333274,\n",
       "       2600415354, 2654030115, 2686716486, 2712142231, 2716752286,\n",
       "       2780786433, 2927087541, 2949041841, 2954449915, 3062433592,\n",
       "       3202540741, 3234906277, 3656415546, 3717692402, 3766097110,\n",
       "       3803269165, 3891541246, 3941795274, 3951559397, 3957174400,\n",
       "       3963646447, 3972127743, 3984495233, 4069496402, 4120364173,\n",
       "       4186807279, 4256040402, 4266935830])"
      ]
     },
     "execution_count": 7,
     "metadata": {},
     "output_type": "execute_result"
    }
   ],
   "source": [
    "inter = np.intersect1d(orders.query('group == \"A\"')['visitor_id'].unique(), orders.query('group == \"B\"')['visitor_id'].unique())\n",
    "inter\n"
   ]
  },
  {
   "cell_type": "code",
   "execution_count": 8,
   "metadata": {},
   "outputs": [
    {
     "name": "stdout",
     "output_type": "stream",
     "text": [
      "количество повторяющихся пользователей в обеях группах: 4.8%\n"
     ]
    }
   ],
   "source": [
    "print('количество повторяющихся пользователей в обеях группах:' , '{0:.1%}'.format(len(inter) / len(orders['visitor_id'])))"
   ]
  },
  {
   "cell_type": "markdown",
   "metadata": {},
   "source": [
    "<div class = \"alert alert-info\" >\n",
    "    \n",
    "так как повторяющихся пользователей в обеех группах меньше 5% удалим их."
   ]
  },
  {
   "cell_type": "code",
   "execution_count": 9,
   "metadata": {},
   "outputs": [
    {
     "data": {
      "text/plain": [
       "array([], dtype=int64)"
      ]
     },
     "execution_count": 9,
     "metadata": {},
     "output_type": "execute_result"
    }
   ],
   "source": [
    "inter = np.intersect1d(orders.query('group == \"A\"')['visitor_id'].unique(), orders.query('group == \"B\"')['visitor_id'].unique())\n",
    "orders = orders[~orders['visitor_id'].isin(inter)]\n",
    "np.intersect1d(orders.query('group == \"A\"')['visitor_id'].unique(), orders.query('group == \"B\"')['visitor_id'].unique())"
   ]
  },
  {
   "cell_type": "code",
   "execution_count": 10,
   "metadata": {},
   "outputs": [
    {
     "name": "stdout",
     "output_type": "stream",
     "text": [
      "количество дубликатов hypothesis: 0\n",
      "количество дубликатов orders: 0\n",
      "количество дубликатов visitors: 0\n"
     ]
    }
   ],
   "source": [
    "print('количество дубликатов hypothesis:' , hypothesis.duplicated().sum())\n",
    "print('количество дубликатов orders:' , orders.duplicated().sum())\n",
    "print('количество дубликатов visitors:' , visitors.duplicated().sum())"
   ]
  },
  {
   "cell_type": "markdown",
   "metadata": {},
   "source": [
    "<div class = \"alert alert-info\" >\n",
    "\n",
    "Часть 1. Приоритизация гипотез\n",
    "    \n",
    "- Примените фреймворк ICE для приоритизации гипотез. Отсортируйте их по убыванию приоритета.\n",
    "    \n",
    "$$ICE = \\frac{Impact * Confidence}{Efforts}$$\n",
    "\n",
    "\n"
   ]
  },
  {
   "cell_type": "code",
   "execution_count": 11,
   "metadata": {},
   "outputs": [
    {
     "data": {
      "text/html": [
       "<div>\n",
       "<style scoped>\n",
       "    .dataframe tbody tr th:only-of-type {\n",
       "        vertical-align: middle;\n",
       "    }\n",
       "\n",
       "    .dataframe tbody tr th {\n",
       "        vertical-align: top;\n",
       "    }\n",
       "\n",
       "    .dataframe thead th {\n",
       "        text-align: right;\n",
       "    }\n",
       "</style>\n",
       "<table border=\"1\" class=\"dataframe\">\n",
       "  <thead>\n",
       "    <tr style=\"text-align: right;\">\n",
       "      <th></th>\n",
       "      <th>hypothesis</th>\n",
       "      <th>ICE</th>\n",
       "    </tr>\n",
       "  </thead>\n",
       "  <tbody>\n",
       "    <tr>\n",
       "      <th>8</th>\n",
       "      <td>Запустить акцию, дающую скидку на товар в день...</td>\n",
       "      <td>16.200000</td>\n",
       "    </tr>\n",
       "    <tr>\n",
       "      <th>0</th>\n",
       "      <td>Добавить два новых канала привлечения трафика,...</td>\n",
       "      <td>13.333333</td>\n",
       "    </tr>\n",
       "    <tr>\n",
       "      <th>7</th>\n",
       "      <td>Добавить форму подписки на все основные страни...</td>\n",
       "      <td>11.200000</td>\n",
       "    </tr>\n",
       "    <tr>\n",
       "      <th>6</th>\n",
       "      <td>Показать на главной странице баннеры с актуаль...</td>\n",
       "      <td>8.000000</td>\n",
       "    </tr>\n",
       "    <tr>\n",
       "      <th>2</th>\n",
       "      <td>Добавить блоки рекомендаций товаров на сайт ин...</td>\n",
       "      <td>7.000000</td>\n",
       "    </tr>\n",
       "    <tr>\n",
       "      <th>1</th>\n",
       "      <td>Запустить собственную службу доставки, что сок...</td>\n",
       "      <td>2.000000</td>\n",
       "    </tr>\n",
       "    <tr>\n",
       "      <th>5</th>\n",
       "      <td>Добавить страницу отзывов клиентов о магазине,...</td>\n",
       "      <td>1.333333</td>\n",
       "    </tr>\n",
       "    <tr>\n",
       "      <th>3</th>\n",
       "      <td>Изменить структура категорий, что увеличит кон...</td>\n",
       "      <td>1.125000</td>\n",
       "    </tr>\n",
       "    <tr>\n",
       "      <th>4</th>\n",
       "      <td>Изменить цвет фона главной страницы, чтобы уве...</td>\n",
       "      <td>1.000000</td>\n",
       "    </tr>\n",
       "  </tbody>\n",
       "</table>\n",
       "</div>"
      ],
      "text/plain": [
       "                                          hypothesis        ICE\n",
       "8  Запустить акцию, дающую скидку на товар в день...  16.200000\n",
       "0  Добавить два новых канала привлечения трафика,...  13.333333\n",
       "7  Добавить форму подписки на все основные страни...  11.200000\n",
       "6  Показать на главной странице баннеры с актуаль...   8.000000\n",
       "2  Добавить блоки рекомендаций товаров на сайт ин...   7.000000\n",
       "1  Запустить собственную службу доставки, что сок...   2.000000\n",
       "5  Добавить страницу отзывов клиентов о магазине,...   1.333333\n",
       "3  Изменить структура категорий, что увеличит кон...   1.125000\n",
       "4  Изменить цвет фона главной страницы, чтобы уве...   1.000000"
      ]
     },
     "execution_count": 11,
     "metadata": {},
     "output_type": "execute_result"
    }
   ],
   "source": [
    "hypothesis['ICE'] = (hypothesis['impact'] * hypothesis['confidence'])/hypothesis['efforts']\n",
    "\n",
    "hypothesis[['hypothesis', 'ICE']].sort_values(by='ICE', ascending=False)"
   ]
  },
  {
   "cell_type": "markdown",
   "metadata": {},
   "source": [
    "<div class = \"alert alert-info\" >\n",
    "    \n",
    "- Примените фреймворк RICE для приоритизации гипотез. Отсортируйте их по убыванию приоритета.\n",
    "    \n",
    "$$RICE = \\frac{Rearch * Impact * Confidence}{Efforts}$$"
   ]
  },
  {
   "cell_type": "code",
   "execution_count": 12,
   "metadata": {},
   "outputs": [
    {
     "data": {
      "text/html": [
       "<div>\n",
       "<style scoped>\n",
       "    .dataframe tbody tr th:only-of-type {\n",
       "        vertical-align: middle;\n",
       "    }\n",
       "\n",
       "    .dataframe tbody tr th {\n",
       "        vertical-align: top;\n",
       "    }\n",
       "\n",
       "    .dataframe thead th {\n",
       "        text-align: right;\n",
       "    }\n",
       "</style>\n",
       "<table border=\"1\" class=\"dataframe\">\n",
       "  <thead>\n",
       "    <tr style=\"text-align: right;\">\n",
       "      <th></th>\n",
       "      <th>hypothesis</th>\n",
       "      <th>RICE</th>\n",
       "    </tr>\n",
       "  </thead>\n",
       "  <tbody>\n",
       "    <tr>\n",
       "      <th>7</th>\n",
       "      <td>Добавить форму подписки на все основные страни...</td>\n",
       "      <td>112.0</td>\n",
       "    </tr>\n",
       "    <tr>\n",
       "      <th>2</th>\n",
       "      <td>Добавить блоки рекомендаций товаров на сайт ин...</td>\n",
       "      <td>56.0</td>\n",
       "    </tr>\n",
       "    <tr>\n",
       "      <th>0</th>\n",
       "      <td>Добавить два новых канала привлечения трафика,...</td>\n",
       "      <td>40.0</td>\n",
       "    </tr>\n",
       "    <tr>\n",
       "      <th>6</th>\n",
       "      <td>Показать на главной странице баннеры с актуаль...</td>\n",
       "      <td>40.0</td>\n",
       "    </tr>\n",
       "    <tr>\n",
       "      <th>8</th>\n",
       "      <td>Запустить акцию, дающую скидку на товар в день...</td>\n",
       "      <td>16.2</td>\n",
       "    </tr>\n",
       "    <tr>\n",
       "      <th>3</th>\n",
       "      <td>Изменить структура категорий, что увеличит кон...</td>\n",
       "      <td>9.0</td>\n",
       "    </tr>\n",
       "    <tr>\n",
       "      <th>1</th>\n",
       "      <td>Запустить собственную службу доставки, что сок...</td>\n",
       "      <td>4.0</td>\n",
       "    </tr>\n",
       "    <tr>\n",
       "      <th>5</th>\n",
       "      <td>Добавить страницу отзывов клиентов о магазине,...</td>\n",
       "      <td>4.0</td>\n",
       "    </tr>\n",
       "    <tr>\n",
       "      <th>4</th>\n",
       "      <td>Изменить цвет фона главной страницы, чтобы уве...</td>\n",
       "      <td>3.0</td>\n",
       "    </tr>\n",
       "  </tbody>\n",
       "</table>\n",
       "</div>"
      ],
      "text/plain": [
       "                                          hypothesis   RICE\n",
       "7  Добавить форму подписки на все основные страни...  112.0\n",
       "2  Добавить блоки рекомендаций товаров на сайт ин...   56.0\n",
       "0  Добавить два новых канала привлечения трафика,...   40.0\n",
       "6  Показать на главной странице баннеры с актуаль...   40.0\n",
       "8  Запустить акцию, дающую скидку на товар в день...   16.2\n",
       "3  Изменить структура категорий, что увеличит кон...    9.0\n",
       "1  Запустить собственную службу доставки, что сок...    4.0\n",
       "5  Добавить страницу отзывов клиентов о магазине,...    4.0\n",
       "4  Изменить цвет фона главной страницы, чтобы уве...    3.0"
      ]
     },
     "execution_count": 12,
     "metadata": {},
     "output_type": "execute_result"
    }
   ],
   "source": [
    "hypothesis['RICE'] = (hypothesis['reach'] * hypothesis['impact'] * hypothesis['confidence'])/hypothesis['efforts']\n",
    "\n",
    "hypothesis[['hypothesis', 'RICE']].sort_values(by='RICE', ascending=False)"
   ]
  },
  {
   "cell_type": "code",
   "execution_count": 13,
   "metadata": {},
   "outputs": [
    {
     "data": {
      "text/html": [
       "<style  type=\"text/css\" >\n",
       "    #T_4daef_ hypothesis {\n",
       "          text-align: center;\n",
       "    }</style><table id=\"T_4daef_\" ><thead>    <tr>        <th class=\"blank level0\" ></th>        <th class=\"col_heading level0 col0\" >hypothesis</th>        <th class=\"col_heading level0 col1\" >reach</th>        <th class=\"col_heading level0 col2\" >impact</th>        <th class=\"col_heading level0 col3\" >confidence</th>        <th class=\"col_heading level0 col4\" >efforts</th>        <th class=\"col_heading level0 col5\" >ICE</th>        <th class=\"col_heading level0 col6\" >RICE</th>    </tr></thead><tbody>\n",
       "                <tr>\n",
       "                        <th id=\"T_4daef_level0_row0\" class=\"row_heading level0 row0\" >0</th>\n",
       "                        <td id=\"T_4daef_row0_col0\" class=\"data row0 col0\" >Добавить два новых канала привлечения трафика, что позволит привлекать на 30% больше пользователей</td>\n",
       "                        <td id=\"T_4daef_row0_col1\" class=\"data row0 col1\" >3</td>\n",
       "                        <td id=\"T_4daef_row0_col2\" class=\"data row0 col2\" >10</td>\n",
       "                        <td id=\"T_4daef_row0_col3\" class=\"data row0 col3\" >8</td>\n",
       "                        <td id=\"T_4daef_row0_col4\" class=\"data row0 col4\" >6</td>\n",
       "                        <td id=\"T_4daef_row0_col5\" class=\"data row0 col5\" >13.333333</td>\n",
       "                        <td id=\"T_4daef_row0_col6\" class=\"data row0 col6\" >40.000000</td>\n",
       "            </tr>\n",
       "            <tr>\n",
       "                        <th id=\"T_4daef_level0_row1\" class=\"row_heading level0 row1\" >1</th>\n",
       "                        <td id=\"T_4daef_row1_col0\" class=\"data row1 col0\" >Запустить собственную службу доставки, что сократит срок доставки заказов</td>\n",
       "                        <td id=\"T_4daef_row1_col1\" class=\"data row1 col1\" >2</td>\n",
       "                        <td id=\"T_4daef_row1_col2\" class=\"data row1 col2\" >5</td>\n",
       "                        <td id=\"T_4daef_row1_col3\" class=\"data row1 col3\" >4</td>\n",
       "                        <td id=\"T_4daef_row1_col4\" class=\"data row1 col4\" >10</td>\n",
       "                        <td id=\"T_4daef_row1_col5\" class=\"data row1 col5\" >2.000000</td>\n",
       "                        <td id=\"T_4daef_row1_col6\" class=\"data row1 col6\" >4.000000</td>\n",
       "            </tr>\n",
       "            <tr>\n",
       "                        <th id=\"T_4daef_level0_row2\" class=\"row_heading level0 row2\" >2</th>\n",
       "                        <td id=\"T_4daef_row2_col0\" class=\"data row2 col0\" >Добавить блоки рекомендаций товаров на сайт интернет магазина, чтобы повысить конверсию и средний чек заказа</td>\n",
       "                        <td id=\"T_4daef_row2_col1\" class=\"data row2 col1\" >8</td>\n",
       "                        <td id=\"T_4daef_row2_col2\" class=\"data row2 col2\" >3</td>\n",
       "                        <td id=\"T_4daef_row2_col3\" class=\"data row2 col3\" >7</td>\n",
       "                        <td id=\"T_4daef_row2_col4\" class=\"data row2 col4\" >3</td>\n",
       "                        <td id=\"T_4daef_row2_col5\" class=\"data row2 col5\" >7.000000</td>\n",
       "                        <td id=\"T_4daef_row2_col6\" class=\"data row2 col6\" >56.000000</td>\n",
       "            </tr>\n",
       "            <tr>\n",
       "                        <th id=\"T_4daef_level0_row3\" class=\"row_heading level0 row3\" >3</th>\n",
       "                        <td id=\"T_4daef_row3_col0\" class=\"data row3 col0\" >Изменить структура категорий, что увеличит конверсию, т.к. пользователи быстрее найдут нужный товар</td>\n",
       "                        <td id=\"T_4daef_row3_col1\" class=\"data row3 col1\" >8</td>\n",
       "                        <td id=\"T_4daef_row3_col2\" class=\"data row3 col2\" >3</td>\n",
       "                        <td id=\"T_4daef_row3_col3\" class=\"data row3 col3\" >3</td>\n",
       "                        <td id=\"T_4daef_row3_col4\" class=\"data row3 col4\" >8</td>\n",
       "                        <td id=\"T_4daef_row3_col5\" class=\"data row3 col5\" >1.125000</td>\n",
       "                        <td id=\"T_4daef_row3_col6\" class=\"data row3 col6\" >9.000000</td>\n",
       "            </tr>\n",
       "            <tr>\n",
       "                        <th id=\"T_4daef_level0_row4\" class=\"row_heading level0 row4\" >4</th>\n",
       "                        <td id=\"T_4daef_row4_col0\" class=\"data row4 col0\" >Изменить цвет фона главной страницы, чтобы увеличить вовлеченность пользователей</td>\n",
       "                        <td id=\"T_4daef_row4_col1\" class=\"data row4 col1\" >3</td>\n",
       "                        <td id=\"T_4daef_row4_col2\" class=\"data row4 col2\" >1</td>\n",
       "                        <td id=\"T_4daef_row4_col3\" class=\"data row4 col3\" >1</td>\n",
       "                        <td id=\"T_4daef_row4_col4\" class=\"data row4 col4\" >1</td>\n",
       "                        <td id=\"T_4daef_row4_col5\" class=\"data row4 col5\" >1.000000</td>\n",
       "                        <td id=\"T_4daef_row4_col6\" class=\"data row4 col6\" >3.000000</td>\n",
       "            </tr>\n",
       "            <tr>\n",
       "                        <th id=\"T_4daef_level0_row5\" class=\"row_heading level0 row5\" >5</th>\n",
       "                        <td id=\"T_4daef_row5_col0\" class=\"data row5 col0\" >Добавить страницу отзывов клиентов о магазине, что позволит увеличить количество заказов</td>\n",
       "                        <td id=\"T_4daef_row5_col1\" class=\"data row5 col1\" >3</td>\n",
       "                        <td id=\"T_4daef_row5_col2\" class=\"data row5 col2\" >2</td>\n",
       "                        <td id=\"T_4daef_row5_col3\" class=\"data row5 col3\" >2</td>\n",
       "                        <td id=\"T_4daef_row5_col4\" class=\"data row5 col4\" >3</td>\n",
       "                        <td id=\"T_4daef_row5_col5\" class=\"data row5 col5\" >1.333333</td>\n",
       "                        <td id=\"T_4daef_row5_col6\" class=\"data row5 col6\" >4.000000</td>\n",
       "            </tr>\n",
       "            <tr>\n",
       "                        <th id=\"T_4daef_level0_row6\" class=\"row_heading level0 row6\" >6</th>\n",
       "                        <td id=\"T_4daef_row6_col0\" class=\"data row6 col0\" >Показать на главной странице баннеры с актуальными акциями и распродажами, чтобы увеличить конверсию</td>\n",
       "                        <td id=\"T_4daef_row6_col1\" class=\"data row6 col1\" >5</td>\n",
       "                        <td id=\"T_4daef_row6_col2\" class=\"data row6 col2\" >3</td>\n",
       "                        <td id=\"T_4daef_row6_col3\" class=\"data row6 col3\" >8</td>\n",
       "                        <td id=\"T_4daef_row6_col4\" class=\"data row6 col4\" >3</td>\n",
       "                        <td id=\"T_4daef_row6_col5\" class=\"data row6 col5\" >8.000000</td>\n",
       "                        <td id=\"T_4daef_row6_col6\" class=\"data row6 col6\" >40.000000</td>\n",
       "            </tr>\n",
       "            <tr>\n",
       "                        <th id=\"T_4daef_level0_row7\" class=\"row_heading level0 row7\" >7</th>\n",
       "                        <td id=\"T_4daef_row7_col0\" class=\"data row7 col0\" >Добавить форму подписки на все основные страницы, чтобы собрать базу клиентов для email-рассылок</td>\n",
       "                        <td id=\"T_4daef_row7_col1\" class=\"data row7 col1\" >10</td>\n",
       "                        <td id=\"T_4daef_row7_col2\" class=\"data row7 col2\" >7</td>\n",
       "                        <td id=\"T_4daef_row7_col3\" class=\"data row7 col3\" >8</td>\n",
       "                        <td id=\"T_4daef_row7_col4\" class=\"data row7 col4\" >5</td>\n",
       "                        <td id=\"T_4daef_row7_col5\" class=\"data row7 col5\" >11.200000</td>\n",
       "                        <td id=\"T_4daef_row7_col6\" class=\"data row7 col6\" >112.000000</td>\n",
       "            </tr>\n",
       "            <tr>\n",
       "                        <th id=\"T_4daef_level0_row8\" class=\"row_heading level0 row8\" >8</th>\n",
       "                        <td id=\"T_4daef_row8_col0\" class=\"data row8 col0\" >Запустить акцию, дающую скидку на товар в день рождения</td>\n",
       "                        <td id=\"T_4daef_row8_col1\" class=\"data row8 col1\" >1</td>\n",
       "                        <td id=\"T_4daef_row8_col2\" class=\"data row8 col2\" >9</td>\n",
       "                        <td id=\"T_4daef_row8_col3\" class=\"data row8 col3\" >9</td>\n",
       "                        <td id=\"T_4daef_row8_col4\" class=\"data row8 col4\" >5</td>\n",
       "                        <td id=\"T_4daef_row8_col5\" class=\"data row8 col5\" >16.200000</td>\n",
       "                        <td id=\"T_4daef_row8_col6\" class=\"data row8 col6\" >16.200000</td>\n",
       "            </tr>\n",
       "    </tbody></table>"
      ],
      "text/plain": [
       "<pandas.io.formats.style.Styler at 0x7f8ff57cc610>"
      ]
     },
     "execution_count": 13,
     "metadata": {},
     "output_type": "execute_result"
    }
   ],
   "source": [
    "hypothesis.style.set_table_styles([dict(selector='hypothesis', props=[('text-align', 'center')])])"
   ]
  },
  {
   "cell_type": "markdown",
   "metadata": {},
   "source": [
    "<div class = \"alert alert-info\" >\n",
    "\n",
    "- Укажите, как изменилась приоритизация гипотез при применении RICE вместо ICE. Объясните, почему так произошло.\n",
    "    \n",
    "<div style=\"background:#d4d6fa; color:#000; padding:10px\">\n",
    "    \n",
    "При премимении фреймворка ICE самыми перспективными гипотезами получились гипотезы по номерами 8, 0, 7, 6, 2,\n",
    "\n",
    "а в случае применения фреймворка RICE самыми перспективными гипотезами получились гипотезы по номерами 7, 2, 0, 6, 8,\n",
    "    \n",
    "так произошло из за того, что в 7 и 2 гипотезах высокая оценка \"reach\" которая отвечает за обхват пользователей, по которой и расчитывается фреймворк RICE"
   ]
  },
  {
   "cell_type": "markdown",
   "metadata": {},
   "source": [
    "<div class = \"alert alert-info\" >\n",
    "Часть 2. Анализ A/B-теста. Проанализируйте A/B-тест:\n",
    "    \n",
    "- 1. Постройте график кумулятивной выручки по группам. Сделайте выводы и предположения."
   ]
  },
  {
   "cell_type": "code",
   "execution_count": 14,
   "metadata": {},
   "outputs": [
    {
     "data": {
      "text/html": [
       "<div>\n",
       "<style scoped>\n",
       "    .dataframe tbody tr th:only-of-type {\n",
       "        vertical-align: middle;\n",
       "    }\n",
       "\n",
       "    .dataframe tbody tr th {\n",
       "        vertical-align: top;\n",
       "    }\n",
       "\n",
       "    .dataframe thead th {\n",
       "        text-align: right;\n",
       "    }\n",
       "</style>\n",
       "<table border=\"1\" class=\"dataframe\">\n",
       "  <thead>\n",
       "    <tr style=\"text-align: right;\">\n",
       "      <th></th>\n",
       "      <th>transaction_id</th>\n",
       "      <th>visitor_id</th>\n",
       "      <th>date</th>\n",
       "      <th>revenue</th>\n",
       "      <th>group</th>\n",
       "    </tr>\n",
       "  </thead>\n",
       "  <tbody>\n",
       "    <tr>\n",
       "      <th>0</th>\n",
       "      <td>3667963787</td>\n",
       "      <td>3312258926</td>\n",
       "      <td>2019-08-15</td>\n",
       "      <td>1650</td>\n",
       "      <td>B</td>\n",
       "    </tr>\n",
       "    <tr>\n",
       "      <th>1</th>\n",
       "      <td>2804400009</td>\n",
       "      <td>3642806036</td>\n",
       "      <td>2019-08-15</td>\n",
       "      <td>730</td>\n",
       "      <td>B</td>\n",
       "    </tr>\n",
       "    <tr>\n",
       "      <th>3</th>\n",
       "      <td>3797467345</td>\n",
       "      <td>1196621759</td>\n",
       "      <td>2019-08-15</td>\n",
       "      <td>9759</td>\n",
       "      <td>B</td>\n",
       "    </tr>\n",
       "    <tr>\n",
       "      <th>4</th>\n",
       "      <td>2282983706</td>\n",
       "      <td>2322279887</td>\n",
       "      <td>2019-08-15</td>\n",
       "      <td>2308</td>\n",
       "      <td>B</td>\n",
       "    </tr>\n",
       "    <tr>\n",
       "      <th>5</th>\n",
       "      <td>182168103</td>\n",
       "      <td>935554773</td>\n",
       "      <td>2019-08-15</td>\n",
       "      <td>2210</td>\n",
       "      <td>B</td>\n",
       "    </tr>\n",
       "  </tbody>\n",
       "</table>\n",
       "</div>"
      ],
      "text/plain": [
       "   transaction_id  visitor_id       date  revenue group\n",
       "0      3667963787  3312258926 2019-08-15     1650     B\n",
       "1      2804400009  3642806036 2019-08-15      730     B\n",
       "3      3797467345  1196621759 2019-08-15     9759     B\n",
       "4      2282983706  2322279887 2019-08-15     2308     B\n",
       "5       182168103   935554773 2019-08-15     2210     B"
      ]
     },
     "metadata": {},
     "output_type": "display_data"
    },
    {
     "data": {
      "text/html": [
       "<div>\n",
       "<style scoped>\n",
       "    .dataframe tbody tr th:only-of-type {\n",
       "        vertical-align: middle;\n",
       "    }\n",
       "\n",
       "    .dataframe tbody tr th {\n",
       "        vertical-align: top;\n",
       "    }\n",
       "\n",
       "    .dataframe thead th {\n",
       "        text-align: right;\n",
       "    }\n",
       "</style>\n",
       "<table border=\"1\" class=\"dataframe\">\n",
       "  <thead>\n",
       "    <tr style=\"text-align: right;\">\n",
       "      <th></th>\n",
       "      <th>date</th>\n",
       "      <th>group</th>\n",
       "      <th>visitors</th>\n",
       "    </tr>\n",
       "  </thead>\n",
       "  <tbody>\n",
       "    <tr>\n",
       "      <th>0</th>\n",
       "      <td>2019-08-01</td>\n",
       "      <td>A</td>\n",
       "      <td>719</td>\n",
       "    </tr>\n",
       "    <tr>\n",
       "      <th>1</th>\n",
       "      <td>2019-08-02</td>\n",
       "      <td>A</td>\n",
       "      <td>619</td>\n",
       "    </tr>\n",
       "    <tr>\n",
       "      <th>2</th>\n",
       "      <td>2019-08-03</td>\n",
       "      <td>A</td>\n",
       "      <td>507</td>\n",
       "    </tr>\n",
       "    <tr>\n",
       "      <th>3</th>\n",
       "      <td>2019-08-04</td>\n",
       "      <td>A</td>\n",
       "      <td>717</td>\n",
       "    </tr>\n",
       "    <tr>\n",
       "      <th>4</th>\n",
       "      <td>2019-08-05</td>\n",
       "      <td>A</td>\n",
       "      <td>756</td>\n",
       "    </tr>\n",
       "  </tbody>\n",
       "</table>\n",
       "</div>"
      ],
      "text/plain": [
       "        date group  visitors\n",
       "0 2019-08-01     A       719\n",
       "1 2019-08-02     A       619\n",
       "2 2019-08-03     A       507\n",
       "3 2019-08-04     A       717\n",
       "4 2019-08-05     A       756"
      ]
     },
     "metadata": {},
     "output_type": "display_data"
    }
   ],
   "source": [
    "display(orders.head())\n",
    "display(visitors.head())"
   ]
  },
  {
   "cell_type": "code",
   "execution_count": 15,
   "metadata": {},
   "outputs": [
    {
     "data": {
      "image/png": "[encoded data removed]",
      "text/plain": [
       "<Figure size 1080x432 with 1 Axes>"
      ]
     },
     "metadata": {
      "needs_background": "light"
     },
     "output_type": "display_data"
    }
   ],
   "source": [
    "\n",
    "datesGroups = orders[['date', 'group']].drop_duplicates()\n",
    "\n",
    "ordersAggregated = datesGroups.apply(\n",
    "    lambda x: orders[\n",
    "        np.logical_and(\n",
    "            orders['date'] <= x['date'], orders['group'] == x['group']\n",
    "        )\n",
    "    ].agg(\n",
    "        {\n",
    "            'date': 'max',\n",
    "            'group': 'max',\n",
    "            'transaction_id': 'nunique',\n",
    "            'visitor_id': 'nunique',\n",
    "            'revenue': 'sum',\n",
    "        }\n",
    "    ),\n",
    "    axis=1,\n",
    ").sort_values(by=['date', 'group'])\n",
    "\n",
    "visitorsAggregated = datesGroups.apply(\n",
    "    lambda x: visitors[\n",
    "        np.logical_and(\n",
    "            visitors['date'] <= x['date'], visitors['group'] == x['group']\n",
    "        )\n",
    "    ].agg({'date': 'max', 'group': 'max', 'visitors': 'sum'}),\n",
    "    axis=1,\n",
    ").sort_values(by=['date', 'group'])\n",
    "\n",
    "cumulativeData = ordersAggregated.merge(\n",
    "    visitorsAggregated, left_on=['date', 'group'], right_on=['date', 'group']\n",
    ")\n",
    "cumulativeData.columns = [\n",
    "    'date',\n",
    "    'group',\n",
    "    'orders',\n",
    "    'buyers',\n",
    "    'revenue',\n",
    "    'visitors',\n",
    "]\n",
    "\n",
    "cumulativeRevenueA = cumulativeData[cumulativeData['group']=='A'][['date','revenue', 'orders']]\n",
    "cumulativeRevenueB = cumulativeData[cumulativeData['group']=='B'][['date','revenue', 'orders']]\n",
    "plt.figure(figsize=(15, 6))\n",
    "\n",
    "plt.plot(cumulativeRevenueA['date'], cumulativeRevenueA['revenue'], label='A')\n",
    "\n",
    "# Строим график выручки группы B\n",
    "plt.plot(cumulativeRevenueB['date'], cumulativeRevenueB['revenue'], label='B')\n",
    "plt.legend() \n",
    "plt.xticks(rotation=30)\n",
    "plt.title(\"Кумулятивная выручка по группам\")\n",
    "plt.xlabel('Дата, день')\n",
    "plt.ylabel('Выручка');"
   ]
  },
  {
   "cell_type": "markdown",
   "metadata": {},
   "source": [
    "<div style=\"background:#d4d6fa; color:#000; padding:10px\">\n",
    "   \n",
    "сигмент В с 5 августа вырывается вперед сегмента а и в последующим отрывается выше 18 августа был резкий скачек сигмента В возможно анамалии"
   ]
  },
  {
   "cell_type": "markdown",
   "metadata": {},
   "source": [
    "<div class = \"alert alert-info\" >\n",
    "\n",
    "- 2. Постройте график кумулятивного среднего чека по группам. Сделайте выводы и предположения."
   ]
  },
  {
   "cell_type": "code",
   "execution_count": 16,
   "metadata": {
    "scrolled": false
   },
   "outputs": [
    {
     "data": {
      "image/png": "[encoded data removed]",
      "text/plain": [
       "<Figure size 1080x432 with 1 Axes>"
      ]
     },
     "metadata": {
      "needs_background": "light"
     },
     "output_type": "display_data"
    }
   ],
   "source": [
    "cumulativeRevenueA = cumulativeData[cumulativeData['group'] == 'A'][\n",
    "    ['date', 'revenue', 'orders']\n",
    "]\n",
    "cumulativeRevenueB = cumulativeData[cumulativeData['group'] == 'B'][\n",
    "    ['date', 'revenue', 'orders']\n",
    "]\n",
    "plt.figure(figsize=(15, 6))\n",
    "plt.plot(cumulativeRevenueA['date'], cumulativeRevenueA['revenue']/cumulativeRevenueA['orders'], label='A')\n",
    "plt.plot(cumulativeRevenueB['date'], cumulativeRevenueB['revenue']/cumulativeRevenueB['orders'], label='B')\n",
    "plt.legend() \n",
    "plt.xticks(rotation=30)\n",
    "plt.title(\"График кумулятивного среднего чека по группам\")\n",
    "plt.xlabel('Дата, день')\n",
    "plt.ylabel('Средний чек');"
   ]
  },
  {
   "cell_type": "markdown",
   "metadata": {},
   "source": [
    "<div style=\"background:#d4d6fa; color:#000; padding:10px\">\n",
    "   \n",
    "так же как с выручкой сигмент В превосходит сигмет А и в сигменте В есть резкий скачек среднего чека 18 августа, возможно выброс"
   ]
  },
  {
   "cell_type": "markdown",
   "metadata": {},
   "source": [
    "<div class = \"alert alert-info\" >\n",
    "\n",
    "- 3. Постройте график относительного изменения кумулятивного среднего чека группы B к группе A. Сделайте выводы и предположения."
   ]
  },
  {
   "cell_type": "code",
   "execution_count": 17,
   "metadata": {},
   "outputs": [
    {
     "data": {
      "image/png": "[encoded data removed]",
      "text/plain": [
       "<Figure size 1080x432 with 1 Axes>"
      ]
     },
     "metadata": {
      "needs_background": "light"
     },
     "output_type": "display_data"
    }
   ],
   "source": [
    "# собираем данные в одном датафрейме\n",
    "mergedCumulativeRevenue = cumulativeRevenueA.merge(cumulativeRevenueB, left_on='date', right_on='date', how='left', suffixes=['A', 'B'])\n",
    "plt.figure(figsize=(15, 6))\n",
    "# cтроим отношение средних чеков\n",
    "plt.plot(mergedCumulativeRevenue['date'], (mergedCumulativeRevenue['revenueB']/mergedCumulativeRevenue['ordersB'])/(mergedCumulativeRevenue['revenueA']/mergedCumulativeRevenue['ordersA'])-1, label=\"Изменения кумулятивного среднего чека группы B к группе A\")\n",
    "\n",
    "# добавляем ось X\n",
    "plt.axhline(y=0, color='black', linestyle='--')\n",
    "\n",
    "plt.legend() \n",
    "plt.xticks(rotation=30)\n",
    "plt.title(\"График относительного изменения кумулятивного среднего чека\")\n",
    "plt.xlabel('Дата, день')\n",
    "plt.ylabel('% изменения');"
   ]
  },
  {
   "cell_type": "markdown",
   "metadata": {},
   "source": [
    "<div style=\"background:#d4d6fa; color:#000; padding:10px\">\n",
    "    \n",
    "значения меняются резко скорее всего выбросы именно в эти даты"
   ]
  },
  {
   "cell_type": "markdown",
   "metadata": {},
   "source": [
    "<div class = \"alert alert-info\" >\n",
    "\n",
    "- 4. Постройте график кумулятивной конверсии по группам. Сделайте выводы и предположения."
   ]
  },
  {
   "cell_type": "code",
   "execution_count": 18,
   "metadata": {},
   "outputs": [
    {
     "data": {
      "image/png": "[encoded data removed]",
      "text/plain": [
       "<Figure size 1080x432 with 1 Axes>"
      ]
     },
     "metadata": {
      "needs_background": "light"
     },
     "output_type": "display_data"
    }
   ],
   "source": [
    "# считаем кумулятивную конверсию\n",
    "cumulativeData['conversion'] = cumulativeData['orders']/cumulativeData['visitors']\n",
    "\n",
    "# отделяем данные по группе A\n",
    "cumulativeDataA = cumulativeData[cumulativeData['group']=='A']\n",
    "\n",
    "# отделяем данные по группе B\n",
    "cumulativeDataB = cumulativeData[cumulativeData['group']=='B']\n",
    "\n",
    "# строим графики\n",
    "plt.figure(figsize=(15, 6))\n",
    "plt.plot(cumulativeDataA['date'], cumulativeDataA['conversion'], label='A')\n",
    "plt.plot(cumulativeDataB['date'], cumulativeDataB['conversion'], label='B')\n",
    "\n",
    "# задаем масштаб осей\n",
    "plt.axis([dt.datetime(2019, 8, 1), dt.datetime(2019, 9, 1), 0.01, 0.05])\n",
    "\n",
    "plt.legend() \n",
    "plt.xticks(rotation=30)\n",
    "plt.title(\"График кумулятивной конверсии по группам\")\n",
    "plt.xlabel('Дата, день')\n",
    "plt.ylabel('конверсия');"
   ]
  },
  {
   "cell_type": "markdown",
   "metadata": {},
   "source": [
    "<div style=\"background:#d4d6fa; color:#000; padding:10px\">\n",
    "\n",
    "Изначально сигмент А имел большую конверсию но в последующим сигмент В превысил сигмент А и держался выше до конца теста"
   ]
  },
  {
   "cell_type": "markdown",
   "metadata": {},
   "source": [
    "<div class = \"alert alert-info\" >\n",
    "\n",
    "- 5. Постройте график относительного изменения кумулятивной конверсии группы B к группе A. Сделайте выводы и предположения."
   ]
  },
  {
   "cell_type": "code",
   "execution_count": 19,
   "metadata": {},
   "outputs": [
    {
     "data": {
      "image/png": "[encoded data removed]",
      "text/plain": [
       "<Figure size 1080x432 with 1 Axes>"
      ]
     },
     "metadata": {
      "needs_background": "light"
     },
     "output_type": "display_data"
    }
   ],
   "source": [
    "\n",
    "mergedCumulativeConversions = cumulativeDataA[['date','conversion']].merge(cumulativeDataB[['date','conversion']], left_on='date', right_on='date', how='left', suffixes=['A', 'B'])\n",
    "plt.figure(figsize=(15, 6))\n",
    "plt.plot(mergedCumulativeConversions['date'], mergedCumulativeConversions['conversionB']/mergedCumulativeConversions['conversionA']-1, label=\"Относительный прирост конверсии группы B относительно группы A\")\n",
    "\n",
    "plt.axhline(y=0, color='black', linestyle='--')\n",
    "plt.axhline(y=0.15, color='r', linestyle='--')\n",
    "plt.axis([\"2019-08-1\", '2019-09-1', -0.5, 0.5])\n",
    "\n",
    "plt.legend() \n",
    "plt.xticks(rotation=30)\n",
    "plt.title(\"График относительного изменения кумулятивной конверсии\")\n",
    "plt.xlabel('Дата, день')\n",
    "plt.ylabel('% конверсии');"
   ]
  },
  {
   "cell_type": "markdown",
   "metadata": {},
   "source": [
    "<div style=\"background:#d4d6fa; color:#000; padding:10px\">\n",
    "\n",
    "с 6 дня группа В лидирует по конверскии и в последующим устанавливается на приросте относительно группы А на 15 %"
   ]
  },
  {
   "cell_type": "markdown",
   "metadata": {},
   "source": [
    "<div class = \"alert alert-info\" >\n",
    "\n",
    "- 6. Постройте точечный график количества заказов по пользователям. Сделайте выводы и предположения."
   ]
  },
  {
   "cell_type": "code",
   "execution_count": 20,
   "metadata": {},
   "outputs": [
    {
     "data": {
      "text/plain": [
       "<matplotlib.collections.PathCollection at 0x7f8fece88370>"
      ]
     },
     "execution_count": 20,
     "metadata": {},
     "output_type": "execute_result"
    },
    {
     "data": {
      "image/png": "[encoded data removed]",
      "text/plain": [
       "<Figure size 1080x432 with 1 Axes>"
      ]
     },
     "metadata": {
      "needs_background": "light"
     },
     "output_type": "display_data"
    }
   ],
   "source": [
    "ordersByUsers = (\n",
    "    orders.groupby('visitor_id', as_index=False)\n",
    "    .agg({'transaction_id': 'nunique'})\n",
    ")\n",
    "ordersByUsers.columns = ['visitor_id', 'orders']\n",
    "\n",
    "# серия из чисел от 0 до количества наблюдений в ordersByUsers\n",
    "x_values = pd.Series(range(0, len(ordersByUsers)))\n",
    "plt.figure(figsize=(15, 6))\n",
    "plt.scatter(x_values, ordersByUsers['orders']) \n"
   ]
  },
  {
   "cell_type": "markdown",
   "metadata": {},
   "source": [
    "<div style=\"background:#d4d6fa; color:#000; padding:10px\">\n",
    "\n",
    "в основном пользователи совершают одну покупку реже 2, а 3 заказа скорее всего анамалия, посмотрим дальше"
   ]
  },
  {
   "cell_type": "markdown",
   "metadata": {},
   "source": [
    "<div class = \"alert alert-info\" >\n",
    "\n",
    "- 7. Посчитайте 95-й и 99-й перцентили количества заказов на пользователя. Выберите границу для определения аномальных пользователей."
   ]
  },
  {
   "cell_type": "code",
   "execution_count": 21,
   "metadata": {},
   "outputs": [
    {
     "name": "stdout",
     "output_type": "stream",
     "text": [
      "[1. 2.]\n"
     ]
    }
   ],
   "source": [
    "print(np.percentile(ordersByUsers['orders'], [95, 99]))"
   ]
  },
  {
   "cell_type": "markdown",
   "metadata": {},
   "source": [
    "<div style=\"background:#d4d6fa; color:#000; padding:10px\">\n",
    "не больше 5% пользователей совершали покупки больше 1 раза, и не более 1% совершал 2 заказа"
   ]
  },
  {
   "cell_type": "markdown",
   "metadata": {},
   "source": [
    "<div class = \"alert alert-info\" >\n",
    "\n",
    "- 8. Постройте точечный график стоимостей заказов. Сделайте выводы и предположения."
   ]
  },
  {
   "cell_type": "code",
   "execution_count": 22,
   "metadata": {},
   "outputs": [
    {
     "data": {
      "text/plain": [
       "<matplotlib.collections.PathCollection at 0x7f8fece6da60>"
      ]
     },
     "execution_count": 22,
     "metadata": {},
     "output_type": "execute_result"
    },
    {
     "data": {
      "image/png": "[encoded data removed]",
      "text/plain": [
       "<Figure size 1080x432 with 1 Axes>"
      ]
     },
     "metadata": {
      "needs_background": "light"
     },
     "output_type": "display_data"
    }
   ],
   "source": [
    "x_values = pd.Series(range(0, len(orders['revenue'])))\n",
    "plt.figure(figsize=(15, 6))\n",
    "plt.scatter(x_values, orders['revenue']) "
   ]
  },
  {
   "cell_type": "markdown",
   "metadata": {},
   "source": [
    "<div style=\"background:#d4d6fa; color:#000; padding:10px\">\n",
    "\n",
    "по графику видно, что есть громный выброс более 1200000 за заказ"
   ]
  },
  {
   "cell_type": "markdown",
   "metadata": {},
   "source": [
    "<div class = \"alert alert-info\" >\n",
    "\n",
    "- 9. Посчитайте 95-й и 99-й перцентили стоимости заказов. Выберите границу для определения аномальных заказов."
   ]
  },
  {
   "cell_type": "code",
   "execution_count": 23,
   "metadata": {},
   "outputs": [
    {
     "name": "stdout",
     "output_type": "stream",
     "text": [
      "[26785. 53904.]\n"
     ]
    }
   ],
   "source": [
    "print(np.percentile(orders['revenue'], [95, 99])) "
   ]
  },
  {
   "cell_type": "markdown",
   "metadata": {},
   "source": [
    "<div style=\"background:#d4d6fa; color:#000; padding:10px\">\n",
    "\n",
    "не больше 5% пользователей совершали покупки дороже 26785, и не более 1% совершали покупки на сумму 53904"
   ]
  },
  {
   "cell_type": "markdown",
   "metadata": {},
   "source": [
    "<div class = \"alert alert-info\" >\n",
    "\n",
    "- 10. Посчитайте статистическую значимость различий в конверсии между группами по «сырым» данным. Сделайте выводы и предположения."
   ]
  },
  {
   "cell_type": "markdown",
   "metadata": {},
   "source": [
    "<div class=\"alert alert-block alert-info\">\n",
    "\n",
    "   - Применим статистический критерий Манна-Уитни\n",
    "    \n",
    "   сформулировав такие гипотезы как: \n",
    "        \n",
    "   Н0 различий в конверсии между группами нет\n",
    "\n",
    "   Н1 различия в конверсии между группами есть\n",
    "    \n",
    "    \n",
    "   - критический уровень статистической значимости обозначим в 5%\n",
    "</div>"
   ]
  },
  {
   "cell_type": "code",
   "execution_count": 24,
   "metadata": {},
   "outputs": [
    {
     "data": {
      "text/html": [
       "<div>\n",
       "<style scoped>\n",
       "    .dataframe tbody tr th:only-of-type {\n",
       "        vertical-align: middle;\n",
       "    }\n",
       "\n",
       "    .dataframe tbody tr th {\n",
       "        vertical-align: top;\n",
       "    }\n",
       "\n",
       "    .dataframe thead th {\n",
       "        text-align: right;\n",
       "    }\n",
       "</style>\n",
       "<table border=\"1\" class=\"dataframe\">\n",
       "  <thead>\n",
       "    <tr style=\"text-align: right;\">\n",
       "      <th></th>\n",
       "      <th>date</th>\n",
       "      <th>ordersPerDateA</th>\n",
       "      <th>revenuePerDateA</th>\n",
       "      <th>ordersPerDateB</th>\n",
       "      <th>revenuePerDateB</th>\n",
       "      <th>ordersCummulativeA</th>\n",
       "      <th>revenueCummulativeA</th>\n",
       "      <th>ordersCummulativeB</th>\n",
       "      <th>revenueCummulativeB</th>\n",
       "      <th>visitorsPerDateA</th>\n",
       "      <th>visitorsPerDateB</th>\n",
       "      <th>visitorsCummulativeA</th>\n",
       "      <th>visitorsCummulativeB</th>\n",
       "    </tr>\n",
       "  </thead>\n",
       "  <tbody>\n",
       "    <tr>\n",
       "      <th>0</th>\n",
       "      <td>2019-08-01</td>\n",
       "      <td>23</td>\n",
       "      <td>142779</td>\n",
       "      <td>17</td>\n",
       "      <td>59758</td>\n",
       "      <td>23</td>\n",
       "      <td>142779</td>\n",
       "      <td>17</td>\n",
       "      <td>59758</td>\n",
       "      <td>719</td>\n",
       "      <td>713</td>\n",
       "      <td>719</td>\n",
       "      <td>713</td>\n",
       "    </tr>\n",
       "    <tr>\n",
       "      <th>1</th>\n",
       "      <td>2019-08-02</td>\n",
       "      <td>19</td>\n",
       "      <td>91602</td>\n",
       "      <td>23</td>\n",
       "      <td>162043</td>\n",
       "      <td>42</td>\n",
       "      <td>234381</td>\n",
       "      <td>40</td>\n",
       "      <td>221801</td>\n",
       "      <td>619</td>\n",
       "      <td>581</td>\n",
       "      <td>1338</td>\n",
       "      <td>1294</td>\n",
       "    </tr>\n",
       "    <tr>\n",
       "      <th>2</th>\n",
       "      <td>2019-08-03</td>\n",
       "      <td>24</td>\n",
       "      <td>112473</td>\n",
       "      <td>14</td>\n",
       "      <td>67049</td>\n",
       "      <td>66</td>\n",
       "      <td>346854</td>\n",
       "      <td>54</td>\n",
       "      <td>288850</td>\n",
       "      <td>507</td>\n",
       "      <td>509</td>\n",
       "      <td>1845</td>\n",
       "      <td>1803</td>\n",
       "    </tr>\n",
       "    <tr>\n",
       "      <th>3</th>\n",
       "      <td>2019-08-04</td>\n",
       "      <td>11</td>\n",
       "      <td>41176</td>\n",
       "      <td>14</td>\n",
       "      <td>96890</td>\n",
       "      <td>77</td>\n",
       "      <td>388030</td>\n",
       "      <td>68</td>\n",
       "      <td>385740</td>\n",
       "      <td>717</td>\n",
       "      <td>770</td>\n",
       "      <td>2562</td>\n",
       "      <td>2573</td>\n",
       "    </tr>\n",
       "    <tr>\n",
       "      <th>4</th>\n",
       "      <td>2019-08-05</td>\n",
       "      <td>22</td>\n",
       "      <td>86383</td>\n",
       "      <td>21</td>\n",
       "      <td>89908</td>\n",
       "      <td>99</td>\n",
       "      <td>474413</td>\n",
       "      <td>89</td>\n",
       "      <td>475648</td>\n",
       "      <td>756</td>\n",
       "      <td>707</td>\n",
       "      <td>3318</td>\n",
       "      <td>3280</td>\n",
       "    </tr>\n",
       "  </tbody>\n",
       "</table>\n",
       "</div>"
      ],
      "text/plain": [
       "        date  ordersPerDateA  revenuePerDateA  ordersPerDateB  \\\n",
       "0 2019-08-01              23           142779              17   \n",
       "1 2019-08-02              19            91602              23   \n",
       "2 2019-08-03              24           112473              14   \n",
       "3 2019-08-04              11            41176              14   \n",
       "4 2019-08-05              22            86383              21   \n",
       "\n",
       "   revenuePerDateB  ordersCummulativeA  revenueCummulativeA  \\\n",
       "0            59758                  23               142779   \n",
       "1           162043                  42               234381   \n",
       "2            67049                  66               346854   \n",
       "3            96890                  77               388030   \n",
       "4            89908                  99               474413   \n",
       "\n",
       "   ordersCummulativeB  revenueCummulativeB  visitorsPerDateA  \\\n",
       "0                  17                59758               719   \n",
       "1                  40               221801               619   \n",
       "2                  54               288850               507   \n",
       "3                  68               385740               717   \n",
       "4                  89               475648               756   \n",
       "\n",
       "   visitorsPerDateB  visitorsCummulativeA  visitorsCummulativeB  \n",
       "0               713                   719                   713  \n",
       "1               581                  1338                  1294  \n",
       "2               509                  1845                  1803  \n",
       "3               770                  2562                  2573  \n",
       "4               707                  3318                  3280  "
      ]
     },
     "metadata": {},
     "output_type": "display_data"
    },
    {
     "name": "stdout",
     "output_type": "stream",
     "text": [
      "Значение p-value ровно: 0.01102\n",
      "Относительный прирост конверсии В к А: 0.160\n"
     ]
    }
   ],
   "source": [
    "alpha = 0.05 # критический уровень статистической значимости\n",
    "visitorsADaily = visitors[visitors['group'] == 'A'][['date', 'visitors']]\n",
    "visitorsADaily.columns = ['date', 'visitorsPerDateA']\n",
    "\n",
    "visitorsACummulative = visitorsADaily.apply(\n",
    "    lambda x: visitorsADaily[visitorsADaily['date'] <= x['date']].agg(\n",
    "        {'date': 'max', 'visitorsPerDateA': 'sum'}\n",
    "    ),\n",
    "    axis=1,\n",
    ")\n",
    "visitorsACummulative.columns = ['date', 'visitorsCummulativeA']\n",
    "\n",
    "visitorsBDaily = visitors[visitors['group'] == 'B'][['date', 'visitors']]\n",
    "visitorsBDaily.columns = ['date', 'visitorsPerDateB']\n",
    "\n",
    "visitorsBCummulative = visitorsBDaily.apply(\n",
    "    lambda x: visitorsBDaily[visitorsBDaily['date'] <= x['date']].agg(\n",
    "        {'date': 'max', 'visitorsPerDateB': 'sum'}\n",
    "    ),\n",
    "    axis=1,\n",
    ")\n",
    "visitorsBCummulative.columns = ['date', 'visitorsCummulativeB']\n",
    "\n",
    "ordersADaily = (\n",
    "    orders[orders['group'] == 'A'][['date', 'transaction_id', 'visitor_id', 'revenue']]\n",
    "    .groupby('date', as_index=False)\n",
    "    .agg({'transaction_id': pd.Series.nunique, 'revenue': 'sum'})\n",
    ")\n",
    "ordersADaily.columns = ['date', 'ordersPerDateA', 'revenuePerDateA']\n",
    "\n",
    "ordersACummulative = ordersADaily.apply(\n",
    "    lambda x: ordersADaily[ordersADaily['date'] <= x['date']].agg(\n",
    "        {'date': 'max', 'ordersPerDateA': 'sum', 'revenuePerDateA': 'sum'}\n",
    "    ),\n",
    "    axis=1,\n",
    ").sort_values(by=['date'])\n",
    "ordersACummulative.columns = [\n",
    "    'date',\n",
    "    'ordersCummulativeA',\n",
    "    'revenueCummulativeA',\n",
    "]\n",
    "\n",
    "ordersBDaily = (\n",
    "    orders[orders['group'] == 'B'][['date', 'transaction_id', 'visitor_id', 'revenue']]\n",
    "    .groupby('date', as_index=False)\n",
    "    .agg({'transaction_id': pd.Series.nunique, 'revenue': 'sum'})\n",
    ")\n",
    "ordersBDaily.columns = ['date', 'ordersPerDateB', 'revenuePerDateB']\n",
    "\n",
    "ordersBCummulative = ordersBDaily.apply(\n",
    "    lambda x: ordersBDaily[ordersBDaily['date'] <= x['date']].agg(\n",
    "        {'date': 'max', 'ordersPerDateB': 'sum', 'revenuePerDateB': 'sum'}\n",
    "    ),\n",
    "    axis=1,\n",
    ").sort_values(by=['date'])\n",
    "ordersBCummulative.columns = [\n",
    "    'date',\n",
    "    'ordersCummulativeB',\n",
    "    'revenueCummulativeB',\n",
    "]\n",
    "\n",
    "data = (\n",
    "    ordersADaily.merge(\n",
    "        ordersBDaily, left_on='date', right_on='date', how='left'\n",
    "    )\n",
    "    .merge(ordersACummulative, left_on='date', right_on='date', how='left')\n",
    "    .merge(ordersBCummulative, left_on='date', right_on='date', how='left')\n",
    "    .merge(visitorsADaily, left_on='date', right_on='date', how='left')\n",
    "    .merge(visitorsBDaily, left_on='date', right_on='date', how='left')\n",
    "    .merge(visitorsACummulative, left_on='date', right_on='date', how='left')\n",
    "    .merge(visitorsBCummulative, left_on='date', right_on='date', how='left')\n",
    ")\n",
    "\n",
    "display(data.head(5))\n",
    "ordersByUsersA = (\n",
    "    orders[orders['group'] == 'A']\n",
    "    .groupby('visitor_id', as_index=False)\n",
    "    .agg({'transaction_id': pd.Series.nunique})\n",
    ")\n",
    "ordersByUsersA.columns = ['visitor_id', 'orders']\n",
    "\n",
    "ordersByUsersB = (\n",
    "    orders[orders['group'] == 'B']\n",
    "    .groupby('visitor_id', as_index=False)\n",
    "    .agg({'transaction_id': pd.Series.nunique})\n",
    ")\n",
    "ordersByUsersB.columns = ['visitor_id', 'orders']\n",
    "sampleA = pd.concat([ordersByUsersA['orders'],pd.Series(0, index=np.arange(data['visitorsPerDateA'].sum() - len(ordersByUsersA['orders'])), name='orders')],axis=0)\n",
    "\n",
    "sampleB = pd.concat([ordersByUsersB['orders'],pd.Series(0, index=np.arange(data['visitorsPerDateB'].sum() - len(ordersByUsersB['orders'])), name='orders')],axis=0)\n",
    "ordersByUsersA = (\n",
    "    orders[orders['group'] == 'A']\n",
    "    .groupby('visitor_id', as_index=False)\n",
    "    .agg({'transaction_id': pd.Series.nunique})\n",
    ")\n",
    "ordersByUsersA.columns = ['visitor_id', 'orders']\n",
    "\n",
    "ordersByUsersB = (\n",
    "    orders[orders['group'] == 'B']\n",
    "    .groupby('visitor_id', as_index=False)\n",
    "    .agg({'transaction_id': pd.Series.nunique})\n",
    ")\n",
    "ordersByUsersB.columns = ['visitor_id', 'orders']\n",
    "\n",
    "sampleA = pd.concat(\n",
    "    [\n",
    "        ordersByUsersA['orders'],\n",
    "        pd.Series(\n",
    "            0,\n",
    "            index=np.arange(\n",
    "                data['visitorsPerDateA'].sum() - len(ordersByUsersA['orders'])\n",
    "            ),\n",
    "            name='orders',\n",
    "        ),\n",
    "    ],\n",
    "    axis=0,\n",
    ")\n",
    "\n",
    "sampleB = pd.concat(\n",
    "    [\n",
    "        ordersByUsersB['orders'],\n",
    "        pd.Series(\n",
    "            0,\n",
    "            index=np.arange(\n",
    "                data['visitorsPerDateB'].sum() - len(ordersByUsersB['orders'])\n",
    "            ),\n",
    "            name='orders',\n",
    "        ),\n",
    "    ],\n",
    "    axis=0,\n",
    ")\n",
    "\n",
    "print('Значение p-value ровно:' , \"{0:.5f}\".format(stats.mannwhitneyu(sampleA, sampleB)[1]))\n",
    "\n",
    "print('Относительный прирост конверсии В к А:' ,\"{0:.3f}\".format(sampleB.mean() / sampleA.mean() - 1))\n"
   ]
  },
  {
   "cell_type": "markdown",
   "metadata": {},
   "source": [
    "<div style=\"background:#d4d6fa; color:#000; padding:10px\">\n",
    "    \n",
    "<div class=\"alert alert-block alert-info\">\n",
    "\n",
    "   Применим статистический критерий Манна-Уитни\n",
    "    \n",
    "   сформулировав такие гипотезы как: \n",
    "        \n",
    "   Н0 различий в конверсии между группами нет\n",
    "\n",
    "   Н1 различия в конверсии между группами есть\n",
    "</div>\n",
    "    \n",
    "имеем значение p-value которое меньше 5% соответственно отвергаем нулеву гипотезу, а относительный прирост конверсии В к А 16%\n"
   ]
  },
  {
   "cell_type": "markdown",
   "metadata": {},
   "source": [
    "<div class = \"alert alert-info\" >\n",
    "\n",
    "- 11. Посчитайте статистическую значимость различий в среднем чеке заказа между группами по «сырым» данным. Сделайте выводы и предположения."
   ]
  },
  {
   "cell_type": "code",
   "execution_count": 25,
   "metadata": {},
   "outputs": [
    {
     "name": "stdout",
     "output_type": "stream",
     "text": [
      "Значение p-value ровно: 0.829\n",
      "Относительный прирост среднего чека В к А: 0.287\n"
     ]
    }
   ],
   "source": [
    "print('Значение p-value ровно:' , '{0:.3f}'.format(stats.mannwhitneyu(orders[orders['group']=='A']['revenue'], orders[orders['group']=='B']['revenue'])[1]))\n",
    "print('Относительный прирост среднего чека В к А:' , '{0:.3f}'.format(orders[orders['group']=='B']['revenue'].mean()/orders[orders['group']=='A']['revenue'].mean()-1))"
   ]
  },
  {
   "cell_type": "markdown",
   "metadata": {},
   "source": [
    "<div style=\"background:#d4d6fa; color:#000; padding:10px\">\n",
    "    \n",
    "<div class=\"alert alert-block alert-info\">\n",
    "\n",
    "   сформулировав такие гипотезы как: \n",
    "        \n",
    "   Н0 различий в среднем чеке между группами нет\n",
    "\n",
    "   Н1 различия в среднем чеке между группами есть\n",
    "</div>\n",
    "    \n",
    "имеем значение p-value которое выше 5% соответственно отвергать нулеву гипотезу мы не можем, а относительный прирост среднего чека В к А составляет около 30%"
   ]
  },
  {
   "cell_type": "markdown",
   "metadata": {},
   "source": [
    "<div class = \"alert alert-info\" >\n",
    "\n",
    "- 12. Посчитайте статистическую значимость различий в конверсии между группами по «очищенным» данным. Сделайте выводы и предположения."
   ]
  },
  {
   "cell_type": "markdown",
   "metadata": {},
   "source": [
    "<div class = \"alert alert-info\" >\n",
    "\n",
    "имея 95 % и 99% перцентили имеют значение в покупка 1 и 2 уберем 5% и оставил пользователей с одной покупкой, а 95 % и 99% перцентили среднего чека 26785 и 53904 сделаем срез среднего чека в 30000"
   ]
  },
  {
   "cell_type": "code",
   "execution_count": 26,
   "metadata": {},
   "outputs": [],
   "source": [
    "usersWithManyOrders = pd.concat(\n",
    "    [\n",
    "        ordersByUsersA[ordersByUsersA['orders'] > 1]['visitor_id'],\n",
    "        ordersByUsersB[ordersByUsersB['orders'] > 1]['visitor_id'],\n",
    "    ],\n",
    "    axis=0,\n",
    ")\n",
    "usersWithExpensiveOrders = orders[orders['revenue'] > 30000]['visitor_id']\n",
    "abnormalUsers = (\n",
    "    pd.concat([usersWithManyOrders, usersWithExpensiveOrders], axis=0)\n",
    "    .drop_duplicates()\n",
    "    .sort_values()\n",
    ")"
   ]
  },
  {
   "cell_type": "code",
   "execution_count": 27,
   "metadata": {},
   "outputs": [
    {
     "name": "stdout",
     "output_type": "stream",
     "text": [
      "Значение p-value ровно: 0.01255\n",
      "Относительный прирост конверсии В к А: 0.180\n"
     ]
    }
   ],
   "source": [
    "sampleAFiltered = pd.concat(\n",
    "    [\n",
    "        ordersByUsersA[\n",
    "            np.logical_not(ordersByUsersA['visitor_id'].isin(abnormalUsers))\n",
    "        ]['orders'],\n",
    "        pd.Series(\n",
    "            0,\n",
    "            index=np.arange(\n",
    "                data['visitorsPerDateA'].sum() - len(ordersByUsersA['orders'])\n",
    "            ),\n",
    "            name='orders',\n",
    "        ),\n",
    "    ],\n",
    "    axis=0,\n",
    ")\n",
    "\n",
    "sampleBFiltered = pd.concat(\n",
    "    [\n",
    "        ordersByUsersB[\n",
    "            np.logical_not(ordersByUsersB['visitor_id'].isin(abnormalUsers))\n",
    "        ]['orders'],\n",
    "        pd.Series(\n",
    "            0,\n",
    "            index=np.arange(\n",
    "                data['visitorsPerDateB'].sum() - len(ordersByUsersB['orders'])\n",
    "            ),\n",
    "            name='orders',\n",
    "        ),\n",
    "    ],\n",
    "    axis=0,\n",
    ")    \n",
    "print('Значение p-value ровно:' ,'{0:.5f}'.format(stats.mannwhitneyu(sampleAFiltered, sampleBFiltered)[1]))\n",
    "print('Относительный прирост конверсии В к А:' ,'{0:.3f}'.format(sampleBFiltered.mean()/sampleAFiltered.mean()-1))"
   ]
  },
  {
   "cell_type": "markdown",
   "metadata": {},
   "source": [
    "<div style=\"background:#d4d6fa; color:#000; padding:10px\">\n",
    "    \n",
    "<div class=\"alert alert-block alert-info\">\n",
    "\n",
    "   имея такие гипотезы как: \n",
    "        \n",
    "   Н0 различий в конверсии между группами нет\n",
    "\n",
    "   Н1 различия в конверсии между группами есть\n",
    "    \n",
    "</div>\n",
    "    \n",
    "после фильтрации от выбросов имеем значение p-value которое меньше 5% соответственно отвергаем нулеву гипотезу и получаем что разница в конверсии есть, а относительный прирост конверсии В к А теперь уже равен 18%\n"
   ]
  },
  {
   "cell_type": "markdown",
   "metadata": {},
   "source": [
    "<div class = \"alert alert-info\" >\n",
    "\n",
    "- 13. Посчитайте статистическую значимость различий в среднем чеке заказа между группами по «очищенным» данным. Сделайте выводы и предположения."
   ]
  },
  {
   "cell_type": "code",
   "execution_count": 28,
   "metadata": {},
   "outputs": [
    {
     "name": "stdout",
     "output_type": "stream",
     "text": [
      "Значение p-value ровно: 0.829\n",
      "Относительный прирост среднего чека В к А: -0.011\n"
     ]
    }
   ],
   "source": [
    "print('Значение p-value ровно:' , \n",
    "    '{0:.3f}'.format(\n",
    "        stats.mannwhitneyu(\n",
    "            orders[\n",
    "                np.logical_and(\n",
    "                    orders['group'] == 'A',\n",
    "                    np.logical_not(orders['visitor_id'].isin(abnormalUsers)),\n",
    "                )\n",
    "            ]['revenue'],\n",
    "            orders[\n",
    "                np.logical_and(\n",
    "                    orders['group'] == 'B',\n",
    "                    np.logical_not(orders['visitor_id'].isin(abnormalUsers)),\n",
    "                )\n",
    "            ]['revenue'],\n",
    "        )[1]\n",
    "    )\n",
    ")\n",
    "\n",
    "print('Относительный прирост среднего чека В к А:' ,\n",
    "    \"{0:.3f}\".format(\n",
    "        orders[\n",
    "            np.logical_and(\n",
    "                orders['group'] == 'B',\n",
    "                np.logical_not(orders['visitor_id'].isin(abnormalUsers)),\n",
    "            )\n",
    "        ]['revenue'].mean()\n",
    "        / orders[\n",
    "            np.logical_and(\n",
    "                orders['group'] == 'A',\n",
    "                np.logical_not(orders['visitor_id'].isin(abnormalUsers)),\n",
    "            )\n",
    "        ]['revenue'].mean()\n",
    "        - 1\n",
    "    )\n",
    ") "
   ]
  },
  {
   "cell_type": "markdown",
   "metadata": {},
   "source": [
    "<div style=\"background:#d4d6fa; color:#000; padding:10px\">\n",
    "    \n",
    "<div class=\"alert alert-block alert-info\">\n",
    "\n",
    "   имея такие гипотезы как: \n",
    "        \n",
    "   Н0 различий в среднем чеке между группами нет\n",
    "\n",
    "   Н1 различия в среднем чеке между группами есть\n",
    "</div>\n",
    "    \n",
    "после фильтрации имеем значение p-value которое выше 5% которое не изменилось соответственно отвергать нулеву гипотезу мы не можем, а относительный прирост среднего чека В к А уменьшился"
   ]
  },
  {
   "cell_type": "markdown",
   "metadata": {},
   "source": [
    "<div class = \"alert alert-info\" >\n",
    "\n",
    "- 14. Примите решение по результатам теста и объясните его. Варианты решений: 1. Остановить тест, зафиксировать победу одной из групп. 2. Остановить тест, зафиксировать отсутствие различий между группами. 3. Продолжить тест."
   ]
  },
  {
   "cell_type": "markdown",
   "metadata": {},
   "source": [
    "<div style=\"background:#d4d6fa; color:#000; padding:10px\">\n",
    "\n",
    "Статистически значимое различия по конверсии между группами по «сырым», и по данным после фильтрации аномалий есть увеличилась на 2 %;\n",
    "\n",
    "статистическая значимого различия по среднему чеку между группами по «сырым», и по данным после фильтрации аномалий уменьшелась;\n",
    "\n",
    "\n",
    "График различия конверсии между группами говорит о том, что результаты группы B улучшаются день ото дня и сейчас почти на 15% хуже:\n",
    "\n",
    "Исходя из обнаруженных фактов, тест можно остановить и признать успешным так как группа В приносит большый прибыль нежели группа А Прирост конверсии в 15%."
   ]
  },
  {
   "cell_type": "code",
   "execution_count": null,
   "metadata": {},
   "outputs": [],
   "source": []
  }
 ],
 "metadata": {
  "ExecuteTimeLog": [
   {
    "duration": 123,
    "start_time": "2022-03-27T21:43:13.659Z"
   },
   {
    "duration": 2393,
    "start_time": "2022-03-27T21:43:17.212Z"
   },
   {
    "duration": 122,
    "start_time": "2022-03-27T21:43:20.769Z"
   },
   {
    "duration": 52,
    "start_time": "2022-03-27T21:43:22.041Z"
   },
   {
    "duration": 6,
    "start_time": "2022-03-27T21:44:41.058Z"
   },
   {
    "duration": 37,
    "start_time": "2022-03-27T21:44:42.232Z"
   },
   {
    "duration": 32,
    "start_time": "2022-03-27T21:46:02.164Z"
   },
   {
    "duration": 28,
    "start_time": "2022-03-27T21:46:13.310Z"
   },
   {
    "duration": 7,
    "start_time": "2022-03-27T21:47:48.353Z"
   },
   {
    "duration": 28,
    "start_time": "2022-03-27T21:47:49.517Z"
   },
   {
    "duration": 10,
    "start_time": "2022-03-27T21:48:32.669Z"
   },
   {
    "duration": 16,
    "start_time": "2022-03-27T21:52:50.801Z"
   },
   {
    "duration": 13,
    "start_time": "2022-03-27T21:54:57.094Z"
   },
   {
    "duration": 153,
    "start_time": "2022-03-27T21:55:49.081Z"
   },
   {
    "duration": 10,
    "start_time": "2022-03-27T22:03:26.803Z"
   },
   {
    "duration": 10,
    "start_time": "2022-03-27T22:11:50.763Z"
   },
   {
    "duration": 144,
    "start_time": "2022-03-27T22:13:47.470Z"
   },
   {
    "duration": 17,
    "start_time": "2022-03-27T23:01:14.309Z"
   },
   {
    "duration": 642,
    "start_time": "2022-03-27T23:02:13.048Z"
   },
   {
    "duration": 3,
    "start_time": "2022-03-27T23:02:26.010Z"
   },
   {
    "duration": 556,
    "start_time": "2022-03-27T23:02:28.530Z"
   },
   {
    "duration": 111,
    "start_time": "2022-03-27T23:02:39.926Z"
   },
   {
    "duration": 609,
    "start_time": "2022-03-27T23:02:43.369Z"
   },
   {
    "duration": 739,
    "start_time": "2022-03-27T23:03:22.315Z"
   },
   {
    "duration": 7,
    "start_time": "2022-03-27T23:04:29.617Z"
   },
   {
    "duration": 28,
    "start_time": "2022-03-27T23:04:34.085Z"
   },
   {
    "duration": 590,
    "start_time": "2022-03-27T23:04:47.213Z"
   },
   {
    "duration": 2259,
    "start_time": "2022-03-27T23:07:40.371Z"
   },
   {
    "duration": 2366,
    "start_time": "2022-03-27T23:09:43.161Z"
   },
   {
    "duration": 11,
    "start_time": "2022-03-27T23:10:16.361Z"
   },
   {
    "duration": 2267,
    "start_time": "2022-03-27T23:14:40.348Z"
   },
   {
    "duration": 12,
    "start_time": "2022-03-27T23:17:57.642Z"
   },
   {
    "duration": 5,
    "start_time": "2022-03-27T23:18:05.588Z"
   },
   {
    "duration": 22,
    "start_time": "2022-03-27T23:18:09.403Z"
   },
   {
    "duration": 17,
    "start_time": "2022-03-27T23:18:16.686Z"
   },
   {
    "duration": 17,
    "start_time": "2022-03-27T23:19:01.170Z"
   },
   {
    "duration": 11,
    "start_time": "2022-03-27T23:19:25.240Z"
   },
   {
    "duration": 1282,
    "start_time": "2022-03-27T23:23:40.005Z"
   },
   {
    "duration": 103,
    "start_time": "2022-03-27T23:23:41.290Z"
   },
   {
    "duration": 5,
    "start_time": "2022-03-27T23:23:41.395Z"
   },
   {
    "duration": 25,
    "start_time": "2022-03-27T23:23:41.402Z"
   },
   {
    "duration": 2,
    "start_time": "2022-03-27T23:23:41.429Z"
   },
   {
    "duration": 31,
    "start_time": "2022-03-27T23:23:41.433Z"
   },
   {
    "duration": 41,
    "start_time": "2022-03-27T23:23:41.466Z"
   },
   {
    "duration": 18,
    "start_time": "2022-03-27T23:23:41.509Z"
   },
   {
    "duration": 9,
    "start_time": "2022-03-27T23:23:41.529Z"
   },
   {
    "duration": 16,
    "start_time": "2022-03-27T23:23:41.541Z"
   },
   {
    "duration": 13,
    "start_time": "2022-03-27T23:23:41.559Z"
   },
   {
    "duration": 11,
    "start_time": "2022-03-27T23:23:41.602Z"
   },
   {
    "duration": 15,
    "start_time": "2022-03-27T23:23:41.615Z"
   },
   {
    "duration": 691,
    "start_time": "2022-03-27T23:23:46.577Z"
   },
   {
    "duration": 547,
    "start_time": "2022-03-27T23:27:57.843Z"
   },
   {
    "duration": 15,
    "start_time": "2022-03-27T23:28:46.510Z"
   },
   {
    "duration": 37,
    "start_time": "2022-03-27T23:30:51.575Z"
   },
   {
    "duration": 7,
    "start_time": "2022-03-27T23:32:13.003Z"
   },
   {
    "duration": 28,
    "start_time": "2022-03-27T23:32:32.810Z"
   },
   {
    "duration": 15,
    "start_time": "2022-03-27T23:32:47.743Z"
   },
   {
    "duration": 178,
    "start_time": "2022-03-27T23:33:16.724Z"
   },
   {
    "duration": 393,
    "start_time": "2022-03-27T23:33:25.436Z"
   },
   {
    "duration": 593,
    "start_time": "2022-03-27T23:37:24.449Z"
   },
   {
    "duration": 1668,
    "start_time": "2022-03-27T23:38:03.084Z"
   },
   {
    "duration": 122,
    "start_time": "2022-03-27T23:38:04.754Z"
   },
   {
    "duration": 7,
    "start_time": "2022-03-27T23:38:04.879Z"
   },
   {
    "duration": 26,
    "start_time": "2022-03-27T23:38:04.889Z"
   },
   {
    "duration": 3,
    "start_time": "2022-03-27T23:38:04.917Z"
   },
   {
    "duration": 31,
    "start_time": "2022-03-27T23:38:04.921Z"
   },
   {
    "duration": 11,
    "start_time": "2022-03-27T23:38:04.954Z"
   },
   {
    "duration": 46,
    "start_time": "2022-03-27T23:38:04.967Z"
   },
   {
    "duration": 10,
    "start_time": "2022-03-27T23:38:05.015Z"
   },
   {
    "duration": 13,
    "start_time": "2022-03-27T23:38:05.029Z"
   },
   {
    "duration": 14,
    "start_time": "2022-03-27T23:38:05.044Z"
   },
   {
    "duration": 49,
    "start_time": "2022-03-27T23:38:05.060Z"
   },
   {
    "duration": 19,
    "start_time": "2022-03-27T23:38:05.111Z"
   },
   {
    "duration": 16,
    "start_time": "2022-03-27T23:38:09.263Z"
   },
   {
    "duration": 598,
    "start_time": "2022-03-27T23:38:10.448Z"
   },
   {
    "duration": 1317,
    "start_time": "2022-03-27T23:38:45.261Z"
   },
   {
    "duration": 105,
    "start_time": "2022-03-27T23:38:46.581Z"
   },
   {
    "duration": 4,
    "start_time": "2022-03-27T23:38:46.689Z"
   },
   {
    "duration": 26,
    "start_time": "2022-03-27T23:38:46.696Z"
   },
   {
    "duration": 15,
    "start_time": "2022-03-27T23:38:46.724Z"
   },
   {
    "duration": 30,
    "start_time": "2022-03-27T23:38:46.741Z"
   },
   {
    "duration": 33,
    "start_time": "2022-03-27T23:38:46.773Z"
   },
   {
    "duration": 18,
    "start_time": "2022-03-27T23:38:46.809Z"
   },
   {
    "duration": 10,
    "start_time": "2022-03-27T23:38:46.830Z"
   },
   {
    "duration": 14,
    "start_time": "2022-03-27T23:38:46.843Z"
   },
   {
    "duration": 51,
    "start_time": "2022-03-27T23:38:46.859Z"
   },
   {
    "duration": 13,
    "start_time": "2022-03-27T23:38:46.912Z"
   },
   {
    "duration": 16,
    "start_time": "2022-03-27T23:38:46.927Z"
   },
   {
    "duration": 563,
    "start_time": "2022-03-27T23:38:54.561Z"
   },
   {
    "duration": 560,
    "start_time": "2022-03-27T23:39:28.973Z"
   },
   {
    "duration": 471,
    "start_time": "2022-03-27T23:39:51.409Z"
   },
   {
    "duration": 447,
    "start_time": "2022-03-27T23:40:11.641Z"
   },
   {
    "duration": 470,
    "start_time": "2022-03-27T23:40:25.452Z"
   },
   {
    "duration": 10,
    "start_time": "2022-03-27T23:42:10.032Z"
   },
   {
    "duration": 460,
    "start_time": "2022-03-27T23:42:16.511Z"
   },
   {
    "duration": 471,
    "start_time": "2022-03-27T23:43:45.572Z"
   },
   {
    "duration": 587,
    "start_time": "2022-03-27T23:45:15.953Z"
   },
   {
    "duration": 666,
    "start_time": "2022-03-27T23:45:39.449Z"
   },
   {
    "duration": 505,
    "start_time": "2022-03-27T23:45:57.737Z"
   },
   {
    "duration": 132,
    "start_time": "2022-03-27T23:51:11.555Z"
   },
   {
    "duration": 199,
    "start_time": "2022-03-27T23:51:17.818Z"
   },
   {
    "duration": 2243,
    "start_time": "2022-03-27T23:51:32.611Z"
   },
   {
    "duration": 186,
    "start_time": "2022-03-27T23:53:23.447Z"
   },
   {
    "duration": 237,
    "start_time": "2022-03-27T23:53:52.198Z"
   },
   {
    "duration": 261,
    "start_time": "2022-03-27T23:58:31.054Z"
   },
   {
    "duration": 284,
    "start_time": "2022-03-27T23:59:48.432Z"
   },
   {
    "duration": 315,
    "start_time": "2022-03-27T23:59:55.898Z"
   },
   {
    "duration": 317,
    "start_time": "2022-03-28T00:00:14.210Z"
   },
   {
    "duration": 194,
    "start_time": "2022-03-28T00:07:52.544Z"
   },
   {
    "duration": 190,
    "start_time": "2022-03-28T00:08:20.161Z"
   },
   {
    "duration": 183,
    "start_time": "2022-03-28T00:08:37.050Z"
   },
   {
    "duration": 290,
    "start_time": "2022-03-28T00:08:43.882Z"
   },
   {
    "duration": 176,
    "start_time": "2022-03-28T00:08:51.363Z"
   },
   {
    "duration": 181,
    "start_time": "2022-03-28T00:08:59.266Z"
   },
   {
    "duration": 182,
    "start_time": "2022-03-28T00:09:11.383Z"
   },
   {
    "duration": 174,
    "start_time": "2022-03-28T00:09:19.176Z"
   },
   {
    "duration": 220,
    "start_time": "2022-03-28T00:10:03.555Z"
   },
   {
    "duration": 131,
    "start_time": "2022-03-28T00:13:02.518Z"
   },
   {
    "duration": 207,
    "start_time": "2022-03-28T00:21:05.277Z"
   },
   {
    "duration": 232,
    "start_time": "2022-03-28T00:21:10.650Z"
   },
   {
    "duration": 319,
    "start_time": "2022-03-28T00:23:20.201Z"
   },
   {
    "duration": 355,
    "start_time": "2022-03-28T00:24:26.564Z"
   },
   {
    "duration": 306,
    "start_time": "2022-03-28T00:26:49.936Z"
   },
   {
    "duration": 320,
    "start_time": "2022-03-28T00:26:58.000Z"
   },
   {
    "duration": 12,
    "start_time": "2022-03-28T00:33:38.618Z"
   },
   {
    "duration": 129,
    "start_time": "2022-03-28T00:35:28.467Z"
   },
   {
    "duration": 308,
    "start_time": "2022-03-28T00:35:51.502Z"
   },
   {
    "duration": 305,
    "start_time": "2022-03-28T00:36:44.866Z"
   },
   {
    "duration": 7,
    "start_time": "2022-03-28T00:40:03.882Z"
   },
   {
    "duration": 6,
    "start_time": "2022-03-28T00:40:24.884Z"
   },
   {
    "duration": 16,
    "start_time": "2022-03-28T00:43:04.333Z"
   },
   {
    "duration": 481,
    "start_time": "2022-03-28T00:43:29.929Z"
   },
   {
    "duration": 6,
    "start_time": "2022-03-28T00:44:44.523Z"
   },
   {
    "duration": 262,
    "start_time": "2022-03-28T00:45:42.535Z"
   },
   {
    "duration": 6,
    "start_time": "2022-03-28T00:46:17.905Z"
   },
   {
    "duration": 6,
    "start_time": "2022-03-28T00:48:06.931Z"
   },
   {
    "duration": 2011,
    "start_time": "2022-03-29T15:29:47.823Z"
   },
   {
    "duration": 89,
    "start_time": "2022-03-29T15:29:49.838Z"
   },
   {
    "duration": 5,
    "start_time": "2022-03-29T15:29:49.930Z"
   },
   {
    "duration": 30,
    "start_time": "2022-03-29T15:29:49.938Z"
   },
   {
    "duration": 32,
    "start_time": "2022-03-29T15:29:49.970Z"
   },
   {
    "duration": 38,
    "start_time": "2022-03-29T15:29:50.004Z"
   },
   {
    "duration": 17,
    "start_time": "2022-03-29T15:29:50.044Z"
   },
   {
    "duration": 33,
    "start_time": "2022-03-29T15:29:50.063Z"
   },
   {
    "duration": 10,
    "start_time": "2022-03-29T15:29:50.098Z"
   },
   {
    "duration": 15,
    "start_time": "2022-03-29T15:29:50.112Z"
   },
   {
    "duration": 55,
    "start_time": "2022-03-29T15:29:50.129Z"
   },
   {
    "duration": 28,
    "start_time": "2022-03-29T15:29:50.187Z"
   },
   {
    "duration": 34,
    "start_time": "2022-03-29T15:29:50.217Z"
   },
   {
    "duration": 997,
    "start_time": "2022-03-29T15:29:50.253Z"
   },
   {
    "duration": 411,
    "start_time": "2022-03-29T15:29:51.252Z"
   },
   {
    "duration": 458,
    "start_time": "2022-03-29T15:29:51.673Z"
   },
   {
    "duration": 381,
    "start_time": "2022-03-29T15:29:52.134Z"
   },
   {
    "duration": 496,
    "start_time": "2022-03-29T15:29:52.517Z"
   },
   {
    "duration": 278,
    "start_time": "2022-03-29T15:29:53.016Z"
   },
   {
    "duration": 6,
    "start_time": "2022-03-29T15:29:53.296Z"
   },
   {
    "duration": 285,
    "start_time": "2022-03-29T15:29:53.304Z"
   },
   {
    "duration": 5,
    "start_time": "2022-03-29T15:30:00.908Z"
   },
   {
    "duration": 168,
    "start_time": "2022-03-29T15:33:41.037Z"
   },
   {
    "duration": 826,
    "start_time": "2022-03-29T15:41:37.493Z"
   },
   {
    "duration": 5,
    "start_time": "2022-03-29T15:42:17.353Z"
   },
   {
    "duration": 911,
    "start_time": "2022-03-29T15:42:22.895Z"
   },
   {
    "duration": 812,
    "start_time": "2022-03-29T15:42:52.498Z"
   },
   {
    "duration": 843,
    "start_time": "2022-03-29T15:52:23.915Z"
   },
   {
    "duration": 924,
    "start_time": "2022-03-29T15:52:35.506Z"
   },
   {
    "duration": 841,
    "start_time": "2022-03-29T15:54:13.724Z"
   },
   {
    "duration": 845,
    "start_time": "2022-03-29T15:54:24.821Z"
   },
   {
    "duration": 58,
    "start_time": "2022-03-29T17:53:04.531Z"
   },
   {
    "duration": 1509,
    "start_time": "2022-03-29T17:53:09.941Z"
   },
   {
    "duration": 167,
    "start_time": "2022-03-29T17:53:11.452Z"
   },
   {
    "duration": 4,
    "start_time": "2022-03-29T17:53:11.621Z"
   },
   {
    "duration": 41,
    "start_time": "2022-03-29T17:53:11.627Z"
   },
   {
    "duration": 15,
    "start_time": "2022-03-29T17:53:11.670Z"
   },
   {
    "duration": 28,
    "start_time": "2022-03-29T17:53:11.687Z"
   },
   {
    "duration": 13,
    "start_time": "2022-03-29T17:53:11.739Z"
   },
   {
    "duration": 18,
    "start_time": "2022-03-29T17:53:11.753Z"
   },
   {
    "duration": 8,
    "start_time": "2022-03-29T17:53:11.773Z"
   },
   {
    "duration": 12,
    "start_time": "2022-03-29T17:53:11.784Z"
   },
   {
    "duration": 53,
    "start_time": "2022-03-29T17:53:11.797Z"
   },
   {
    "duration": 15,
    "start_time": "2022-03-29T17:53:11.854Z"
   },
   {
    "duration": 17,
    "start_time": "2022-03-29T17:53:11.871Z"
   },
   {
    "duration": 648,
    "start_time": "2022-03-29T17:53:11.889Z"
   },
   {
    "duration": 257,
    "start_time": "2022-03-29T17:53:12.539Z"
   },
   {
    "duration": 385,
    "start_time": "2022-03-29T17:53:12.798Z"
   },
   {
    "duration": 269,
    "start_time": "2022-03-29T17:53:13.185Z"
   },
   {
    "duration": 340,
    "start_time": "2022-03-29T17:53:13.455Z"
   },
   {
    "duration": 193,
    "start_time": "2022-03-29T17:53:13.797Z"
   },
   {
    "duration": 5,
    "start_time": "2022-03-29T17:53:13.992Z"
   },
   {
    "duration": 186,
    "start_time": "2022-03-29T17:53:13.999Z"
   },
   {
    "duration": 6,
    "start_time": "2022-03-29T17:53:14.187Z"
   },
   {
    "duration": 563,
    "start_time": "2022-03-29T17:53:14.195Z"
   },
   {
    "duration": 11,
    "start_time": "2022-03-29T17:53:19.471Z"
   },
   {
    "duration": 11,
    "start_time": "2022-03-29T17:56:16.181Z"
   },
   {
    "duration": 3223,
    "start_time": "2022-03-29T18:00:36.319Z"
   },
   {
    "duration": 10,
    "start_time": "2022-03-29T18:01:00.060Z"
   },
   {
    "duration": 209,
    "start_time": "2022-03-29T18:04:54.622Z"
   },
   {
    "duration": 3226,
    "start_time": "2022-03-29T18:06:12.591Z"
   },
   {
    "duration": 53,
    "start_time": "2022-03-29T18:06:33.199Z"
   },
   {
    "duration": 8,
    "start_time": "2022-03-29T18:06:55.469Z"
   },
   {
    "duration": 1267,
    "start_time": "2022-03-29T18:20:45.661Z"
   },
   {
    "duration": 61,
    "start_time": "2022-03-29T18:20:46.930Z"
   },
   {
    "duration": 4,
    "start_time": "2022-03-29T18:20:46.993Z"
   },
   {
    "duration": 28,
    "start_time": "2022-03-29T18:20:46.999Z"
   },
   {
    "duration": 13,
    "start_time": "2022-03-29T18:20:47.029Z"
   },
   {
    "duration": 25,
    "start_time": "2022-03-29T18:20:47.044Z"
   },
   {
    "duration": 9,
    "start_time": "2022-03-29T18:20:47.071Z"
   },
   {
    "duration": 38,
    "start_time": "2022-03-29T18:20:47.081Z"
   },
   {
    "duration": 8,
    "start_time": "2022-03-29T18:20:47.121Z"
   },
   {
    "duration": 10,
    "start_time": "2022-03-29T18:20:47.132Z"
   },
   {
    "duration": 10,
    "start_time": "2022-03-29T18:20:47.144Z"
   },
   {
    "duration": 12,
    "start_time": "2022-03-29T18:20:47.155Z"
   },
   {
    "duration": 15,
    "start_time": "2022-03-29T18:20:47.169Z"
   },
   {
    "duration": 565,
    "start_time": "2022-03-29T18:20:47.217Z"
   },
   {
    "duration": 232,
    "start_time": "2022-03-29T18:20:47.783Z"
   },
   {
    "duration": 344,
    "start_time": "2022-03-29T18:20:48.017Z"
   },
   {
    "duration": 236,
    "start_time": "2022-03-29T18:20:48.363Z"
   },
   {
    "duration": 331,
    "start_time": "2022-03-29T18:20:48.601Z"
   },
   {
    "duration": 168,
    "start_time": "2022-03-29T18:20:48.934Z"
   },
   {
    "duration": 5,
    "start_time": "2022-03-29T18:20:49.103Z"
   },
   {
    "duration": 166,
    "start_time": "2022-03-29T18:20:49.110Z"
   },
   {
    "duration": 4,
    "start_time": "2022-03-29T18:20:49.278Z"
   },
   {
    "duration": 499,
    "start_time": "2022-03-29T18:20:49.284Z"
   },
   {
    "duration": 10,
    "start_time": "2022-03-29T18:20:49.784Z"
   },
   {
    "duration": 22,
    "start_time": "2022-03-29T18:20:49.796Z"
   },
   {
    "duration": 28,
    "start_time": "2022-03-29T18:20:56.879Z"
   },
   {
    "duration": 1242,
    "start_time": "2022-03-29T18:26:11.538Z"
   },
   {
    "duration": 14,
    "start_time": "2022-03-29T18:26:27.982Z"
   },
   {
    "duration": 4,
    "start_time": "2022-03-29T18:32:20.128Z"
   },
   {
    "duration": 68,
    "start_time": "2022-03-29T18:32:20.133Z"
   },
   {
    "duration": 4,
    "start_time": "2022-03-29T18:32:20.203Z"
   },
   {
    "duration": 19,
    "start_time": "2022-03-29T18:32:20.208Z"
   },
   {
    "duration": 13,
    "start_time": "2022-03-29T18:32:20.229Z"
   },
   {
    "duration": 28,
    "start_time": "2022-03-29T18:32:20.243Z"
   },
   {
    "duration": 36,
    "start_time": "2022-03-29T18:32:20.273Z"
   },
   {
    "duration": 14,
    "start_time": "2022-03-29T18:32:20.310Z"
   },
   {
    "duration": 7,
    "start_time": "2022-03-29T18:32:20.325Z"
   },
   {
    "duration": 10,
    "start_time": "2022-03-29T18:32:20.334Z"
   },
   {
    "duration": 13,
    "start_time": "2022-03-29T18:32:20.345Z"
   },
   {
    "duration": 10,
    "start_time": "2022-03-29T18:32:20.360Z"
   },
   {
    "duration": 17,
    "start_time": "2022-03-29T18:32:20.410Z"
   },
   {
    "duration": 550,
    "start_time": "2022-03-29T18:32:20.430Z"
   },
   {
    "duration": 222,
    "start_time": "2022-03-29T18:32:20.982Z"
   },
   {
    "duration": 312,
    "start_time": "2022-03-29T18:32:21.208Z"
   },
   {
    "duration": 241,
    "start_time": "2022-03-29T18:32:21.521Z"
   },
   {
    "duration": 347,
    "start_time": "2022-03-29T18:32:21.764Z"
   },
   {
    "duration": 171,
    "start_time": "2022-03-29T18:32:22.112Z"
   },
   {
    "duration": 5,
    "start_time": "2022-03-29T18:32:22.285Z"
   },
   {
    "duration": 163,
    "start_time": "2022-03-29T18:32:22.292Z"
   },
   {
    "duration": 4,
    "start_time": "2022-03-29T18:32:22.457Z"
   },
   {
    "duration": 475,
    "start_time": "2022-03-29T18:32:22.463Z"
   },
   {
    "duration": 11,
    "start_time": "2022-03-29T18:32:22.939Z"
   },
   {
    "duration": 7,
    "start_time": "2022-03-29T18:32:22.954Z"
   },
   {
    "duration": 54,
    "start_time": "2022-03-29T18:32:22.963Z"
   },
   {
    "duration": 13,
    "start_time": "2022-03-29T18:32:23.019Z"
   },
   {
    "duration": 305,
    "start_time": "2022-03-29T18:39:00.174Z"
   },
   {
    "duration": 4,
    "start_time": "2022-03-29T19:44:40.038Z"
   },
   {
    "duration": 91,
    "start_time": "2022-03-29T19:44:40.044Z"
   },
   {
    "duration": 4,
    "start_time": "2022-03-29T19:44:40.138Z"
   },
   {
    "duration": 22,
    "start_time": "2022-03-29T19:44:40.144Z"
   },
   {
    "duration": 26,
    "start_time": "2022-03-29T19:44:40.168Z"
   },
   {
    "duration": 33,
    "start_time": "2022-03-29T19:44:40.196Z"
   },
   {
    "duration": 10,
    "start_time": "2022-03-29T19:44:40.231Z"
   },
   {
    "duration": 14,
    "start_time": "2022-03-29T19:44:40.244Z"
   },
   {
    "duration": 9,
    "start_time": "2022-03-29T19:44:40.261Z"
   },
   {
    "duration": 11,
    "start_time": "2022-03-29T19:44:40.308Z"
   },
   {
    "duration": 11,
    "start_time": "2022-03-29T19:44:40.321Z"
   },
   {
    "duration": 11,
    "start_time": "2022-03-29T19:44:40.333Z"
   },
   {
    "duration": 12,
    "start_time": "2022-03-29T19:44:40.346Z"
   },
   {
    "duration": 516,
    "start_time": "2022-03-29T19:44:40.359Z"
   },
   {
    "duration": 244,
    "start_time": "2022-03-29T19:44:40.877Z"
   },
   {
    "duration": 334,
    "start_time": "2022-03-29T19:44:41.123Z"
   },
   {
    "duration": 257,
    "start_time": "2022-03-29T19:44:41.459Z"
   },
   {
    "duration": 421,
    "start_time": "2022-03-29T19:44:41.718Z"
   },
   {
    "duration": 157,
    "start_time": "2022-03-29T19:44:42.141Z"
   },
   {
    "duration": 11,
    "start_time": "2022-03-29T19:44:42.300Z"
   },
   {
    "duration": 154,
    "start_time": "2022-03-29T19:44:42.312Z"
   },
   {
    "duration": 4,
    "start_time": "2022-03-29T19:44:42.468Z"
   },
   {
    "duration": 489,
    "start_time": "2022-03-29T19:44:42.474Z"
   },
   {
    "duration": 9,
    "start_time": "2022-03-29T19:44:42.965Z"
   },
   {
    "duration": 8,
    "start_time": "2022-03-29T19:44:42.975Z"
   },
   {
    "duration": 48,
    "start_time": "2022-03-29T19:44:42.984Z"
   },
   {
    "duration": 12,
    "start_time": "2022-03-29T19:44:43.034Z"
   },
   {
    "duration": 4,
    "start_time": "2022-03-29T19:47:11.914Z"
   },
   {
    "duration": 70,
    "start_time": "2022-03-29T19:47:11.920Z"
   },
   {
    "duration": 4,
    "start_time": "2022-03-29T19:47:11.991Z"
   },
   {
    "duration": 21,
    "start_time": "2022-03-29T19:47:11.997Z"
   },
   {
    "duration": 15,
    "start_time": "2022-03-29T19:47:12.019Z"
   },
   {
    "duration": 24,
    "start_time": "2022-03-29T19:47:12.035Z"
   },
   {
    "duration": 10,
    "start_time": "2022-03-29T19:47:12.061Z"
   },
   {
    "duration": 47,
    "start_time": "2022-03-29T19:47:12.073Z"
   },
   {
    "duration": 8,
    "start_time": "2022-03-29T19:47:12.123Z"
   },
   {
    "duration": 10,
    "start_time": "2022-03-29T19:47:12.133Z"
   },
   {
    "duration": 11,
    "start_time": "2022-03-29T19:47:12.145Z"
   },
   {
    "duration": 52,
    "start_time": "2022-03-29T19:47:12.158Z"
   },
   {
    "duration": 14,
    "start_time": "2022-03-29T19:47:12.211Z"
   },
   {
    "duration": 489,
    "start_time": "2022-03-29T19:47:12.226Z"
   },
   {
    "duration": 229,
    "start_time": "2022-03-29T19:47:12.717Z"
   },
   {
    "duration": 307,
    "start_time": "2022-03-29T19:47:12.948Z"
   },
   {
    "duration": 235,
    "start_time": "2022-03-29T19:47:13.256Z"
   },
   {
    "duration": 333,
    "start_time": "2022-03-29T19:47:13.492Z"
   },
   {
    "duration": 160,
    "start_time": "2022-03-29T19:47:13.827Z"
   },
   {
    "duration": 4,
    "start_time": "2022-03-29T19:47:13.988Z"
   },
   {
    "duration": 168,
    "start_time": "2022-03-29T19:47:13.994Z"
   },
   {
    "duration": 4,
    "start_time": "2022-03-29T19:47:14.164Z"
   },
   {
    "duration": 506,
    "start_time": "2022-03-29T19:47:14.170Z"
   },
   {
    "duration": 11,
    "start_time": "2022-03-29T19:47:14.679Z"
   },
   {
    "duration": 23,
    "start_time": "2022-03-29T19:47:14.691Z"
   },
   {
    "duration": 30,
    "start_time": "2022-03-29T19:47:14.715Z"
   },
   {
    "duration": 14,
    "start_time": "2022-03-29T19:47:14.747Z"
   },
   {
    "duration": 1324,
    "start_time": "2022-03-29T20:13:27.085Z"
   },
   {
    "duration": 172,
    "start_time": "2022-03-29T20:13:28.411Z"
   },
   {
    "duration": 4,
    "start_time": "2022-03-29T20:13:28.585Z"
   },
   {
    "duration": 22,
    "start_time": "2022-03-29T20:13:28.591Z"
   },
   {
    "duration": 13,
    "start_time": "2022-03-29T20:13:28.615Z"
   },
   {
    "duration": 26,
    "start_time": "2022-03-29T20:13:28.630Z"
   },
   {
    "duration": 10,
    "start_time": "2022-03-29T20:13:28.658Z"
   },
   {
    "duration": 120,
    "start_time": "2022-03-29T20:13:28.669Z"
   },
   {
    "duration": 0,
    "start_time": "2022-03-29T20:13:28.791Z"
   },
   {
    "duration": 0,
    "start_time": "2022-03-29T20:13:28.800Z"
   },
   {
    "duration": 0,
    "start_time": "2022-03-29T20:13:28.802Z"
   },
   {
    "duration": 0,
    "start_time": "2022-03-29T20:13:28.803Z"
   },
   {
    "duration": 0,
    "start_time": "2022-03-29T20:13:28.804Z"
   },
   {
    "duration": 0,
    "start_time": "2022-03-29T20:13:28.805Z"
   },
   {
    "duration": 0,
    "start_time": "2022-03-29T20:13:28.806Z"
   },
   {
    "duration": 0,
    "start_time": "2022-03-29T20:13:28.807Z"
   },
   {
    "duration": 0,
    "start_time": "2022-03-29T20:13:28.809Z"
   },
   {
    "duration": 0,
    "start_time": "2022-03-29T20:13:28.810Z"
   },
   {
    "duration": 0,
    "start_time": "2022-03-29T20:13:28.811Z"
   },
   {
    "duration": 0,
    "start_time": "2022-03-29T20:13:28.812Z"
   },
   {
    "duration": 0,
    "start_time": "2022-03-29T20:13:28.814Z"
   },
   {
    "duration": 0,
    "start_time": "2022-03-29T20:13:28.814Z"
   },
   {
    "duration": 0,
    "start_time": "2022-03-29T20:13:28.815Z"
   },
   {
    "duration": 0,
    "start_time": "2022-03-29T20:13:28.816Z"
   },
   {
    "duration": 0,
    "start_time": "2022-03-29T20:13:28.817Z"
   },
   {
    "duration": 0,
    "start_time": "2022-03-29T20:13:28.818Z"
   },
   {
    "duration": 0,
    "start_time": "2022-03-29T20:13:28.819Z"
   },
   {
    "duration": 0,
    "start_time": "2022-03-29T20:13:28.821Z"
   },
   {
    "duration": 4,
    "start_time": "2022-03-29T20:13:30.201Z"
   },
   {
    "duration": 175,
    "start_time": "2022-03-29T20:13:30.206Z"
   },
   {
    "duration": 4,
    "start_time": "2022-03-29T20:13:30.383Z"
   },
   {
    "duration": 25,
    "start_time": "2022-03-29T20:13:30.389Z"
   },
   {
    "duration": 12,
    "start_time": "2022-03-29T20:13:30.416Z"
   },
   {
    "duration": 37,
    "start_time": "2022-03-29T20:13:30.430Z"
   },
   {
    "duration": 14,
    "start_time": "2022-03-29T20:13:30.468Z"
   },
   {
    "duration": 15,
    "start_time": "2022-03-29T20:13:30.483Z"
   },
   {
    "duration": 1,
    "start_time": "2022-03-29T20:13:30.500Z"
   },
   {
    "duration": 0,
    "start_time": "2022-03-29T20:13:30.502Z"
   },
   {
    "duration": 0,
    "start_time": "2022-03-29T20:13:30.503Z"
   },
   {
    "duration": 0,
    "start_time": "2022-03-29T20:13:30.504Z"
   },
   {
    "duration": 0,
    "start_time": "2022-03-29T20:13:30.505Z"
   },
   {
    "duration": 0,
    "start_time": "2022-03-29T20:13:30.506Z"
   },
   {
    "duration": 0,
    "start_time": "2022-03-29T20:13:30.507Z"
   },
   {
    "duration": 0,
    "start_time": "2022-03-29T20:13:30.508Z"
   },
   {
    "duration": 0,
    "start_time": "2022-03-29T20:13:30.509Z"
   },
   {
    "duration": 0,
    "start_time": "2022-03-29T20:13:30.510Z"
   },
   {
    "duration": 0,
    "start_time": "2022-03-29T20:13:30.511Z"
   },
   {
    "duration": 0,
    "start_time": "2022-03-29T20:13:30.512Z"
   },
   {
    "duration": 0,
    "start_time": "2022-03-29T20:13:30.513Z"
   },
   {
    "duration": 0,
    "start_time": "2022-03-29T20:13:30.514Z"
   },
   {
    "duration": 0,
    "start_time": "2022-03-29T20:13:30.516Z"
   },
   {
    "duration": 0,
    "start_time": "2022-03-29T20:13:30.517Z"
   },
   {
    "duration": 0,
    "start_time": "2022-03-29T20:13:30.518Z"
   },
   {
    "duration": 0,
    "start_time": "2022-03-29T20:13:30.519Z"
   },
   {
    "duration": 0,
    "start_time": "2022-03-29T20:13:30.521Z"
   },
   {
    "duration": 0,
    "start_time": "2022-03-29T20:13:30.522Z"
   },
   {
    "duration": 8,
    "start_time": "2022-03-29T20:14:56.159Z"
   },
   {
    "duration": 8,
    "start_time": "2022-03-29T20:15:07.672Z"
   },
   {
    "duration": 10,
    "start_time": "2022-03-29T20:19:21.044Z"
   },
   {
    "duration": 4,
    "start_time": "2022-03-29T20:19:40.666Z"
   },
   {
    "duration": 4,
    "start_time": "2022-03-29T20:20:07.320Z"
   },
   {
    "duration": 5,
    "start_time": "2022-03-29T20:20:23.914Z"
   },
   {
    "duration": 8,
    "start_time": "2022-03-29T20:21:31.455Z"
   },
   {
    "duration": 5,
    "start_time": "2022-03-29T20:21:50.330Z"
   },
   {
    "duration": 5,
    "start_time": "2022-03-29T20:22:06.163Z"
   },
   {
    "duration": 5,
    "start_time": "2022-03-29T20:22:22.112Z"
   },
   {
    "duration": 4,
    "start_time": "2022-03-29T20:22:28.769Z"
   },
   {
    "duration": 4,
    "start_time": "2022-03-29T20:22:33.994Z"
   },
   {
    "duration": 5,
    "start_time": "2022-03-29T20:22:43.909Z"
   },
   {
    "duration": 4,
    "start_time": "2022-03-29T20:23:23.539Z"
   },
   {
    "duration": 3,
    "start_time": "2022-03-29T20:24:26.543Z"
   },
   {
    "duration": 216,
    "start_time": "2022-03-29T20:24:26.548Z"
   },
   {
    "duration": 4,
    "start_time": "2022-03-29T20:24:26.765Z"
   },
   {
    "duration": 24,
    "start_time": "2022-03-29T20:24:26.770Z"
   },
   {
    "duration": 19,
    "start_time": "2022-03-29T20:24:26.798Z"
   },
   {
    "duration": 22,
    "start_time": "2022-03-29T20:24:26.818Z"
   },
   {
    "duration": 9,
    "start_time": "2022-03-29T20:24:26.841Z"
   },
   {
    "duration": 3,
    "start_time": "2022-03-29T20:24:26.851Z"
   },
   {
    "duration": 16,
    "start_time": "2022-03-29T20:24:26.855Z"
   },
   {
    "duration": 30,
    "start_time": "2022-03-29T20:24:26.872Z"
   },
   {
    "duration": 11,
    "start_time": "2022-03-29T20:24:26.904Z"
   },
   {
    "duration": 10,
    "start_time": "2022-03-29T20:24:26.916Z"
   },
   {
    "duration": 9,
    "start_time": "2022-03-29T20:24:26.928Z"
   },
   {
    "duration": 13,
    "start_time": "2022-03-29T20:24:26.940Z"
   },
   {
    "duration": 529,
    "start_time": "2022-03-29T20:24:26.954Z"
   },
   {
    "duration": 194,
    "start_time": "2022-03-29T20:24:27.484Z"
   },
   {
    "duration": 370,
    "start_time": "2022-03-29T20:24:27.679Z"
   },
   {
    "duration": 199,
    "start_time": "2022-03-29T20:24:28.051Z"
   },
   {
    "duration": 289,
    "start_time": "2022-03-29T20:24:28.252Z"
   },
   {
    "duration": 149,
    "start_time": "2022-03-29T20:24:28.543Z"
   },
   {
    "duration": 9,
    "start_time": "2022-03-29T20:24:28.694Z"
   },
   {
    "duration": 148,
    "start_time": "2022-03-29T20:24:28.705Z"
   },
   {
    "duration": 4,
    "start_time": "2022-03-29T20:24:28.854Z"
   },
   {
    "duration": 473,
    "start_time": "2022-03-29T20:24:28.860Z"
   },
   {
    "duration": 9,
    "start_time": "2022-03-29T20:24:29.335Z"
   },
   {
    "duration": 28,
    "start_time": "2022-03-29T20:24:29.345Z"
   },
   {
    "duration": 26,
    "start_time": "2022-03-29T20:24:29.375Z"
   },
   {
    "duration": 13,
    "start_time": "2022-03-29T20:24:29.403Z"
   },
   {
    "duration": 1636,
    "start_time": "2022-03-30T05:26:19.728Z"
   },
   {
    "duration": 93,
    "start_time": "2022-03-30T05:26:21.367Z"
   },
   {
    "duration": 7,
    "start_time": "2022-03-30T05:26:21.463Z"
   },
   {
    "duration": 32,
    "start_time": "2022-03-30T05:26:21.474Z"
   },
   {
    "duration": 23,
    "start_time": "2022-03-30T05:26:21.508Z"
   },
   {
    "duration": 65,
    "start_time": "2022-03-30T05:26:21.533Z"
   },
   {
    "duration": 15,
    "start_time": "2022-03-30T05:26:21.601Z"
   },
   {
    "duration": 6,
    "start_time": "2022-03-30T05:26:21.619Z"
   },
   {
    "duration": 60,
    "start_time": "2022-03-30T05:26:21.627Z"
   },
   {
    "duration": 12,
    "start_time": "2022-03-30T05:26:21.691Z"
   },
   {
    "duration": 17,
    "start_time": "2022-03-30T05:26:21.705Z"
   },
   {
    "duration": 54,
    "start_time": "2022-03-30T05:26:21.724Z"
   },
   {
    "duration": 18,
    "start_time": "2022-03-30T05:26:21.782Z"
   },
   {
    "duration": 22,
    "start_time": "2022-03-30T05:26:21.802Z"
   },
   {
    "duration": 968,
    "start_time": "2022-03-30T05:26:21.826Z"
   },
   {
    "duration": 387,
    "start_time": "2022-03-30T05:26:22.796Z"
   },
   {
    "duration": 454,
    "start_time": "2022-03-30T05:26:23.185Z"
   },
   {
    "duration": 370,
    "start_time": "2022-03-30T05:26:23.641Z"
   },
   {
    "duration": 478,
    "start_time": "2022-03-30T05:26:24.013Z"
   },
   {
    "duration": 288,
    "start_time": "2022-03-30T05:26:24.493Z"
   },
   {
    "duration": 8,
    "start_time": "2022-03-30T05:26:24.784Z"
   },
   {
    "duration": 287,
    "start_time": "2022-03-30T05:26:24.795Z"
   },
   {
    "duration": 7,
    "start_time": "2022-03-30T05:26:25.085Z"
   },
   {
    "duration": 900,
    "start_time": "2022-03-30T05:26:25.095Z"
   },
   {
    "duration": 17,
    "start_time": "2022-03-30T05:26:25.998Z"
   },
   {
    "duration": 17,
    "start_time": "2022-03-30T05:26:26.017Z"
   },
   {
    "duration": 68,
    "start_time": "2022-03-30T05:26:26.036Z"
   },
   {
    "duration": 20,
    "start_time": "2022-03-30T05:26:26.109Z"
   },
   {
    "duration": 47,
    "start_time": "2022-03-30T11:42:52.790Z"
   },
   {
    "duration": 1375,
    "start_time": "2022-03-30T11:43:02.328Z"
   },
   {
    "duration": 90,
    "start_time": "2022-03-30T11:43:03.705Z"
   },
   {
    "duration": 4,
    "start_time": "2022-03-30T11:43:03.796Z"
   },
   {
    "duration": 27,
    "start_time": "2022-03-30T11:43:03.801Z"
   },
   {
    "duration": 14,
    "start_time": "2022-03-30T11:43:03.830Z"
   },
   {
    "duration": 29,
    "start_time": "2022-03-30T11:43:03.846Z"
   },
   {
    "duration": 11,
    "start_time": "2022-03-30T11:43:03.877Z"
   },
   {
    "duration": 3,
    "start_time": "2022-03-30T11:43:03.889Z"
   },
   {
    "duration": 14,
    "start_time": "2022-03-30T11:43:03.894Z"
   },
   {
    "duration": 33,
    "start_time": "2022-03-30T11:43:03.909Z"
   },
   {
    "duration": 11,
    "start_time": "2022-03-30T11:43:03.944Z"
   },
   {
    "duration": 10,
    "start_time": "2022-03-30T11:43:03.956Z"
   },
   {
    "duration": 82,
    "start_time": "2022-03-30T11:43:03.968Z"
   },
   {
    "duration": 0,
    "start_time": "2022-03-30T11:43:04.053Z"
   },
   {
    "duration": 0,
    "start_time": "2022-03-30T11:43:04.054Z"
   },
   {
    "duration": 0,
    "start_time": "2022-03-30T11:43:04.055Z"
   },
   {
    "duration": 0,
    "start_time": "2022-03-30T11:43:04.056Z"
   },
   {
    "duration": 0,
    "start_time": "2022-03-30T11:43:04.057Z"
   },
   {
    "duration": 0,
    "start_time": "2022-03-30T11:43:04.058Z"
   },
   {
    "duration": 0,
    "start_time": "2022-03-30T11:43:04.059Z"
   },
   {
    "duration": 0,
    "start_time": "2022-03-30T11:43:04.059Z"
   },
   {
    "duration": 0,
    "start_time": "2022-03-30T11:43:04.061Z"
   },
   {
    "duration": 0,
    "start_time": "2022-03-30T11:43:04.061Z"
   },
   {
    "duration": 0,
    "start_time": "2022-03-30T11:43:04.063Z"
   },
   {
    "duration": 0,
    "start_time": "2022-03-30T11:43:04.063Z"
   },
   {
    "duration": 0,
    "start_time": "2022-03-30T11:43:04.064Z"
   },
   {
    "duration": 0,
    "start_time": "2022-03-30T11:43:04.066Z"
   },
   {
    "duration": 0,
    "start_time": "2022-03-30T11:43:04.067Z"
   },
   {
    "duration": 17,
    "start_time": "2022-03-30T11:43:30.086Z"
   },
   {
    "duration": 15,
    "start_time": "2022-03-30T11:43:49.561Z"
   },
   {
    "duration": 16,
    "start_time": "2022-03-30T11:43:57.327Z"
   },
   {
    "duration": 8,
    "start_time": "2022-03-30T11:48:16.711Z"
   },
   {
    "duration": 9,
    "start_time": "2022-03-30T11:49:35.182Z"
   },
   {
    "duration": 11,
    "start_time": "2022-03-30T11:53:52.785Z"
   },
   {
    "duration": 42,
    "start_time": "2022-03-30T11:54:36.178Z"
   },
   {
    "duration": 7,
    "start_time": "2022-03-30T11:54:56.577Z"
   },
   {
    "duration": 4,
    "start_time": "2022-03-30T12:07:18.812Z"
   },
   {
    "duration": 97,
    "start_time": "2022-03-30T12:07:18.818Z"
   },
   {
    "duration": 5,
    "start_time": "2022-03-30T12:07:18.916Z"
   },
   {
    "duration": 20,
    "start_time": "2022-03-30T12:07:18.924Z"
   },
   {
    "duration": 19,
    "start_time": "2022-03-30T12:07:18.946Z"
   },
   {
    "duration": 40,
    "start_time": "2022-03-30T12:07:18.967Z"
   },
   {
    "duration": 10,
    "start_time": "2022-03-30T12:07:19.009Z"
   },
   {
    "duration": 5,
    "start_time": "2022-03-30T12:07:19.038Z"
   },
   {
    "duration": 24,
    "start_time": "2022-03-30T12:07:19.044Z"
   },
   {
    "duration": 10,
    "start_time": "2022-03-30T12:07:19.071Z"
   },
   {
    "duration": 21,
    "start_time": "2022-03-30T12:07:19.084Z"
   },
   {
    "duration": 40,
    "start_time": "2022-03-30T12:07:19.107Z"
   },
   {
    "duration": 11,
    "start_time": "2022-03-30T12:07:19.149Z"
   },
   {
    "duration": 24,
    "start_time": "2022-03-30T12:07:19.162Z"
   },
   {
    "duration": 574,
    "start_time": "2022-03-30T12:07:19.188Z"
   },
   {
    "duration": 234,
    "start_time": "2022-03-30T12:07:19.764Z"
   },
   {
    "duration": 422,
    "start_time": "2022-03-30T12:07:20.000Z"
   },
   {
    "duration": 237,
    "start_time": "2022-03-30T12:07:20.424Z"
   },
   {
    "duration": 305,
    "start_time": "2022-03-30T12:07:20.663Z"
   },
   {
    "duration": 169,
    "start_time": "2022-03-30T12:07:20.971Z"
   },
   {
    "duration": 4,
    "start_time": "2022-03-30T12:07:21.142Z"
   },
   {
    "duration": 175,
    "start_time": "2022-03-30T12:07:21.147Z"
   },
   {
    "duration": 4,
    "start_time": "2022-03-30T12:07:21.324Z"
   },
   {
    "duration": 560,
    "start_time": "2022-03-30T12:07:21.337Z"
   },
   {
    "duration": 11,
    "start_time": "2022-03-30T12:07:21.899Z"
   },
   {
    "duration": 10,
    "start_time": "2022-03-30T12:07:21.911Z"
   },
   {
    "duration": 43,
    "start_time": "2022-03-30T12:07:21.923Z"
   },
   {
    "duration": 14,
    "start_time": "2022-03-30T12:07:21.970Z"
   },
   {
    "duration": 451,
    "start_time": "2022-03-30T12:09:35.240Z"
   },
   {
    "duration": 499,
    "start_time": "2022-03-30T12:09:44.811Z"
   },
   {
    "duration": 515,
    "start_time": "2022-03-30T12:12:15.041Z"
   },
   {
    "duration": 475,
    "start_time": "2022-03-30T12:14:04.645Z"
   },
   {
    "duration": 230,
    "start_time": "2022-03-30T12:15:46.697Z"
   },
   {
    "duration": 363,
    "start_time": "2022-03-30T12:18:09.609Z"
   },
   {
    "duration": 223,
    "start_time": "2022-03-30T12:18:43.078Z"
   },
   {
    "duration": 232,
    "start_time": "2022-03-30T12:21:12.595Z"
   },
   {
    "duration": 328,
    "start_time": "2022-03-30T12:21:37.448Z"
   },
   {
    "duration": 335,
    "start_time": "2022-03-30T12:22:32.559Z"
   },
   {
    "duration": 17,
    "start_time": "2022-03-30T12:44:49.619Z"
   },
   {
    "duration": 14,
    "start_time": "2022-03-30T12:45:14.899Z"
   },
   {
    "duration": 8,
    "start_time": "2022-03-30T12:45:26.725Z"
   },
   {
    "duration": 22,
    "start_time": "2022-03-30T12:45:32.250Z"
   },
   {
    "duration": 9,
    "start_time": "2022-03-30T12:45:36.870Z"
   },
   {
    "duration": 8,
    "start_time": "2022-03-30T12:46:03.885Z"
   },
   {
    "duration": 9,
    "start_time": "2022-03-30T12:46:27.089Z"
   },
   {
    "duration": 9,
    "start_time": "2022-03-30T12:46:34.685Z"
   },
   {
    "duration": 1286,
    "start_time": "2022-03-30T12:50:08.827Z"
   },
   {
    "duration": 116,
    "start_time": "2022-03-30T12:50:10.117Z"
   },
   {
    "duration": 4,
    "start_time": "2022-03-30T12:50:10.235Z"
   },
   {
    "duration": 31,
    "start_time": "2022-03-30T12:50:10.241Z"
   },
   {
    "duration": 14,
    "start_time": "2022-03-30T12:50:10.275Z"
   },
   {
    "duration": 30,
    "start_time": "2022-03-30T12:50:10.291Z"
   },
   {
    "duration": 24,
    "start_time": "2022-03-30T12:50:10.323Z"
   },
   {
    "duration": 4,
    "start_time": "2022-03-30T12:50:10.348Z"
   },
   {
    "duration": 14,
    "start_time": "2022-03-30T12:50:10.354Z"
   },
   {
    "duration": 8,
    "start_time": "2022-03-30T12:50:10.370Z"
   },
   {
    "duration": 11,
    "start_time": "2022-03-30T12:50:10.381Z"
   },
   {
    "duration": 52,
    "start_time": "2022-03-30T12:50:10.394Z"
   },
   {
    "duration": 44,
    "start_time": "2022-03-30T12:50:10.448Z"
   },
   {
    "duration": 14,
    "start_time": "2022-03-30T12:50:10.495Z"
   },
   {
    "duration": 576,
    "start_time": "2022-03-30T12:50:10.511Z"
   },
   {
    "duration": 238,
    "start_time": "2022-03-30T12:50:11.089Z"
   },
   {
    "duration": 370,
    "start_time": "2022-03-30T12:50:11.336Z"
   },
   {
    "duration": 236,
    "start_time": "2022-03-30T12:50:11.708Z"
   },
   {
    "duration": 379,
    "start_time": "2022-03-30T12:50:11.946Z"
   },
   {
    "duration": 167,
    "start_time": "2022-03-30T12:50:12.327Z"
   },
   {
    "duration": 4,
    "start_time": "2022-03-30T12:50:12.496Z"
   },
   {
    "duration": 162,
    "start_time": "2022-03-30T12:50:12.502Z"
   },
   {
    "duration": 5,
    "start_time": "2022-03-30T12:50:12.666Z"
   },
   {
    "duration": 601,
    "start_time": "2022-03-30T12:50:12.673Z"
   },
   {
    "duration": 12,
    "start_time": "2022-03-30T12:50:13.275Z"
   },
   {
    "duration": 10,
    "start_time": "2022-03-30T12:50:13.289Z"
   },
   {
    "duration": 61,
    "start_time": "2022-03-30T12:50:13.301Z"
   },
   {
    "duration": 17,
    "start_time": "2022-03-30T12:50:13.364Z"
   },
   {
    "duration": 1065,
    "start_time": "2022-03-31T04:36:32.592Z"
   },
   {
    "duration": 98,
    "start_time": "2022-03-31T04:36:33.659Z"
   },
   {
    "duration": 5,
    "start_time": "2022-03-31T04:36:33.758Z"
   },
   {
    "duration": 27,
    "start_time": "2022-03-31T04:36:33.764Z"
   },
   {
    "duration": 13,
    "start_time": "2022-03-31T04:36:33.793Z"
   },
   {
    "duration": 27,
    "start_time": "2022-03-31T04:36:33.808Z"
   },
   {
    "duration": 9,
    "start_time": "2022-03-31T04:36:33.837Z"
   },
   {
    "duration": 5,
    "start_time": "2022-03-31T04:36:33.848Z"
   },
   {
    "duration": 16,
    "start_time": "2022-03-31T04:36:33.854Z"
   },
   {
    "duration": 7,
    "start_time": "2022-03-31T04:36:33.872Z"
   },
   {
    "duration": 11,
    "start_time": "2022-03-31T04:36:33.880Z"
   },
   {
    "duration": 42,
    "start_time": "2022-03-31T04:36:33.892Z"
   },
   {
    "duration": 42,
    "start_time": "2022-03-31T04:36:33.935Z"
   },
   {
    "duration": 12,
    "start_time": "2022-03-31T04:36:33.979Z"
   },
   {
    "duration": 533,
    "start_time": "2022-03-31T04:36:33.993Z"
   },
   {
    "duration": 208,
    "start_time": "2022-03-31T04:36:34.528Z"
   },
   {
    "duration": 318,
    "start_time": "2022-03-31T04:36:34.737Z"
   },
   {
    "duration": 214,
    "start_time": "2022-03-31T04:36:35.057Z"
   },
   {
    "duration": 304,
    "start_time": "2022-03-31T04:36:35.273Z"
   },
   {
    "duration": 138,
    "start_time": "2022-03-31T04:36:35.579Z"
   },
   {
    "duration": 4,
    "start_time": "2022-03-31T04:36:35.718Z"
   },
   {
    "duration": 143,
    "start_time": "2022-03-31T04:36:35.723Z"
   },
   {
    "duration": 4,
    "start_time": "2022-03-31T04:36:35.867Z"
   },
   {
    "duration": 517,
    "start_time": "2022-03-31T04:36:35.872Z"
   },
   {
    "duration": 9,
    "start_time": "2022-03-31T04:36:36.391Z"
   },
   {
    "duration": 7,
    "start_time": "2022-03-31T04:36:36.402Z"
   },
   {
    "duration": 47,
    "start_time": "2022-03-31T04:36:36.411Z"
   },
   {
    "duration": 13,
    "start_time": "2022-03-31T04:36:36.461Z"
   },
   {
    "duration": 221,
    "start_time": "2022-03-31T04:38:31.609Z"
   },
   {
    "duration": 323,
    "start_time": "2022-03-31T04:39:03.564Z"
   },
   {
    "duration": 249,
    "start_time": "2022-03-31T04:39:14.486Z"
   },
   {
    "duration": 223,
    "start_time": "2022-03-31T04:39:35.177Z"
   },
   {
    "duration": 234,
    "start_time": "2022-03-31T04:39:58.916Z"
   },
   {
    "duration": 227,
    "start_time": "2022-03-31T04:40:06.992Z"
   },
   {
    "duration": 216,
    "start_time": "2022-03-31T04:40:18.641Z"
   },
   {
    "duration": 186,
    "start_time": "2022-03-31T04:40:32.957Z"
   },
   {
    "duration": 180,
    "start_time": "2022-03-31T04:40:38.568Z"
   }
  ],
  "kernelspec": {
   "display_name": "Python 3 (ipykernel)",
   "language": "python",
   "name": "python3"
  },
  "language_info": {
   "codemirror_mode": {
    "name": "ipython",
    "version": 3
   },
   "file_extension": ".py",
   "mimetype": "text/x-python",
   "name": "python",
   "nbconvert_exporter": "python",
   "pygments_lexer": "ipython3",
   "version": "3.9.7"
  },
  "toc": {
   "base_numbering": 1,
   "nav_menu": {},
   "number_sections": true,
   "sideBar": true,
   "skip_h1_title": true,
   "title_cell": "Table of Contents",
   "title_sidebar": "Contents",
   "toc_cell": false,
   "toc_position": {},
   "toc_section_display": true,
   "toc_window_display": false
  }
 },
 "nbformat": 4,
 "nbformat_minor": 2
}
