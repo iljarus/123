{
 "cells": [
  {
   "cell_type": "markdown",
   "metadata": {},
   "source": [
    "# иследование рынка игр"
   ]
  },
  {
   "cell_type": "markdown",
   "metadata": {},
   "source": [
    "<div class = \"alert alert-info\" >\n",
    "Вы работаете в интернет-магазине «Стримчик», который продаёт по всему миру компьютерные игры. Из открытых источников доступны исторические данные о продажах игр, оценки пользователей и экспертов, жанры и платформы (например, Xbox или PlayStation). Вам нужно выявить определяющие успешность игры закономерности. Это позволит сделать ставку на потенциально популярный продукт и спланировать рекламные кампании.\n",
    "Перед вами данные до 2016 года. Представим, что сейчас декабрь 2016 г., и вы планируете кампанию на 2017-й. Нужно отработать принцип работы с данными. Неважно, прогнозируете ли вы продажи на 2017 год по данным 2016-го или же 2027-й — по данным 2026 года.\n",
    "В наборе данных попадается аббревиатура ESRB (Entertainment Software Rating Board) — это ассоциация, определяющая возрастной рейтинг компьютерных игр. ESRB оценивает игровой контент и присваивает ему подходящую возрастную категорию, например, «Для взрослых», «Для детей младшего возраста» или «Для подростков»."
   ]
  },
  {
   "cell_type": "markdown",
   "metadata": {},
   "source": [
    "## Откройте файл с данными и изучите общую информацию"
   ]
  },
  {
   "cell_type": "markdown",
   "metadata": {},
   "source": [
    "<div class = \"alert alert-info\" >\n",
    "импортируем нужные нам библиотеки"
   ]
  },
  {
   "cell_type": "code",
   "execution_count": 1,
   "metadata": {},
   "outputs": [],
   "source": [
    "import pandas as pd\n",
    "import matplotlib.pyplot as plt\n",
    "from scipy import stats as st\n",
    "import warnings\n",
    "warnings.filterwarnings('ignore')"
   ]
  },
  {
   "cell_type": "markdown",
   "metadata": {},
   "source": [
    "<div class = \"alert alert-info\" >\n",
    "открываем фаил и просматриваем информации по нему"
   ]
  },
  {
   "cell_type": "code",
   "execution_count": 2,
   "metadata": {},
   "outputs": [
    {
     "data": {
      "text/html": [
       "<div>\n",
       "<style scoped>\n",
       "    .dataframe tbody tr th:only-of-type {\n",
       "        vertical-align: middle;\n",
       "    }\n",
       "\n",
       "    .dataframe tbody tr th {\n",
       "        vertical-align: top;\n",
       "    }\n",
       "\n",
       "    .dataframe thead th {\n",
       "        text-align: right;\n",
       "    }\n",
       "</style>\n",
       "<table border=\"1\" class=\"dataframe\">\n",
       "  <thead>\n",
       "    <tr style=\"text-align: right;\">\n",
       "      <th></th>\n",
       "      <th>Name</th>\n",
       "      <th>Platform</th>\n",
       "      <th>Year_of_Release</th>\n",
       "      <th>Genre</th>\n",
       "      <th>NA_sales</th>\n",
       "      <th>EU_sales</th>\n",
       "      <th>JP_sales</th>\n",
       "      <th>Other_sales</th>\n",
       "      <th>Critic_Score</th>\n",
       "      <th>User_Score</th>\n",
       "      <th>Rating</th>\n",
       "    </tr>\n",
       "  </thead>\n",
       "  <tbody>\n",
       "    <tr>\n",
       "      <td>0</td>\n",
       "      <td>Wii Sports</td>\n",
       "      <td>Wii</td>\n",
       "      <td>2006.0</td>\n",
       "      <td>Sports</td>\n",
       "      <td>41.36</td>\n",
       "      <td>28.96</td>\n",
       "      <td>3.77</td>\n",
       "      <td>8.45</td>\n",
       "      <td>76.0</td>\n",
       "      <td>8</td>\n",
       "      <td>E</td>\n",
       "    </tr>\n",
       "    <tr>\n",
       "      <td>1</td>\n",
       "      <td>Super Mario Bros.</td>\n",
       "      <td>NES</td>\n",
       "      <td>1985.0</td>\n",
       "      <td>Platform</td>\n",
       "      <td>29.08</td>\n",
       "      <td>3.58</td>\n",
       "      <td>6.81</td>\n",
       "      <td>0.77</td>\n",
       "      <td>NaN</td>\n",
       "      <td>NaN</td>\n",
       "      <td>NaN</td>\n",
       "    </tr>\n",
       "    <tr>\n",
       "      <td>2</td>\n",
       "      <td>Mario Kart Wii</td>\n",
       "      <td>Wii</td>\n",
       "      <td>2008.0</td>\n",
       "      <td>Racing</td>\n",
       "      <td>15.68</td>\n",
       "      <td>12.76</td>\n",
       "      <td>3.79</td>\n",
       "      <td>3.29</td>\n",
       "      <td>82.0</td>\n",
       "      <td>8.3</td>\n",
       "      <td>E</td>\n",
       "    </tr>\n",
       "    <tr>\n",
       "      <td>3</td>\n",
       "      <td>Wii Sports Resort</td>\n",
       "      <td>Wii</td>\n",
       "      <td>2009.0</td>\n",
       "      <td>Sports</td>\n",
       "      <td>15.61</td>\n",
       "      <td>10.93</td>\n",
       "      <td>3.28</td>\n",
       "      <td>2.95</td>\n",
       "      <td>80.0</td>\n",
       "      <td>8</td>\n",
       "      <td>E</td>\n",
       "    </tr>\n",
       "    <tr>\n",
       "      <td>4</td>\n",
       "      <td>Pokemon Red/Pokemon Blue</td>\n",
       "      <td>GB</td>\n",
       "      <td>1996.0</td>\n",
       "      <td>Role-Playing</td>\n",
       "      <td>11.27</td>\n",
       "      <td>8.89</td>\n",
       "      <td>10.22</td>\n",
       "      <td>1.00</td>\n",
       "      <td>NaN</td>\n",
       "      <td>NaN</td>\n",
       "      <td>NaN</td>\n",
       "    </tr>\n",
       "  </tbody>\n",
       "</table>\n",
       "</div>"
      ],
      "text/plain": [
       "                       Name Platform  Year_of_Release         Genre  NA_sales  \\\n",
       "0                Wii Sports      Wii           2006.0        Sports     41.36   \n",
       "1         Super Mario Bros.      NES           1985.0      Platform     29.08   \n",
       "2            Mario Kart Wii      Wii           2008.0        Racing     15.68   \n",
       "3         Wii Sports Resort      Wii           2009.0        Sports     15.61   \n",
       "4  Pokemon Red/Pokemon Blue       GB           1996.0  Role-Playing     11.27   \n",
       "\n",
       "   EU_sales  JP_sales  Other_sales  Critic_Score User_Score Rating  \n",
       "0     28.96      3.77         8.45          76.0          8      E  \n",
       "1      3.58      6.81         0.77           NaN        NaN    NaN  \n",
       "2     12.76      3.79         3.29          82.0        8.3      E  \n",
       "3     10.93      3.28         2.95          80.0          8      E  \n",
       "4      8.89     10.22         1.00           NaN        NaN    NaN  "
      ]
     },
     "execution_count": 2,
     "metadata": {},
     "output_type": "execute_result"
    }
   ],
   "source": [
    "try:\n",
    "    data = pd.read_csv('games.csv' )\n",
    "except:\n",
    "    data = pd.read_csv('/datasets/games.csv')\n",
    "data.head()"
   ]
  },
  {
   "cell_type": "code",
   "execution_count": 3,
   "metadata": {},
   "outputs": [
    {
     "name": "stdout",
     "output_type": "stream",
     "text": [
      "<class 'pandas.core.frame.DataFrame'>\n",
      "RangeIndex: 16715 entries, 0 to 16714\n",
      "Data columns (total 11 columns):\n",
      "Name               16713 non-null object\n",
      "Platform           16715 non-null object\n",
      "Year_of_Release    16446 non-null float64\n",
      "Genre              16713 non-null object\n",
      "NA_sales           16715 non-null float64\n",
      "EU_sales           16715 non-null float64\n",
      "JP_sales           16715 non-null float64\n",
      "Other_sales        16715 non-null float64\n",
      "Critic_Score       8137 non-null float64\n",
      "User_Score         10014 non-null object\n",
      "Rating             9949 non-null object\n",
      "dtypes: float64(6), object(5)\n",
      "memory usage: 1.4+ MB\n"
     ]
    }
   ],
   "source": [
    "data.info()"
   ]
  },
  {
   "cell_type": "code",
   "execution_count": 4,
   "metadata": {},
   "outputs": [
    {
     "data": {
      "text/plain": [
       "Name                  2\n",
       "Platform              0\n",
       "Year_of_Release     269\n",
       "Genre                 2\n",
       "NA_sales              0\n",
       "EU_sales              0\n",
       "JP_sales              0\n",
       "Other_sales           0\n",
       "Critic_Score       8578\n",
       "User_Score         6701\n",
       "Rating             6766\n",
       "dtype: int64"
      ]
     },
     "execution_count": 4,
     "metadata": {},
     "output_type": "execute_result"
    }
   ],
   "source": [
    "data.isna().sum()# посмотрим пропуски"
   ]
  },
  {
   "cell_type": "markdown",
   "metadata": {},
   "source": [
    "## Подготовьте данные"
   ]
  },
  {
   "cell_type": "markdown",
   "metadata": {},
   "source": [
    "### Замените названия столбцов (приведите к нижнему регистру);"
   ]
  },
  {
   "cell_type": "code",
   "execution_count": 5,
   "metadata": {},
   "outputs": [],
   "source": [
    "data.columns = data.columns.str.lower() # переведем названия столбов к нижнему регистру"
   ]
  },
  {
   "cell_type": "code",
   "execution_count": 6,
   "metadata": {},
   "outputs": [
    {
     "data": {
      "text/html": [
       "<div>\n",
       "<style scoped>\n",
       "    .dataframe tbody tr th:only-of-type {\n",
       "        vertical-align: middle;\n",
       "    }\n",
       "\n",
       "    .dataframe tbody tr th {\n",
       "        vertical-align: top;\n",
       "    }\n",
       "\n",
       "    .dataframe thead th {\n",
       "        text-align: right;\n",
       "    }\n",
       "</style>\n",
       "<table border=\"1\" class=\"dataframe\">\n",
       "  <thead>\n",
       "    <tr style=\"text-align: right;\">\n",
       "      <th></th>\n",
       "      <th>name</th>\n",
       "      <th>platform</th>\n",
       "      <th>year_of_release</th>\n",
       "      <th>genre</th>\n",
       "      <th>na_sales</th>\n",
       "      <th>eu_sales</th>\n",
       "      <th>jp_sales</th>\n",
       "      <th>other_sales</th>\n",
       "      <th>critic_score</th>\n",
       "      <th>user_score</th>\n",
       "      <th>rating</th>\n",
       "    </tr>\n",
       "  </thead>\n",
       "  <tbody>\n",
       "    <tr>\n",
       "      <td>0</td>\n",
       "      <td>Wii Sports</td>\n",
       "      <td>Wii</td>\n",
       "      <td>2006.0</td>\n",
       "      <td>Sports</td>\n",
       "      <td>41.36</td>\n",
       "      <td>28.96</td>\n",
       "      <td>3.77</td>\n",
       "      <td>8.45</td>\n",
       "      <td>76.0</td>\n",
       "      <td>8</td>\n",
       "      <td>E</td>\n",
       "    </tr>\n",
       "    <tr>\n",
       "      <td>1</td>\n",
       "      <td>Super Mario Bros.</td>\n",
       "      <td>NES</td>\n",
       "      <td>1985.0</td>\n",
       "      <td>Platform</td>\n",
       "      <td>29.08</td>\n",
       "      <td>3.58</td>\n",
       "      <td>6.81</td>\n",
       "      <td>0.77</td>\n",
       "      <td>NaN</td>\n",
       "      <td>NaN</td>\n",
       "      <td>NaN</td>\n",
       "    </tr>\n",
       "    <tr>\n",
       "      <td>2</td>\n",
       "      <td>Mario Kart Wii</td>\n",
       "      <td>Wii</td>\n",
       "      <td>2008.0</td>\n",
       "      <td>Racing</td>\n",
       "      <td>15.68</td>\n",
       "      <td>12.76</td>\n",
       "      <td>3.79</td>\n",
       "      <td>3.29</td>\n",
       "      <td>82.0</td>\n",
       "      <td>8.3</td>\n",
       "      <td>E</td>\n",
       "    </tr>\n",
       "    <tr>\n",
       "      <td>3</td>\n",
       "      <td>Wii Sports Resort</td>\n",
       "      <td>Wii</td>\n",
       "      <td>2009.0</td>\n",
       "      <td>Sports</td>\n",
       "      <td>15.61</td>\n",
       "      <td>10.93</td>\n",
       "      <td>3.28</td>\n",
       "      <td>2.95</td>\n",
       "      <td>80.0</td>\n",
       "      <td>8</td>\n",
       "      <td>E</td>\n",
       "    </tr>\n",
       "    <tr>\n",
       "      <td>4</td>\n",
       "      <td>Pokemon Red/Pokemon Blue</td>\n",
       "      <td>GB</td>\n",
       "      <td>1996.0</td>\n",
       "      <td>Role-Playing</td>\n",
       "      <td>11.27</td>\n",
       "      <td>8.89</td>\n",
       "      <td>10.22</td>\n",
       "      <td>1.00</td>\n",
       "      <td>NaN</td>\n",
       "      <td>NaN</td>\n",
       "      <td>NaN</td>\n",
       "    </tr>\n",
       "  </tbody>\n",
       "</table>\n",
       "</div>"
      ],
      "text/plain": [
       "                       name platform  year_of_release         genre  na_sales  \\\n",
       "0                Wii Sports      Wii           2006.0        Sports     41.36   \n",
       "1         Super Mario Bros.      NES           1985.0      Platform     29.08   \n",
       "2            Mario Kart Wii      Wii           2008.0        Racing     15.68   \n",
       "3         Wii Sports Resort      Wii           2009.0        Sports     15.61   \n",
       "4  Pokemon Red/Pokemon Blue       GB           1996.0  Role-Playing     11.27   \n",
       "\n",
       "   eu_sales  jp_sales  other_sales  critic_score user_score rating  \n",
       "0     28.96      3.77         8.45          76.0          8      E  \n",
       "1      3.58      6.81         0.77           NaN        NaN    NaN  \n",
       "2     12.76      3.79         3.29          82.0        8.3      E  \n",
       "3     10.93      3.28         2.95          80.0          8      E  \n",
       "4      8.89     10.22         1.00           NaN        NaN    NaN  "
      ]
     },
     "execution_count": 6,
     "metadata": {},
     "output_type": "execute_result"
    }
   ],
   "source": [
    "data.head() # проверим"
   ]
  },
  {
   "cell_type": "markdown",
   "metadata": {},
   "source": [
    "<div class = \"alert alert-info\" >\n",
    "удалим пропуски в колонке названия и гор выпуска так как их количество не значительно"
   ]
  },
  {
   "cell_type": "code",
   "execution_count": 7,
   "metadata": {},
   "outputs": [],
   "source": [
    "data.dropna(subset=['name' , 'year_of_release'], inplace=True) "
   ]
  },
  {
   "cell_type": "code",
   "execution_count": 8,
   "metadata": {},
   "outputs": [
    {
     "name": "stdout",
     "output_type": "stream",
     "text": [
      "количество дубликатов: 0\n"
     ]
    }
   ],
   "source": [
    "print('количество дубликатов:' , data.duplicated().sum()) # проверим дубликаты"
   ]
  },
  {
   "cell_type": "markdown",
   "metadata": {},
   "source": [
    "### Преобразуйте данные в нужные типы. Опишите, в каких столбцах заменили тип данных и почему;"
   ]
  },
  {
   "cell_type": "code",
   "execution_count": 9,
   "metadata": {},
   "outputs": [],
   "source": [
    "data['year_of_release'] = data['year_of_release'].astype('int64')"
   ]
  },
  {
   "cell_type": "code",
   "execution_count": 10,
   "metadata": {},
   "outputs": [],
   "source": [
    "data.loc[data['user_score'] == 'tbd', 'user_score'] = float('NaN')\n",
    "data['user_score'] = data['user_score'].astype('float64')"
   ]
  },
  {
   "cell_type": "markdown",
   "metadata": {},
   "source": [
    "<div class = \"alert alert-info\" >\n",
    "'tbd' - не определено, заменем на пропуски\n",
    "\n",
    "заменили тип в столбце с годом выпуска на целочисленный, и в столбе с оценкой пользователей для дальнейшего использование в построении графиков"
   ]
  },
  {
   "cell_type": "markdown",
   "metadata": {},
   "source": [
    "### Обработайте пропуски при необходимости:"
   ]
  },
  {
   "cell_type": "code",
   "execution_count": 11,
   "metadata": {},
   "outputs": [],
   "source": [
    "data['rating'] = data['rating'].fillna('unknown') # заполним пропуски в столбце с рейтингами заглушками"
   ]
  },
  {
   "cell_type": "markdown",
   "metadata": {},
   "source": [
    "<div class = \"alert alert-info\" >\n",
    "заполняем пропуски только в рейтинге на заглушки остальные пропуски не трогаем если хотим посмотреть реальную оценку датасету, которая может исказиться если заполнить какими либо значениями оченки критиков и пользователей"
   ]
  },
  {
   "cell_type": "code",
   "execution_count": 12,
   "metadata": {},
   "outputs": [
    {
     "data": {
      "text/plain": [
       "name                  0\n",
       "platform              0\n",
       "year_of_release       0\n",
       "genre                 0\n",
       "na_sales              0\n",
       "eu_sales              0\n",
       "jp_sales              0\n",
       "other_sales           0\n",
       "critic_score       8461\n",
       "user_score         8981\n",
       "rating                0\n",
       "dtype: int64"
      ]
     },
     "execution_count": 12,
     "metadata": {},
     "output_type": "execute_result"
    }
   ],
   "source": [
    "data.isna().sum()"
   ]
  },
  {
   "cell_type": "markdown",
   "metadata": {},
   "source": [
    "### Посчитайте суммарные продажи во всех регионах и запишите их в отдельный столбец."
   ]
  },
  {
   "cell_type": "code",
   "execution_count": 13,
   "metadata": {},
   "outputs": [],
   "source": [
    "data['all_sales'] = data['na_sales'] + data['eu_sales'] + data['jp_sales'] + data['other_sales']"
   ]
  },
  {
   "cell_type": "markdown",
   "metadata": {},
   "source": [
    "## Шаг 3. Проведите исследовательский анализ данных"
   ]
  },
  {
   "cell_type": "markdown",
   "metadata": {},
   "source": [
    "### Посмотрите, сколько игр выпускалось в разные годы. Важны ли данные за все периоды?"
   ]
  },
  {
   "cell_type": "code",
   "execution_count": 14,
   "metadata": {
    "scrolled": false
   },
   "outputs": [
    {
     "data": {
      "text/plain": [
       "Text(0, 0.5, 'количество игр')"
      ]
     },
     "execution_count": 14,
     "metadata": {},
     "output_type": "execute_result"
    },
    {
     "data": {
      "image/png": "[encoded data removed]",
      "text/plain": [
       "<Figure size 1080x432 with 1 Axes>"
      ]
     },
     "metadata": {
      "needs_background": "light"
     },
     "output_type": "display_data"
    }
   ],
   "source": [
    "data.hist('year_of_release' , bins = 37, figsize=(15, 6))\n",
    "plt.title(\"сколько игр выпущено в определенный год\")\n",
    "plt.xlabel(\"года\")\n",
    "plt.ylabel(\"количество игр\")"
   ]
  },
  {
   "cell_type": "code",
   "execution_count": 15,
   "metadata": {},
   "outputs": [
    {
     "data": {
      "text/html": [
       "<div>\n",
       "<style scoped>\n",
       "    .dataframe tbody tr th:only-of-type {\n",
       "        vertical-align: middle;\n",
       "    }\n",
       "\n",
       "    .dataframe tbody tr th {\n",
       "        vertical-align: top;\n",
       "    }\n",
       "\n",
       "    .dataframe thead th {\n",
       "        text-align: right;\n",
       "    }\n",
       "</style>\n",
       "<table border=\"1\" class=\"dataframe\">\n",
       "  <thead>\n",
       "    <tr style=\"text-align: right;\">\n",
       "      <th></th>\n",
       "      <th>year_of_release</th>\n",
       "      <th>name</th>\n",
       "    </tr>\n",
       "  </thead>\n",
       "  <tbody>\n",
       "    <tr>\n",
       "      <td>0</td>\n",
       "      <td>2008</td>\n",
       "      <td>1427</td>\n",
       "    </tr>\n",
       "    <tr>\n",
       "      <td>1</td>\n",
       "      <td>2009</td>\n",
       "      <td>1426</td>\n",
       "    </tr>\n",
       "    <tr>\n",
       "      <td>2</td>\n",
       "      <td>2010</td>\n",
       "      <td>1255</td>\n",
       "    </tr>\n",
       "    <tr>\n",
       "      <td>3</td>\n",
       "      <td>2007</td>\n",
       "      <td>1197</td>\n",
       "    </tr>\n",
       "    <tr>\n",
       "      <td>4</td>\n",
       "      <td>2011</td>\n",
       "      <td>1136</td>\n",
       "    </tr>\n",
       "    <tr>\n",
       "      <td>5</td>\n",
       "      <td>2006</td>\n",
       "      <td>1006</td>\n",
       "    </tr>\n",
       "    <tr>\n",
       "      <td>6</td>\n",
       "      <td>2005</td>\n",
       "      <td>939</td>\n",
       "    </tr>\n",
       "    <tr>\n",
       "      <td>7</td>\n",
       "      <td>2002</td>\n",
       "      <td>829</td>\n",
       "    </tr>\n",
       "    <tr>\n",
       "      <td>8</td>\n",
       "      <td>2003</td>\n",
       "      <td>775</td>\n",
       "    </tr>\n",
       "    <tr>\n",
       "      <td>9</td>\n",
       "      <td>2004</td>\n",
       "      <td>762</td>\n",
       "    </tr>\n",
       "    <tr>\n",
       "      <td>10</td>\n",
       "      <td>2012</td>\n",
       "      <td>653</td>\n",
       "    </tr>\n",
       "    <tr>\n",
       "      <td>11</td>\n",
       "      <td>2015</td>\n",
       "      <td>606</td>\n",
       "    </tr>\n",
       "    <tr>\n",
       "      <td>12</td>\n",
       "      <td>2014</td>\n",
       "      <td>581</td>\n",
       "    </tr>\n",
       "    <tr>\n",
       "      <td>13</td>\n",
       "      <td>2013</td>\n",
       "      <td>544</td>\n",
       "    </tr>\n",
       "    <tr>\n",
       "      <td>14</td>\n",
       "      <td>2016</td>\n",
       "      <td>502</td>\n",
       "    </tr>\n",
       "    <tr>\n",
       "      <td>15</td>\n",
       "      <td>2001</td>\n",
       "      <td>482</td>\n",
       "    </tr>\n",
       "    <tr>\n",
       "      <td>16</td>\n",
       "      <td>1998</td>\n",
       "      <td>379</td>\n",
       "    </tr>\n",
       "    <tr>\n",
       "      <td>17</td>\n",
       "      <td>2000</td>\n",
       "      <td>350</td>\n",
       "    </tr>\n",
       "    <tr>\n",
       "      <td>18</td>\n",
       "      <td>1999</td>\n",
       "      <td>338</td>\n",
       "    </tr>\n",
       "    <tr>\n",
       "      <td>19</td>\n",
       "      <td>1997</td>\n",
       "      <td>289</td>\n",
       "    </tr>\n",
       "    <tr>\n",
       "      <td>20</td>\n",
       "      <td>1996</td>\n",
       "      <td>263</td>\n",
       "    </tr>\n",
       "    <tr>\n",
       "      <td>21</td>\n",
       "      <td>1995</td>\n",
       "      <td>219</td>\n",
       "    </tr>\n",
       "    <tr>\n",
       "      <td>22</td>\n",
       "      <td>1994</td>\n",
       "      <td>121</td>\n",
       "    </tr>\n",
       "    <tr>\n",
       "      <td>23</td>\n",
       "      <td>1993</td>\n",
       "      <td>60</td>\n",
       "    </tr>\n",
       "    <tr>\n",
       "      <td>24</td>\n",
       "      <td>1981</td>\n",
       "      <td>46</td>\n",
       "    </tr>\n",
       "    <tr>\n",
       "      <td>25</td>\n",
       "      <td>1992</td>\n",
       "      <td>43</td>\n",
       "    </tr>\n",
       "    <tr>\n",
       "      <td>26</td>\n",
       "      <td>1991</td>\n",
       "      <td>41</td>\n",
       "    </tr>\n",
       "    <tr>\n",
       "      <td>27</td>\n",
       "      <td>1982</td>\n",
       "      <td>36</td>\n",
       "    </tr>\n",
       "    <tr>\n",
       "      <td>28</td>\n",
       "      <td>1986</td>\n",
       "      <td>21</td>\n",
       "    </tr>\n",
       "    <tr>\n",
       "      <td>29</td>\n",
       "      <td>1983</td>\n",
       "      <td>17</td>\n",
       "    </tr>\n",
       "    <tr>\n",
       "      <td>30</td>\n",
       "      <td>1989</td>\n",
       "      <td>17</td>\n",
       "    </tr>\n",
       "    <tr>\n",
       "      <td>31</td>\n",
       "      <td>1987</td>\n",
       "      <td>16</td>\n",
       "    </tr>\n",
       "    <tr>\n",
       "      <td>32</td>\n",
       "      <td>1990</td>\n",
       "      <td>16</td>\n",
       "    </tr>\n",
       "    <tr>\n",
       "      <td>33</td>\n",
       "      <td>1988</td>\n",
       "      <td>15</td>\n",
       "    </tr>\n",
       "    <tr>\n",
       "      <td>34</td>\n",
       "      <td>1985</td>\n",
       "      <td>14</td>\n",
       "    </tr>\n",
       "    <tr>\n",
       "      <td>35</td>\n",
       "      <td>1984</td>\n",
       "      <td>14</td>\n",
       "    </tr>\n",
       "    <tr>\n",
       "      <td>36</td>\n",
       "      <td>1980</td>\n",
       "      <td>9</td>\n",
       "    </tr>\n",
       "  </tbody>\n",
       "</table>\n",
       "</div>"
      ],
      "text/plain": [
       "    year_of_release  name\n",
       "0              2008  1427\n",
       "1              2009  1426\n",
       "2              2010  1255\n",
       "3              2007  1197\n",
       "4              2011  1136\n",
       "5              2006  1006\n",
       "6              2005   939\n",
       "7              2002   829\n",
       "8              2003   775\n",
       "9              2004   762\n",
       "10             2012   653\n",
       "11             2015   606\n",
       "12             2014   581\n",
       "13             2013   544\n",
       "14             2016   502\n",
       "15             2001   482\n",
       "16             1998   379\n",
       "17             2000   350\n",
       "18             1999   338\n",
       "19             1997   289\n",
       "20             1996   263\n",
       "21             1995   219\n",
       "22             1994   121\n",
       "23             1993    60\n",
       "24             1981    46\n",
       "25             1992    43\n",
       "26             1991    41\n",
       "27             1982    36\n",
       "28             1986    21\n",
       "29             1983    17\n",
       "30             1989    17\n",
       "31             1987    16\n",
       "32             1990    16\n",
       "33             1988    15\n",
       "34             1985    14\n",
       "35             1984    14\n",
       "36             1980     9"
      ]
     },
     "execution_count": 15,
     "metadata": {},
     "output_type": "execute_result"
    }
   ],
   "source": [
    "data.groupby('year_of_release')['name'].count().sort_values(ascending=False).reset_index()"
   ]
  },
  {
   "cell_type": "code",
   "execution_count": 16,
   "metadata": {},
   "outputs": [
    {
     "data": {
      "text/html": [
       "<div>\n",
       "<style scoped>\n",
       "    .dataframe tbody tr th:only-of-type {\n",
       "        vertical-align: middle;\n",
       "    }\n",
       "\n",
       "    .dataframe tbody tr th {\n",
       "        vertical-align: top;\n",
       "    }\n",
       "\n",
       "    .dataframe thead th {\n",
       "        text-align: right;\n",
       "    }\n",
       "</style>\n",
       "<table border=\"1\" class=\"dataframe\">\n",
       "  <thead>\n",
       "    <tr style=\"text-align: right;\">\n",
       "      <th></th>\n",
       "      <th>platform</th>\n",
       "      <th>all_sales</th>\n",
       "    </tr>\n",
       "  </thead>\n",
       "  <tbody>\n",
       "    <tr>\n",
       "      <td>0</td>\n",
       "      <td>PS2</td>\n",
       "      <td>1233.56</td>\n",
       "    </tr>\n",
       "    <tr>\n",
       "      <td>1</td>\n",
       "      <td>X360</td>\n",
       "      <td>961.24</td>\n",
       "    </tr>\n",
       "    <tr>\n",
       "      <td>2</td>\n",
       "      <td>PS3</td>\n",
       "      <td>931.34</td>\n",
       "    </tr>\n",
       "    <tr>\n",
       "      <td>3</td>\n",
       "      <td>Wii</td>\n",
       "      <td>891.18</td>\n",
       "    </tr>\n",
       "    <tr>\n",
       "      <td>4</td>\n",
       "      <td>DS</td>\n",
       "      <td>802.78</td>\n",
       "    </tr>\n",
       "    <tr>\n",
       "      <td>5</td>\n",
       "      <td>PS</td>\n",
       "      <td>727.58</td>\n",
       "    </tr>\n",
       "    <tr>\n",
       "      <td>6</td>\n",
       "      <td>PS4</td>\n",
       "      <td>314.14</td>\n",
       "    </tr>\n",
       "    <tr>\n",
       "      <td>7</td>\n",
       "      <td>GBA</td>\n",
       "      <td>312.88</td>\n",
       "    </tr>\n",
       "    <tr>\n",
       "      <td>8</td>\n",
       "      <td>PSP</td>\n",
       "      <td>289.53</td>\n",
       "    </tr>\n",
       "    <tr>\n",
       "      <td>9</td>\n",
       "      <td>3DS</td>\n",
       "      <td>257.81</td>\n",
       "    </tr>\n",
       "    <tr>\n",
       "      <td>10</td>\n",
       "      <td>PC</td>\n",
       "      <td>255.76</td>\n",
       "    </tr>\n",
       "    <tr>\n",
       "      <td>11</td>\n",
       "      <td>GB</td>\n",
       "      <td>254.43</td>\n",
       "    </tr>\n",
       "    <tr>\n",
       "      <td>12</td>\n",
       "      <td>XB</td>\n",
       "      <td>251.57</td>\n",
       "    </tr>\n",
       "    <tr>\n",
       "      <td>13</td>\n",
       "      <td>NES</td>\n",
       "      <td>251.05</td>\n",
       "    </tr>\n",
       "    <tr>\n",
       "      <td>14</td>\n",
       "      <td>N64</td>\n",
       "      <td>218.01</td>\n",
       "    </tr>\n",
       "    <tr>\n",
       "      <td>15</td>\n",
       "      <td>SNES</td>\n",
       "      <td>200.04</td>\n",
       "    </tr>\n",
       "    <tr>\n",
       "      <td>16</td>\n",
       "      <td>GC</td>\n",
       "      <td>196.73</td>\n",
       "    </tr>\n",
       "    <tr>\n",
       "      <td>17</td>\n",
       "      <td>XOne</td>\n",
       "      <td>159.32</td>\n",
       "    </tr>\n",
       "    <tr>\n",
       "      <td>18</td>\n",
       "      <td>2600</td>\n",
       "      <td>86.48</td>\n",
       "    </tr>\n",
       "    <tr>\n",
       "      <td>19</td>\n",
       "      <td>WiiU</td>\n",
       "      <td>82.19</td>\n",
       "    </tr>\n",
       "    <tr>\n",
       "      <td>20</td>\n",
       "      <td>PSV</td>\n",
       "      <td>53.81</td>\n",
       "    </tr>\n",
       "    <tr>\n",
       "      <td>21</td>\n",
       "      <td>SAT</td>\n",
       "      <td>33.59</td>\n",
       "    </tr>\n",
       "    <tr>\n",
       "      <td>22</td>\n",
       "      <td>GEN</td>\n",
       "      <td>28.35</td>\n",
       "    </tr>\n",
       "    <tr>\n",
       "      <td>23</td>\n",
       "      <td>DC</td>\n",
       "      <td>15.95</td>\n",
       "    </tr>\n",
       "    <tr>\n",
       "      <td>24</td>\n",
       "      <td>SCD</td>\n",
       "      <td>1.86</td>\n",
       "    </tr>\n",
       "    <tr>\n",
       "      <td>25</td>\n",
       "      <td>NG</td>\n",
       "      <td>1.44</td>\n",
       "    </tr>\n",
       "    <tr>\n",
       "      <td>26</td>\n",
       "      <td>WS</td>\n",
       "      <td>1.42</td>\n",
       "    </tr>\n",
       "    <tr>\n",
       "      <td>27</td>\n",
       "      <td>TG16</td>\n",
       "      <td>0.16</td>\n",
       "    </tr>\n",
       "    <tr>\n",
       "      <td>28</td>\n",
       "      <td>3DO</td>\n",
       "      <td>0.10</td>\n",
       "    </tr>\n",
       "    <tr>\n",
       "      <td>29</td>\n",
       "      <td>GG</td>\n",
       "      <td>0.04</td>\n",
       "    </tr>\n",
       "    <tr>\n",
       "      <td>30</td>\n",
       "      <td>PCFX</td>\n",
       "      <td>0.03</td>\n",
       "    </tr>\n",
       "  </tbody>\n",
       "</table>\n",
       "</div>"
      ],
      "text/plain": [
       "   platform  all_sales\n",
       "0       PS2    1233.56\n",
       "1      X360     961.24\n",
       "2       PS3     931.34\n",
       "3       Wii     891.18\n",
       "4        DS     802.78\n",
       "5        PS     727.58\n",
       "6       PS4     314.14\n",
       "7       GBA     312.88\n",
       "8       PSP     289.53\n",
       "9       3DS     257.81\n",
       "10       PC     255.76\n",
       "11       GB     254.43\n",
       "12       XB     251.57\n",
       "13      NES     251.05\n",
       "14      N64     218.01\n",
       "15     SNES     200.04\n",
       "16       GC     196.73\n",
       "17     XOne     159.32\n",
       "18     2600      86.48\n",
       "19     WiiU      82.19\n",
       "20      PSV      53.81\n",
       "21      SAT      33.59\n",
       "22      GEN      28.35\n",
       "23       DC      15.95\n",
       "24      SCD       1.86\n",
       "25       NG       1.44\n",
       "26       WS       1.42\n",
       "27     TG16       0.16\n",
       "28      3DO       0.10\n",
       "29       GG       0.04\n",
       "30     PCFX       0.03"
      ]
     },
     "execution_count": 16,
     "metadata": {},
     "output_type": "execute_result"
    }
   ],
   "source": [
    "data.groupby('platform')['all_sales'].sum().sort_values(ascending=False).reset_index()"
   ]
  },
  {
   "cell_type": "markdown",
   "metadata": {},
   "source": [
    "<div class = \"alert alert-info\" >\n",
    "в среднем количество игр до 1994 года выпускалось не большое, а вот с 1995 года в год начало выходить больше 200 игр и количество выпушенных игр стало рости, пик по данным до 2016 года приходится на 2008-2009 года в последующем спад ну а 2016 год опять привел к увеличению игровой индустрии "
   ]
  },
  {
   "cell_type": "markdown",
   "metadata": {},
   "source": [
    "### Посмотрите, как менялись продажи по платформам. Выберите платформы с наибольшими суммарными продажами и постройте распределение по годам. За какой характерный срок появляются новые и исчезают старые платформы?"
   ]
  },
  {
   "cell_type": "code",
   "execution_count": 17,
   "metadata": {},
   "outputs": [
    {
     "data": {
      "text/plain": [
       "<matplotlib.axes._subplots.AxesSubplot at 0x7ff987ab7f50>"
      ]
     },
     "execution_count": 17,
     "metadata": {},
     "output_type": "execute_result"
    },
    {
     "data": {
      "image/png": "[encoded data removed]",
      "text/plain": [
       "<Figure size 1080x432 with 1 Axes>"
      ]
     },
     "metadata": {
      "needs_background": "light"
     },
     "output_type": "display_data"
    }
   ],
   "source": [
    "top_11 = data.groupby('platform').agg({'all_sales' : 'sum'}).sort_values(by = 'all_sales').tail(11).index\n",
    "data.query('platform in @top_11').pivot_table(index='year_of_release', columns = 'platform' , values='all_sales', aggfunc = 'sum').plot(figsize=(15, 6))"
   ]
  },
  {
   "cell_type": "code",
   "execution_count": 18,
   "metadata": {},
   "outputs": [
    {
     "data": {
      "text/plain": [
       "year_of_release    6.916667\n",
       "dtype: float64"
      ]
     },
     "execution_count": 18,
     "metadata": {},
     "output_type": "execute_result"
    }
   ],
   "source": [
    "min_sales = 5\n",
    "actual_period = data.groupby(['platform','year_of_release']).agg({'all_sales': 'sum'}).query('all_sales > @min_sales')#platform in @ top_10 and \n",
    "actual_period = actual_period.reset_index().groupby('platform').agg({'year_of_release' : 'count'}) # расчитает жизненный период каждой платформы\n",
    "actual_period.mean() # расчитает сколько в среднем живет платформа"
   ]
  },
  {
   "cell_type": "markdown",
   "metadata": {},
   "source": [
    "<div class = \"alert alert-info\" >\n",
    "взяли топ 11(для того что бы входил PC) платформ по продажам и пострили графики этих платформ по которым видно, что все игровые платформы быстро взлетают вверх и после этого стабильно быстро падают вниз после чего потдержка данный платформ прекращается, кроме PC там продажи не такие большие как на остальных но за то стабильные и выпускались выпускаются и будут выпускаться.\n",
    "\n",
    "Средняя жизнь игровых платформ составляет около 7 лет при этом половина жизни они показывают очень хороший результат и стремятся к высокой доходности, а вот второную половину жизни затухат так же быстро как и стремились к высокой доходности "
   ]
  },
  {
   "cell_type": "markdown",
   "metadata": {},
   "source": [
    "### Возьмите данные за соответствующий актуальный период. Актуальный период определите самостоятельно в результате исследования предыдущих вопросов. Основной фактор — эти данные помогут построить прогноз на 2017 год."
   ]
  },
  {
   "cell_type": "markdown",
   "metadata": {},
   "source": [
    "<div class = \"alert alert-info\" >\n",
    "актуальный период получается половина жизни платформы + 1 год пока доходность совсем не упала. Так как средняя жизнь платформы около 7 лет тогда возьмем 4 года "
   ]
  },
  {
   "cell_type": "markdown",
   "metadata": {},
   "source": [
    "### Не учитывайте в работе данные за предыдущие годы."
   ]
  },
  {
   "cell_type": "code",
   "execution_count": 19,
   "metadata": {},
   "outputs": [],
   "source": [
    "games_actual = data.query('2013 <= year_of_release <= 2016' ) "
   ]
  },
  {
   "cell_type": "markdown",
   "metadata": {},
   "source": [
    "### Какие платформы лидируют по продажам, растут или падают? Выберите несколько потенциально прибыльных платформ."
   ]
  },
  {
   "cell_type": "code",
   "execution_count": 20,
   "metadata": {},
   "outputs": [
    {
     "data": {
      "text/html": [
       "<div>\n",
       "<style scoped>\n",
       "    .dataframe tbody tr th:only-of-type {\n",
       "        vertical-align: middle;\n",
       "    }\n",
       "\n",
       "    .dataframe tbody tr th {\n",
       "        vertical-align: top;\n",
       "    }\n",
       "\n",
       "    .dataframe thead th {\n",
       "        text-align: right;\n",
       "    }\n",
       "</style>\n",
       "<table border=\"1\" class=\"dataframe\">\n",
       "  <thead>\n",
       "    <tr style=\"text-align: right;\">\n",
       "      <th></th>\n",
       "      <th>platform</th>\n",
       "      <th>all_sales</th>\n",
       "    </tr>\n",
       "  </thead>\n",
       "  <tbody>\n",
       "    <tr>\n",
       "      <td>0</td>\n",
       "      <td>PS4</td>\n",
       "      <td>314.14</td>\n",
       "    </tr>\n",
       "    <tr>\n",
       "      <td>1</td>\n",
       "      <td>PS3</td>\n",
       "      <td>181.43</td>\n",
       "    </tr>\n",
       "    <tr>\n",
       "      <td>2</td>\n",
       "      <td>XOne</td>\n",
       "      <td>159.32</td>\n",
       "    </tr>\n",
       "    <tr>\n",
       "      <td>3</td>\n",
       "      <td>3DS</td>\n",
       "      <td>143.25</td>\n",
       "    </tr>\n",
       "    <tr>\n",
       "      <td>4</td>\n",
       "      <td>X360</td>\n",
       "      <td>136.80</td>\n",
       "    </tr>\n",
       "    <tr>\n",
       "      <td>5</td>\n",
       "      <td>WiiU</td>\n",
       "      <td>64.63</td>\n",
       "    </tr>\n",
       "    <tr>\n",
       "      <td>6</td>\n",
       "      <td>PC</td>\n",
       "      <td>39.43</td>\n",
       "    </tr>\n",
       "    <tr>\n",
       "      <td>7</td>\n",
       "      <td>PSV</td>\n",
       "      <td>32.99</td>\n",
       "    </tr>\n",
       "    <tr>\n",
       "      <td>8</td>\n",
       "      <td>Wii</td>\n",
       "      <td>13.66</td>\n",
       "    </tr>\n",
       "    <tr>\n",
       "      <td>9</td>\n",
       "      <td>PSP</td>\n",
       "      <td>3.50</td>\n",
       "    </tr>\n",
       "    <tr>\n",
       "      <td>10</td>\n",
       "      <td>DS</td>\n",
       "      <td>1.54</td>\n",
       "    </tr>\n",
       "  </tbody>\n",
       "</table>\n",
       "</div>"
      ],
      "text/plain": [
       "   platform  all_sales\n",
       "0       PS4     314.14\n",
       "1       PS3     181.43\n",
       "2      XOne     159.32\n",
       "3       3DS     143.25\n",
       "4      X360     136.80\n",
       "5      WiiU      64.63\n",
       "6        PC      39.43\n",
       "7       PSV      32.99\n",
       "8       Wii      13.66\n",
       "9       PSP       3.50\n",
       "10       DS       1.54"
      ]
     },
     "execution_count": 20,
     "metadata": {},
     "output_type": "execute_result"
    }
   ],
   "source": [
    "games_actual.groupby('platform')['all_sales'].sum().sort_values(ascending=False).reset_index()"
   ]
  },
  {
   "cell_type": "code",
   "execution_count": 21,
   "metadata": {},
   "outputs": [
    {
     "data": {
      "text/plain": [
       "Index(['PS4', 'PS3', 'XOne', '3DS', 'X360', 'WiiU', 'PC'], dtype='object', name='platform')"
      ]
     },
     "execution_count": 21,
     "metadata": {},
     "output_type": "execute_result"
    }
   ],
   "source": [
    "top_actual_platforms = games_actual.groupby('platform').agg({'all_sales': 'sum'}).sort_values(by='all_sales', ascending=False).head(7).index\n",
    "top_actual_platforms"
   ]
  },
  {
   "cell_type": "markdown",
   "metadata": {},
   "source": [
    "<div class = \"alert alert-info\" >\n",
    "взяли 7 платформ "
   ]
  },
  {
   "cell_type": "markdown",
   "metadata": {},
   "source": [
    "### Постройте график «ящик с усами» по глобальным продажам игр в разбивке по платформам. Опишите результат."
   ]
  },
  {
   "cell_type": "code",
   "execution_count": 22,
   "metadata": {},
   "outputs": [
    {
     "data": {
      "image/png": "[encoded data removed]",
      "text/plain": [
       "<Figure size 1440x432 with 1 Axes>"
      ]
     },
     "metadata": {
      "needs_background": "light"
     },
     "output_type": "display_data"
    }
   ],
   "source": [
    "games_query = data.query('platform in @top_actual_platforms')\n",
    "ax = games_query.boxplot(column='all_sales', by='platform', fontsize=20, figsize=(20,6))\n",
    "plt.ylim(0,2)\n",
    "plt.show()"
   ]
  },
  {
   "cell_type": "markdown",
   "metadata": {},
   "source": [
    "<div class = \"alert alert-info\" >\n",
    "самые актуальные платформы это ps3 и ps4 а так же х360 и хone, но это на данный момент и как мы уже выяснили, жизнь таких платформ коротка около 7 лет."
   ]
  },
  {
   "cell_type": "markdown",
   "metadata": {},
   "source": [
    "### Посмотрите, как влияют на продажи внутри одной популярной платформы отзывы пользователей и критиков. Постройте диаграмму рассеяния и посчитайте корреляцию между отзывами и продажами. Сформулируйте выводы."
   ]
  },
  {
   "cell_type": "code",
   "execution_count": 23,
   "metadata": {},
   "outputs": [
    {
     "data": {
      "text/plain": [
       "'Кореляция по оценке критиков '"
      ]
     },
     "metadata": {},
     "output_type": "display_data"
    },
    {
     "data": {
      "text/html": [
       "<div>\n",
       "<style scoped>\n",
       "    .dataframe tbody tr th:only-of-type {\n",
       "        vertical-align: middle;\n",
       "    }\n",
       "\n",
       "    .dataframe tbody tr th {\n",
       "        vertical-align: top;\n",
       "    }\n",
       "\n",
       "    .dataframe thead th {\n",
       "        text-align: right;\n",
       "    }\n",
       "</style>\n",
       "<table border=\"1\" class=\"dataframe\">\n",
       "  <thead>\n",
       "    <tr style=\"text-align: right;\">\n",
       "      <th></th>\n",
       "      <th>all_sales</th>\n",
       "      <th>critic_score</th>\n",
       "    </tr>\n",
       "  </thead>\n",
       "  <tbody>\n",
       "    <tr>\n",
       "      <td>all_sales</td>\n",
       "      <td>1.000000</td>\n",
       "      <td>0.406568</td>\n",
       "    </tr>\n",
       "    <tr>\n",
       "      <td>critic_score</td>\n",
       "      <td>0.406568</td>\n",
       "      <td>1.000000</td>\n",
       "    </tr>\n",
       "  </tbody>\n",
       "</table>\n",
       "</div>"
      ],
      "text/plain": [
       "              all_sales  critic_score\n",
       "all_sales      1.000000      0.406568\n",
       "critic_score   0.406568      1.000000"
      ]
     },
     "metadata": {},
     "output_type": "display_data"
    },
    {
     "data": {
      "text/plain": [
       "'Кореляция по оценке пользователей'"
      ]
     },
     "metadata": {},
     "output_type": "display_data"
    },
    {
     "data": {
      "text/html": [
       "<div>\n",
       "<style scoped>\n",
       "    .dataframe tbody tr th:only-of-type {\n",
       "        vertical-align: middle;\n",
       "    }\n",
       "\n",
       "    .dataframe tbody tr th {\n",
       "        vertical-align: top;\n",
       "    }\n",
       "\n",
       "    .dataframe thead th {\n",
       "        text-align: right;\n",
       "    }\n",
       "</style>\n",
       "<table border=\"1\" class=\"dataframe\">\n",
       "  <thead>\n",
       "    <tr style=\"text-align: right;\">\n",
       "      <th></th>\n",
       "      <th>all_sales</th>\n",
       "      <th>user_score</th>\n",
       "    </tr>\n",
       "  </thead>\n",
       "  <tbody>\n",
       "    <tr>\n",
       "      <td>all_sales</td>\n",
       "      <td>1.000000</td>\n",
       "      <td>-0.031957</td>\n",
       "    </tr>\n",
       "    <tr>\n",
       "      <td>user_score</td>\n",
       "      <td>-0.031957</td>\n",
       "      <td>1.000000</td>\n",
       "    </tr>\n",
       "  </tbody>\n",
       "</table>\n",
       "</div>"
      ],
      "text/plain": [
       "            all_sales  user_score\n",
       "all_sales    1.000000   -0.031957\n",
       "user_score  -0.031957    1.000000"
      ]
     },
     "metadata": {},
     "output_type": "display_data"
    }
   ],
   "source": [
    "platform_ps4 = games_actual[games_actual['platform'] == 'PS4']\n",
    "display('Кореляция по оценке критиков ' , platform_ps4[['all_sales', 'critic_score']].corr())\n",
    "display('Кореляция по оценке пользователей' , platform_ps4[['all_sales', 'user_score']].corr())"
   ]
  },
  {
   "cell_type": "code",
   "execution_count": 24,
   "metadata": {},
   "outputs": [
    {
     "data": {
      "image/png": "[encoded data removed]",
      "text/plain": [
       "<Figure size 1440x360 with 2 Axes>"
      ]
     },
     "metadata": {
      "needs_background": "light"
     },
     "output_type": "display_data"
    }
   ],
   "source": [
    "fig, ax = plt.subplots(1, 2, figsize=(20, 5))\n",
    "ax[0].scatter(x = platform_ps4['critic_score'], y = platform_ps4['all_sales'])\n",
    "ax[0].set_xlabel(\"оценка критиков\")\n",
    "ax[0].set_ylabel(\"сумарные продажи\")\n",
    "\n",
    "ax[1].scatter(x = platform_ps4['user_score'], y = platform_ps4['all_sales'])\n",
    "ax[1].set_xlabel(\"оценка игроков\")\n",
    "ax[1].set_ylabel(\"сумарные продажи\")\n",
    "plt.show()\n"
   ]
  },
  {
   "cell_type": "code",
   "execution_count": 25,
   "metadata": {},
   "outputs": [
    {
     "data": {
      "text/plain": [
       "'Кореляция по оценке критиков '"
      ]
     },
     "metadata": {},
     "output_type": "display_data"
    },
    {
     "data": {
      "text/html": [
       "<div>\n",
       "<style scoped>\n",
       "    .dataframe tbody tr th:only-of-type {\n",
       "        vertical-align: middle;\n",
       "    }\n",
       "\n",
       "    .dataframe tbody tr th {\n",
       "        vertical-align: top;\n",
       "    }\n",
       "\n",
       "    .dataframe thead th {\n",
       "        text-align: right;\n",
       "    }\n",
       "</style>\n",
       "<table border=\"1\" class=\"dataframe\">\n",
       "  <thead>\n",
       "    <tr style=\"text-align: right;\">\n",
       "      <th></th>\n",
       "      <th>all_sales</th>\n",
       "      <th>critic_score</th>\n",
       "    </tr>\n",
       "  </thead>\n",
       "  <tbody>\n",
       "    <tr>\n",
       "      <td>all_sales</td>\n",
       "      <td>1.000000</td>\n",
       "      <td>0.400952</td>\n",
       "    </tr>\n",
       "    <tr>\n",
       "      <td>critic_score</td>\n",
       "      <td>0.400952</td>\n",
       "      <td>1.000000</td>\n",
       "    </tr>\n",
       "  </tbody>\n",
       "</table>\n",
       "</div>"
      ],
      "text/plain": [
       "              all_sales  critic_score\n",
       "all_sales      1.000000      0.400952\n",
       "critic_score   0.400952      1.000000"
      ]
     },
     "metadata": {},
     "output_type": "display_data"
    },
    {
     "data": {
      "text/plain": [
       "'Кореляция по оценке пользователей'"
      ]
     },
     "metadata": {},
     "output_type": "display_data"
    },
    {
     "data": {
      "text/html": [
       "<div>\n",
       "<style scoped>\n",
       "    .dataframe tbody tr th:only-of-type {\n",
       "        vertical-align: middle;\n",
       "    }\n",
       "\n",
       "    .dataframe tbody tr th {\n",
       "        vertical-align: top;\n",
       "    }\n",
       "\n",
       "    .dataframe thead th {\n",
       "        text-align: right;\n",
       "    }\n",
       "</style>\n",
       "<table border=\"1\" class=\"dataframe\">\n",
       "  <thead>\n",
       "    <tr style=\"text-align: right;\">\n",
       "      <th></th>\n",
       "      <th>all_sales</th>\n",
       "      <th>user_score</th>\n",
       "    </tr>\n",
       "  </thead>\n",
       "  <tbody>\n",
       "    <tr>\n",
       "      <td>all_sales</td>\n",
       "      <td>1.000000</td>\n",
       "      <td>-0.036933</td>\n",
       "    </tr>\n",
       "    <tr>\n",
       "      <td>user_score</td>\n",
       "      <td>-0.036933</td>\n",
       "      <td>1.000000</td>\n",
       "    </tr>\n",
       "  </tbody>\n",
       "</table>\n",
       "</div>"
      ],
      "text/plain": [
       "            all_sales  user_score\n",
       "all_sales    1.000000   -0.036933\n",
       "user_score  -0.036933    1.000000"
      ]
     },
     "metadata": {},
     "output_type": "display_data"
    }
   ],
   "source": [
    "platform_ps4 = platform_ps4[platform_ps4['all_sales'] < platform_ps4['all_sales'].quantile(0.99)]\n",
    "display('Кореляция по оценке критиков ' , platform_ps4[['all_sales', 'critic_score']].corr())\n",
    "display('Кореляция по оценке пользователей' , platform_ps4[['all_sales', 'user_score']].corr())"
   ]
  },
  {
   "cell_type": "code",
   "execution_count": 26,
   "metadata": {},
   "outputs": [
    {
     "data": {
      "image/png": "[encoded data removed]",
      "text/plain": [
       "<Figure size 1440x360 with 2 Axes>"
      ]
     },
     "metadata": {
      "needs_background": "light"
     },
     "output_type": "display_data"
    }
   ],
   "source": [
    "fig, ax = plt.subplots(1, 2, figsize=(20, 5))\n",
    "ax[0].scatter(x = platform_ps4['critic_score'], y = platform_ps4['all_sales'])\n",
    "ax[0].set_xlabel(\"оценка критиков\")\n",
    "ax[0].set_ylabel(\"сумарные продажи\")\n",
    "\n",
    "ax[1].scatter(x = platform_ps4['user_score'], y = platform_ps4['all_sales'])\n",
    "ax[1].set_xlabel(\"оценка игроков\")\n",
    "ax[1].set_ylabel(\"сумарные продажи\")\n",
    "plt.show()\n"
   ]
  },
  {
   "cell_type": "markdown",
   "metadata": {},
   "source": [
    "<div class = \"alert alert-info\" >\n",
    "оценки критиков в на платформе PS4 влияют на продажи в данной платформе, что не скажешь про оценки пользователей там картина немного иначе, оценка пользователя практически не влияет на общие продажи, даже после чисти выбросов картина не меняется и зачастую у пользователей с малой оценкой идут хорошие продажи "
   ]
  },
  {
   "cell_type": "markdown",
   "metadata": {},
   "source": [
    "### Соотнесите выводы с продажами игр на других платформах."
   ]
  },
  {
   "cell_type": "code",
   "execution_count": 27,
   "metadata": {},
   "outputs": [
    {
     "data": {
      "text/plain": [
       "'Кореляция по оценке критиков '"
      ]
     },
     "metadata": {},
     "output_type": "display_data"
    },
    {
     "data": {
      "text/html": [
       "<div>\n",
       "<style scoped>\n",
       "    .dataframe tbody tr th:only-of-type {\n",
       "        vertical-align: middle;\n",
       "    }\n",
       "\n",
       "    .dataframe tbody tr th {\n",
       "        vertical-align: top;\n",
       "    }\n",
       "\n",
       "    .dataframe thead th {\n",
       "        text-align: right;\n",
       "    }\n",
       "</style>\n",
       "<table border=\"1\" class=\"dataframe\">\n",
       "  <thead>\n",
       "    <tr style=\"text-align: right;\">\n",
       "      <th></th>\n",
       "      <th>all_sales</th>\n",
       "      <th>critic_score</th>\n",
       "    </tr>\n",
       "  </thead>\n",
       "  <tbody>\n",
       "    <tr>\n",
       "      <td>all_sales</td>\n",
       "      <td>1.000000</td>\n",
       "      <td>0.281251</td>\n",
       "    </tr>\n",
       "    <tr>\n",
       "      <td>critic_score</td>\n",
       "      <td>0.281251</td>\n",
       "      <td>1.000000</td>\n",
       "    </tr>\n",
       "  </tbody>\n",
       "</table>\n",
       "</div>"
      ],
      "text/plain": [
       "              all_sales  critic_score\n",
       "all_sales      1.000000      0.281251\n",
       "critic_score   0.281251      1.000000"
      ]
     },
     "metadata": {},
     "output_type": "display_data"
    },
    {
     "data": {
      "text/plain": [
       "'Кореляция по оценке пользователей'"
      ]
     },
     "metadata": {},
     "output_type": "display_data"
    },
    {
     "data": {
      "text/html": [
       "<div>\n",
       "<style scoped>\n",
       "    .dataframe tbody tr th:only-of-type {\n",
       "        vertical-align: middle;\n",
       "    }\n",
       "\n",
       "    .dataframe tbody tr th {\n",
       "        vertical-align: top;\n",
       "    }\n",
       "\n",
       "    .dataframe thead th {\n",
       "        text-align: right;\n",
       "    }\n",
       "</style>\n",
       "<table border=\"1\" class=\"dataframe\">\n",
       "  <thead>\n",
       "    <tr style=\"text-align: right;\">\n",
       "      <th></th>\n",
       "      <th>all_sales</th>\n",
       "      <th>user_score</th>\n",
       "    </tr>\n",
       "  </thead>\n",
       "  <tbody>\n",
       "    <tr>\n",
       "      <td>all_sales</td>\n",
       "      <td>1.000000</td>\n",
       "      <td>-0.001122</td>\n",
       "    </tr>\n",
       "    <tr>\n",
       "      <td>user_score</td>\n",
       "      <td>-0.001122</td>\n",
       "      <td>1.000000</td>\n",
       "    </tr>\n",
       "  </tbody>\n",
       "</table>\n",
       "</div>"
      ],
      "text/plain": [
       "            all_sales  user_score\n",
       "all_sales    1.000000   -0.001122\n",
       "user_score  -0.001122    1.000000"
      ]
     },
     "metadata": {},
     "output_type": "display_data"
    }
   ],
   "source": [
    "platform_not_ps4 = games_actual[games_actual['platform'] != 'PS4']\n",
    "display('Кореляция по оценке критиков ' , platform_not_ps4[['all_sales', 'critic_score']].corr())\n",
    "display('Кореляция по оценке пользователей' , platform_not_ps4[['all_sales', 'user_score']].corr())"
   ]
  },
  {
   "cell_type": "code",
   "execution_count": 28,
   "metadata": {},
   "outputs": [
    {
     "data": {
      "image/png": "[encoded data removed]",
      "text/plain": [
       "<Figure size 1440x360 with 2 Axes>"
      ]
     },
     "metadata": {
      "needs_background": "light"
     },
     "output_type": "display_data"
    }
   ],
   "source": [
    "fig, ax = plt.subplots(1, 2, figsize=(20, 5))\n",
    "ax[0].scatter(x = platform_not_ps4['critic_score'], y = platform_not_ps4['all_sales'])\n",
    "ax[0].set_xlabel(\"оценка критиков\")\n",
    "ax[0].set_ylabel(\"сумарные продажи\")\n",
    "\n",
    "ax[1].scatter(x = platform_not_ps4['user_score'], y = platform_not_ps4['all_sales'])\n",
    "ax[1].set_xlabel(\"оценка игроков\")\n",
    "ax[1].set_ylabel(\"сумарные продажи\")\n",
    "plt.show()\n"
   ]
  },
  {
   "cell_type": "code",
   "execution_count": 29,
   "metadata": {},
   "outputs": [
    {
     "data": {
      "text/plain": [
       "'Кореляция по оценке критиков '"
      ]
     },
     "metadata": {},
     "output_type": "display_data"
    },
    {
     "data": {
      "text/html": [
       "<div>\n",
       "<style scoped>\n",
       "    .dataframe tbody tr th:only-of-type {\n",
       "        vertical-align: middle;\n",
       "    }\n",
       "\n",
       "    .dataframe tbody tr th {\n",
       "        vertical-align: top;\n",
       "    }\n",
       "\n",
       "    .dataframe thead th {\n",
       "        text-align: right;\n",
       "    }\n",
       "</style>\n",
       "<table border=\"1\" class=\"dataframe\">\n",
       "  <thead>\n",
       "    <tr style=\"text-align: right;\">\n",
       "      <th></th>\n",
       "      <th>all_sales</th>\n",
       "      <th>critic_score</th>\n",
       "    </tr>\n",
       "  </thead>\n",
       "  <tbody>\n",
       "    <tr>\n",
       "      <td>all_sales</td>\n",
       "      <td>1.000000</td>\n",
       "      <td>0.326905</td>\n",
       "    </tr>\n",
       "    <tr>\n",
       "      <td>critic_score</td>\n",
       "      <td>0.326905</td>\n",
       "      <td>1.000000</td>\n",
       "    </tr>\n",
       "  </tbody>\n",
       "</table>\n",
       "</div>"
      ],
      "text/plain": [
       "              all_sales  critic_score\n",
       "all_sales      1.000000      0.326905\n",
       "critic_score   0.326905      1.000000"
      ]
     },
     "metadata": {},
     "output_type": "display_data"
    },
    {
     "data": {
      "text/plain": [
       "'Кореляция по оценке пользователей'"
      ]
     },
     "metadata": {},
     "output_type": "display_data"
    },
    {
     "data": {
      "text/html": [
       "<div>\n",
       "<style scoped>\n",
       "    .dataframe tbody tr th:only-of-type {\n",
       "        vertical-align: middle;\n",
       "    }\n",
       "\n",
       "    .dataframe tbody tr th {\n",
       "        vertical-align: top;\n",
       "    }\n",
       "\n",
       "    .dataframe thead th {\n",
       "        text-align: right;\n",
       "    }\n",
       "</style>\n",
       "<table border=\"1\" class=\"dataframe\">\n",
       "  <thead>\n",
       "    <tr style=\"text-align: right;\">\n",
       "      <th></th>\n",
       "      <th>all_sales</th>\n",
       "      <th>user_score</th>\n",
       "    </tr>\n",
       "  </thead>\n",
       "  <tbody>\n",
       "    <tr>\n",
       "      <td>all_sales</td>\n",
       "      <td>1.000000</td>\n",
       "      <td>-0.012402</td>\n",
       "    </tr>\n",
       "    <tr>\n",
       "      <td>user_score</td>\n",
       "      <td>-0.012402</td>\n",
       "      <td>1.000000</td>\n",
       "    </tr>\n",
       "  </tbody>\n",
       "</table>\n",
       "</div>"
      ],
      "text/plain": [
       "            all_sales  user_score\n",
       "all_sales    1.000000   -0.012402\n",
       "user_score  -0.012402    1.000000"
      ]
     },
     "metadata": {},
     "output_type": "display_data"
    }
   ],
   "source": [
    "platform_not_ps4 = platform_not_ps4[platform_not_ps4['all_sales'] < platform_not_ps4['all_sales'].quantile(0.99)]\n",
    "display('Кореляция по оценке критиков ' , platform_not_ps4[['all_sales', 'critic_score']].corr())\n",
    "display('Кореляция по оценке пользователей' , platform_not_ps4[['all_sales', 'user_score']].corr())"
   ]
  },
  {
   "cell_type": "code",
   "execution_count": 30,
   "metadata": {},
   "outputs": [
    {
     "data": {
      "image/png": "[encoded data removed]",
      "text/plain": [
       "<Figure size 1440x360 with 2 Axes>"
      ]
     },
     "metadata": {
      "needs_background": "light"
     },
     "output_type": "display_data"
    }
   ],
   "source": [
    "fig, ax = plt.subplots(1, 2, figsize=(20, 5))\n",
    "ax[0].scatter(x = platform_not_ps4['critic_score'], y = platform_not_ps4['all_sales'])\n",
    "ax[0].set_xlabel(\"оценка критиков\")\n",
    "ax[0].set_ylabel(\"сумарные продажи\")\n",
    "\n",
    "ax[1].scatter(x = platform_not_ps4['user_score'], y = platform_not_ps4['all_sales'])\n",
    "ax[1].set_xlabel(\"оценка игроков\")\n",
    "ax[1].set_ylabel(\"сумарные продажи\")\n",
    "plt.show()"
   ]
  },
  {
   "cell_type": "markdown",
   "metadata": {},
   "source": [
    "<div class = \"alert alert-info\" >\n",
    "если сравнивать с остальными актуальными платформами то кореляция примерно такая же как и для PS4, оценки критиков влияют на количество продаж что не скажешь о оценке игроков "
   ]
  },
  {
   "cell_type": "markdown",
   "metadata": {},
   "source": [
    "### Посмотрите на общее распределение игр по жанрам. Что можно сказать о самых прибыльных жанрах? Выделяются ли жанры с высокими и низкими продажами?"
   ]
  },
  {
   "cell_type": "code",
   "execution_count": 31,
   "metadata": {},
   "outputs": [
    {
     "data": {
      "text/html": [
       "<div>\n",
       "<style scoped>\n",
       "    .dataframe tbody tr th:only-of-type {\n",
       "        vertical-align: middle;\n",
       "    }\n",
       "\n",
       "    .dataframe tbody tr th {\n",
       "        vertical-align: top;\n",
       "    }\n",
       "\n",
       "    .dataframe thead th {\n",
       "        text-align: right;\n",
       "    }\n",
       "</style>\n",
       "<table border=\"1\" class=\"dataframe\">\n",
       "  <thead>\n",
       "    <tr style=\"text-align: right;\">\n",
       "      <th></th>\n",
       "      <th>genre</th>\n",
       "      <th>all_sales</th>\n",
       "    </tr>\n",
       "  </thead>\n",
       "  <tbody>\n",
       "    <tr>\n",
       "      <td>0</td>\n",
       "      <td>Action</td>\n",
       "      <td>321.87</td>\n",
       "    </tr>\n",
       "    <tr>\n",
       "      <td>1</td>\n",
       "      <td>Shooter</td>\n",
       "      <td>232.98</td>\n",
       "    </tr>\n",
       "    <tr>\n",
       "      <td>2</td>\n",
       "      <td>Sports</td>\n",
       "      <td>150.65</td>\n",
       "    </tr>\n",
       "    <tr>\n",
       "      <td>3</td>\n",
       "      <td>Role-Playing</td>\n",
       "      <td>145.89</td>\n",
       "    </tr>\n",
       "    <tr>\n",
       "      <td>4</td>\n",
       "      <td>Misc</td>\n",
       "      <td>62.82</td>\n",
       "    </tr>\n",
       "    <tr>\n",
       "      <td>5</td>\n",
       "      <td>Platform</td>\n",
       "      <td>42.63</td>\n",
       "    </tr>\n",
       "    <tr>\n",
       "      <td>6</td>\n",
       "      <td>Racing</td>\n",
       "      <td>39.89</td>\n",
       "    </tr>\n",
       "    <tr>\n",
       "      <td>7</td>\n",
       "      <td>Fighting</td>\n",
       "      <td>35.31</td>\n",
       "    </tr>\n",
       "    <tr>\n",
       "      <td>8</td>\n",
       "      <td>Adventure</td>\n",
       "      <td>23.64</td>\n",
       "    </tr>\n",
       "    <tr>\n",
       "      <td>9</td>\n",
       "      <td>Simulation</td>\n",
       "      <td>21.76</td>\n",
       "    </tr>\n",
       "    <tr>\n",
       "      <td>10</td>\n",
       "      <td>Strategy</td>\n",
       "      <td>10.08</td>\n",
       "    </tr>\n",
       "    <tr>\n",
       "      <td>11</td>\n",
       "      <td>Puzzle</td>\n",
       "      <td>3.17</td>\n",
       "    </tr>\n",
       "  </tbody>\n",
       "</table>\n",
       "</div>"
      ],
      "text/plain": [
       "           genre  all_sales\n",
       "0         Action     321.87\n",
       "1        Shooter     232.98\n",
       "2         Sports     150.65\n",
       "3   Role-Playing     145.89\n",
       "4           Misc      62.82\n",
       "5       Platform      42.63\n",
       "6         Racing      39.89\n",
       "7       Fighting      35.31\n",
       "8      Adventure      23.64\n",
       "9     Simulation      21.76\n",
       "10      Strategy      10.08\n",
       "11        Puzzle       3.17"
      ]
     },
     "execution_count": 31,
     "metadata": {},
     "output_type": "execute_result"
    }
   ],
   "source": [
    "games_actual.groupby('genre')['all_sales'].sum().sort_values(ascending=False).reset_index()"
   ]
  },
  {
   "cell_type": "code",
   "execution_count": 32,
   "metadata": {},
   "outputs": [
    {
     "data": {
      "text/html": [
       "<div>\n",
       "<style scoped>\n",
       "    .dataframe tbody tr th:only-of-type {\n",
       "        vertical-align: middle;\n",
       "    }\n",
       "\n",
       "    .dataframe tbody tr th {\n",
       "        vertical-align: top;\n",
       "    }\n",
       "\n",
       "    .dataframe thead tr th {\n",
       "        text-align: left;\n",
       "    }\n",
       "</style>\n",
       "<table border=\"1\" class=\"dataframe\">\n",
       "  <thead>\n",
       "    <tr>\n",
       "      <th></th>\n",
       "      <th>genre</th>\n",
       "      <th colspan=\"3\" halign=\"left\">all_sales</th>\n",
       "    </tr>\n",
       "    <tr>\n",
       "      <th></th>\n",
       "      <th></th>\n",
       "      <th>median</th>\n",
       "      <th>sum</th>\n",
       "      <th>mean</th>\n",
       "    </tr>\n",
       "  </thead>\n",
       "  <tbody>\n",
       "    <tr>\n",
       "      <td>0</td>\n",
       "      <td>Action</td>\n",
       "      <td>0.110</td>\n",
       "      <td>321.87</td>\n",
       "      <td>0.420196</td>\n",
       "    </tr>\n",
       "    <tr>\n",
       "      <td>1</td>\n",
       "      <td>Adventure</td>\n",
       "      <td>0.030</td>\n",
       "      <td>23.64</td>\n",
       "      <td>0.096490</td>\n",
       "    </tr>\n",
       "    <tr>\n",
       "      <td>2</td>\n",
       "      <td>Fighting</td>\n",
       "      <td>0.125</td>\n",
       "      <td>35.31</td>\n",
       "      <td>0.441375</td>\n",
       "    </tr>\n",
       "    <tr>\n",
       "      <td>3</td>\n",
       "      <td>Misc</td>\n",
       "      <td>0.100</td>\n",
       "      <td>62.82</td>\n",
       "      <td>0.405290</td>\n",
       "    </tr>\n",
       "    <tr>\n",
       "      <td>4</td>\n",
       "      <td>Platform</td>\n",
       "      <td>0.225</td>\n",
       "      <td>42.63</td>\n",
       "      <td>0.576081</td>\n",
       "    </tr>\n",
       "    <tr>\n",
       "      <td>5</td>\n",
       "      <td>Puzzle</td>\n",
       "      <td>0.060</td>\n",
       "      <td>3.17</td>\n",
       "      <td>0.186471</td>\n",
       "    </tr>\n",
       "    <tr>\n",
       "      <td>6</td>\n",
       "      <td>Racing</td>\n",
       "      <td>0.120</td>\n",
       "      <td>39.89</td>\n",
       "      <td>0.469294</td>\n",
       "    </tr>\n",
       "    <tr>\n",
       "      <td>7</td>\n",
       "      <td>Role-Playing</td>\n",
       "      <td>0.125</td>\n",
       "      <td>145.89</td>\n",
       "      <td>0.499623</td>\n",
       "    </tr>\n",
       "    <tr>\n",
       "      <td>8</td>\n",
       "      <td>Shooter</td>\n",
       "      <td>0.450</td>\n",
       "      <td>232.98</td>\n",
       "      <td>1.245882</td>\n",
       "    </tr>\n",
       "    <tr>\n",
       "      <td>9</td>\n",
       "      <td>Simulation</td>\n",
       "      <td>0.100</td>\n",
       "      <td>21.76</td>\n",
       "      <td>0.350968</td>\n",
       "    </tr>\n",
       "    <tr>\n",
       "      <td>10</td>\n",
       "      <td>Sports</td>\n",
       "      <td>0.240</td>\n",
       "      <td>150.65</td>\n",
       "      <td>0.703972</td>\n",
       "    </tr>\n",
       "    <tr>\n",
       "      <td>11</td>\n",
       "      <td>Strategy</td>\n",
       "      <td>0.080</td>\n",
       "      <td>10.08</td>\n",
       "      <td>0.180000</td>\n",
       "    </tr>\n",
       "  </tbody>\n",
       "</table>\n",
       "</div>"
      ],
      "text/plain": [
       "           genre all_sales                  \n",
       "                    median     sum      mean\n",
       "0         Action     0.110  321.87  0.420196\n",
       "1      Adventure     0.030   23.64  0.096490\n",
       "2       Fighting     0.125   35.31  0.441375\n",
       "3           Misc     0.100   62.82  0.405290\n",
       "4       Platform     0.225   42.63  0.576081\n",
       "5         Puzzle     0.060    3.17  0.186471\n",
       "6         Racing     0.120   39.89  0.469294\n",
       "7   Role-Playing     0.125  145.89  0.499623\n",
       "8        Shooter     0.450  232.98  1.245882\n",
       "9     Simulation     0.100   21.76  0.350968\n",
       "10        Sports     0.240  150.65  0.703972\n",
       "11      Strategy     0.080   10.08  0.180000"
      ]
     },
     "execution_count": 32,
     "metadata": {},
     "output_type": "execute_result"
    }
   ],
   "source": [
    "games_actual.groupby('genre').agg({'all_sales' : ['median' , 'sum' , 'mean']}).reset_index()"
   ]
  },
  {
   "cell_type": "markdown",
   "metadata": {},
   "source": [
    "<div class = \"alert alert-info\" >\n",
    "По медиане продаж отчетливо видно что на первом месте медеана продажи шутеров, а на последнем месте приключения, но закрались сомнения что экшены аш на 7 месте и посмотрев на игры и распределения их по жанрам странный датасет в котором фаркрай 4 это шутер хотя как в стиме так и по википедии это экшен, да и впринцепи куча игр не в свой жанр запихнуты.\n",
    "\n",
    "ну да ладно основная задача у нас выделить жанры с высокими и низкини продажами, а это будут шутеры с самоми высокими продажами и приключения с самами низкини если смотреть по медеане\n",
    "    \n",
    "хотя по сумарным продажам экшен на первом месте"
   ]
  },
  {
   "cell_type": "markdown",
   "metadata": {},
   "source": [
    "## Составьте портрет пользователя каждого региона"
   ]
  },
  {
   "cell_type": "markdown",
   "metadata": {},
   "source": [
    "### Самые популярные платформы (топ-5). Опишите различия в долях продаж."
   ]
  },
  {
   "cell_type": "code",
   "execution_count": 33,
   "metadata": {},
   "outputs": [
    {
     "data": {
      "image/png": "[encoded data removed]",
      "text/plain": [
       "<Figure size 1440x360 with 3 Axes>"
      ]
     },
     "metadata": {},
     "output_type": "display_data"
    }
   ],
   "source": [
    "fig, axes = plt.subplots(1, 3)\n",
    "\n",
    "games_actual.groupby('platform')[['na_sales']].sum().sort_values(by = 'na_sales').tail().plot.pie(subplots = True , ax=axes[0])\n",
    "games_actual.groupby('platform')[['eu_sales']].sum().sort_values(by = 'eu_sales').tail().plot.pie(subplots = True , ax=axes[1])\n",
    "games_actual.groupby('platform')[['jp_sales']].sum().sort_values(by = 'jp_sales').tail().plot.pie(subplots = True , ax=axes[2])\n",
    "\n",
    "fig.suptitle('Топ 5 платформ по регионам',\n",
    "             y = 1.2,\n",
    "             fontsize = 30)\n",
    "\n",
    "axes[0].set_title('топ 5 Северная Америка')\n",
    "axes[1].set_title('топ 5 Европа')\n",
    "axes[2].set_title('топ 5 Япония')\n",
    "\n",
    "\n",
    "\n",
    "fig.set_figheight(5)\n",
    "fig.set_figwidth(20)\n",
    "\n",
    "plt.show()"
   ]
  },
  {
   "cell_type": "code",
   "execution_count": 1,
   "metadata": {},
   "outputs": [],
   "source": [
    "from IPython.display import display_html\n",
    "from itertools import chain,cycle\n",
    "def display_side_by_side(*args,titles=cycle([''])):\n",
    "    html_str=''\n",
    "    for df,title in zip(args, chain(titles,cycle(['</br>'])) ):\n",
    "        html_str+='<th style=\"text-align:center\"><td style=\"vertical-align:top\">'\n",
    "        html_str+=f'<h2>{title}</h2>'\n",
    "        html_str+=df.to_html().replace('table','table style=\"display:inline\"')\n",
    "        html_str+='</td></th>'\n",
    "    display_html(html_str,raw=True)"
   ]
  },
  {
   "cell_type": "code",
   "execution_count": 35,
   "metadata": {},
   "outputs": [
    {
     "data": {
      "text/html": [
       "<th style=\"text-align:center\"><td style=\"vertical-align:top\"><h2>Северная Америка</h2><table style=\"display:inline\" border=\"1\" class=\"dataframe\">\n",
       "  <thead>\n",
       "    <tr style=\"text-align: right;\">\n",
       "      <th></th>\n",
       "      <th>na_sales</th>\n",
       "    </tr>\n",
       "    <tr>\n",
       "      <th>platform</th>\n",
       "      <th></th>\n",
       "    </tr>\n",
       "  </thead>\n",
       "  <tbody>\n",
       "    <tr>\n",
       "      <th>3DS</th>\n",
       "      <td>38.20</td>\n",
       "    </tr>\n",
       "    <tr>\n",
       "      <th>PS3</th>\n",
       "      <td>63.50</td>\n",
       "    </tr>\n",
       "    <tr>\n",
       "      <th>X360</th>\n",
       "      <td>81.66</td>\n",
       "    </tr>\n",
       "    <tr>\n",
       "      <th>XOne</th>\n",
       "      <td>93.12</td>\n",
       "    </tr>\n",
       "    <tr>\n",
       "      <th>PS4</th>\n",
       "      <td>108.74</td>\n",
       "    </tr>\n",
       "  </tbody>\n",
       "</table style=\"display:inline\"></td></th><th style=\"text-align:center\"><td style=\"vertical-align:top\"><h2>Европа</h2><table style=\"display:inline\" border=\"1\" class=\"dataframe\">\n",
       "  <thead>\n",
       "    <tr style=\"text-align: right;\">\n",
       "      <th></th>\n",
       "      <th>eu_sales</th>\n",
       "    </tr>\n",
       "    <tr>\n",
       "      <th>platform</th>\n",
       "      <th></th>\n",
       "    </tr>\n",
       "  </thead>\n",
       "  <tbody>\n",
       "    <tr>\n",
       "      <th>3DS</th>\n",
       "      <td>30.96</td>\n",
       "    </tr>\n",
       "    <tr>\n",
       "      <th>X360</th>\n",
       "      <td>42.52</td>\n",
       "    </tr>\n",
       "    <tr>\n",
       "      <th>XOne</th>\n",
       "      <td>51.59</td>\n",
       "    </tr>\n",
       "    <tr>\n",
       "      <th>PS3</th>\n",
       "      <td>67.81</td>\n",
       "    </tr>\n",
       "    <tr>\n",
       "      <th>PS4</th>\n",
       "      <td>141.09</td>\n",
       "    </tr>\n",
       "  </tbody>\n",
       "</table style=\"display:inline\"></td></th><th style=\"text-align:center\"><td style=\"vertical-align:top\"><h2>Япония</h2><table style=\"display:inline\" border=\"1\" class=\"dataframe\">\n",
       "  <thead>\n",
       "    <tr style=\"text-align: right;\">\n",
       "      <th></th>\n",
       "      <th>jp_sales</th>\n",
       "    </tr>\n",
       "    <tr>\n",
       "      <th>platform</th>\n",
       "      <th></th>\n",
       "    </tr>\n",
       "  </thead>\n",
       "  <tbody>\n",
       "    <tr>\n",
       "      <th>WiiU</th>\n",
       "      <td>10.88</td>\n",
       "    </tr>\n",
       "    <tr>\n",
       "      <th>PS4</th>\n",
       "      <td>15.96</td>\n",
       "    </tr>\n",
       "    <tr>\n",
       "      <th>PSV</th>\n",
       "      <td>18.59</td>\n",
       "    </tr>\n",
       "    <tr>\n",
       "      <th>PS3</th>\n",
       "      <td>23.35</td>\n",
       "    </tr>\n",
       "    <tr>\n",
       "      <th>3DS</th>\n",
       "      <td>67.81</td>\n",
       "    </tr>\n",
       "  </tbody>\n",
       "</table style=\"display:inline\"></td></th>"
      ]
     },
     "metadata": {},
     "output_type": "display_data"
    }
   ],
   "source": [
    "df1 = games_actual.groupby('platform')[['na_sales']].sum().sort_values(by = 'na_sales').tail()\n",
    "df2 = games_actual.groupby('platform')[['eu_sales']].sum().sort_values(by = 'eu_sales').tail()\n",
    "df3 = games_actual.groupby('platform')[['jp_sales']].sum().sort_values(by = 'jp_sales').tail()\n",
    "display_side_by_side(df1,df2,df3, titles=['Северная Америка','Европа', 'Япония'])"
   ]
  },
  {
   "cell_type": "markdown",
   "metadata": {},
   "source": [
    "<div class = \"alert alert-info\" >\n",
    "из актуального времени в северной америке и европе на первом месте ps4 а в японии 3DS"
   ]
  },
  {
   "cell_type": "markdown",
   "metadata": {},
   "source": [
    "### Самые популярные жанры (топ-5). Поясните разницу."
   ]
  },
  {
   "cell_type": "code",
   "execution_count": 36,
   "metadata": {},
   "outputs": [
    {
     "data": {
      "image/png": "[encoded data removed]",
      "text/plain": [
       "<Figure size 1440x360 with 3 Axes>"
      ]
     },
     "metadata": {},
     "output_type": "display_data"
    }
   ],
   "source": [
    "fig, axes = plt.subplots(1, 3)\n",
    "\n",
    "games_actual.groupby('genre')[['na_sales']].sum().sort_values(by = 'na_sales').tail().plot.pie(subplots = True , ax=axes[0])\n",
    "games_actual.groupby('genre')[['eu_sales']].sum().sort_values(by = 'eu_sales').tail().plot.pie(subplots = True , ax=axes[1])\n",
    "games_actual.groupby('genre')[['jp_sales']].sum().sort_values(by = 'jp_sales').tail().plot.pie(subplots = True , ax=axes[2])\n",
    "\n",
    "fig.suptitle('Топ 5 жанров по регионам',\n",
    "             y = 1.2,\n",
    "             fontsize = 30)\n",
    "\n",
    "axes[0].set_title('топ 5 Северная Америка')\n",
    "axes[1].set_title('топ 5 Европа')\n",
    "axes[2].set_title('топ 5 Япония')\n",
    "\n",
    "\n",
    "\n",
    "fig.set_figheight(5)\n",
    "fig.set_figwidth(20)\n",
    "\n",
    "plt.show()"
   ]
  },
  {
   "cell_type": "markdown",
   "metadata": {},
   "source": [
    "<div class = \"alert alert-info\" >\n",
    "северная Америка и Европа очень похожа в популярных жанрах игр, основные там это экшены, шутеры, спортивные игры, что не скажешь про Японию тут же на первом месте ролевые игры  которые занимают большую часть топа а шутеры в Японии только на пятом месте"
   ]
  },
  {
   "cell_type": "markdown",
   "metadata": {},
   "source": [
    "### Влияет ли рейтинг ESRB на продажи в отдельном регионе?"
   ]
  },
  {
   "cell_type": "code",
   "execution_count": 37,
   "metadata": {},
   "outputs": [
    {
     "data": {
      "image/png": "[encoded data removed]",
      "text/plain": [
       "<Figure size 432x288 with 1 Axes>"
      ]
     },
     "metadata": {
      "needs_background": "light"
     },
     "output_type": "display_data"
    },
    {
     "data": {
      "image/png": "[encoded data removed]",
      "text/plain": [
       "<Figure size 432x288 with 1 Axes>"
      ]
     },
     "metadata": {
      "needs_background": "light"
     },
     "output_type": "display_data"
    },
    {
     "data": {
      "image/png": "[encoded data removed]",
      "text/plain": [
       "<Figure size 432x288 with 1 Axes>"
      ]
     },
     "metadata": {
      "needs_background": "light"
     },
     "output_type": "display_data"
    }
   ],
   "source": [
    "games_actual.pivot_table(index='rating', values='na_sales', aggfunc = 'sum').plot(grid = True)\n",
    "plt.suptitle('распределение продаж по рейтингам в Северной Америке ')\n",
    "games_actual.pivot_table(index='rating', values='eu_sales', aggfunc = 'sum').plot(grid = True)\n",
    "plt.suptitle('распределение продаж по рейтингам в Европе ')\n",
    "games_actual.pivot_table(index='rating', values='jp_sales', aggfunc = 'sum').plot(grid = True)\n",
    "plt.suptitle('распределение продаж по рейтингам в Японии ')\n",
    "\n",
    "plt.show()"
   ]
  },
  {
   "cell_type": "markdown",
   "metadata": {},
   "source": [
    "\n",
    "\n",
    "<div class = \"alert alert-info\" >\n",
    "<h3> Комментарий студента</h3>\n",
    "самыми популярным рейтингом в северной америке и европе  самый популярный рейтинг 17+(м) в японии столо побольше рейтинг (т) от 13 до 19 но все равно куча пропусков \n",
    "</div>"
   ]
  },
  {
   "cell_type": "markdown",
   "metadata": {},
   "source": [
    "## Проверьте гипотезы\n"
   ]
  },
  {
   "cell_type": "markdown",
   "metadata": {},
   "source": [
    "### Средние пользовательские рейтинги платформ Xbox One и PC одинаковые"
   ]
  },
  {
   "cell_type": "markdown",
   "metadata": {},
   "source": [
    "<div class = \"alert alert-info\" >\n",
    "$H_0$ Средние пользовательские рейтинги платформ Xbox One и PC равны\n",
    "\n",
    "$H_1$ Средние пользовательские рейтинги платформ Xbox One и PC не равны"
   ]
  },
  {
   "cell_type": "code",
   "execution_count": 38,
   "metadata": {},
   "outputs": [],
   "source": [
    "data_xone = games_actual[games_actual['platform'] == 'XOne']['user_score'] \n",
    "data_pc = games_actual[games_actual['platform'] == 'PC']['user_score']\n",
    "data_xone.dropna(inplace=True)\n",
    "data_pc.dropna(inplace=True)"
   ]
  },
  {
   "cell_type": "code",
   "execution_count": 39,
   "metadata": {},
   "outputs": [
    {
     "data": {
      "image/png": "[encoded data removed]",
      "text/plain": [
       "<Figure size 1440x360 with 2 Axes>"
      ]
     },
     "metadata": {
      "needs_background": "light"
     },
     "output_type": "display_data"
    }
   ],
   "source": [
    "fig, axes = plt.subplots(1,2,figsize=(20,5))\n",
    "\n",
    "data_xone.hist(bins=50, ax=axes[0])\n",
    "data_pc.hist(bins=50, ax=axes[1])\n",
    "\n",
    "axes[0].set_title('Средние пользовательские рейтинги Xbox One')\n",
    "axes[1].set_title('Средние пользовательские рейтинги PC')\n",
    "plt.show()"
   ]
  },
  {
   "cell_type": "code",
   "execution_count": 40,
   "metadata": {},
   "outputs": [
    {
     "name": "stdout",
     "output_type": "stream",
     "text": [
      "p-значение: 0.14012658403611647\n",
      "Не получилось отвергнуть нулевую гипотезу\n"
     ]
    }
   ],
   "source": [
    "alpha = 0.05 # критический уровень статистической значимости\n",
    "\n",
    "results = st.ttest_ind(data_xone, data_pc)\n",
    "\n",
    "print('p-значение:', results.pvalue)\n",
    "\n",
    "if results.pvalue < alpha:\n",
    "    print(\"Отвергаем нулевую гипотезу\")\n",
    "else:\n",
    "    print(\"Не получилось отвергнуть нулевую гипотезу\")"
   ]
  },
  {
   "cell_type": "markdown",
   "metadata": {},
   "source": [
    "<div class = \"alert alert-info\" >\n",
    "взяв актуальный период после проверки гипотезы что средние пользовательские рейтинги платформ Xbox One и PC равны, $H_0$ мы отвергуть не можем так как р-значение около 14%"
   ]
  },
  {
   "cell_type": "markdown",
   "metadata": {},
   "source": [
    "### Средние пользовательские рейтинги жанров Action  и Sports разные."
   ]
  },
  {
   "cell_type": "markdown",
   "metadata": {},
   "source": [
    "<div class = \"alert alert-info\" >\n",
    "$H_0$ Средние пользовательские рейтинги жанров Action и Sports  равны\n",
    "\n",
    "$H_1$ Средние пользовательские рейтинги жанров Action и Sports  не равны"
   ]
  },
  {
   "cell_type": "code",
   "execution_count": 41,
   "metadata": {},
   "outputs": [],
   "source": [
    "data_action = games_actual[games_actual['genre'] == 'Action']['user_score'] \n",
    "data_sports = games_actual[games_actual['genre'] == 'Sports']['user_score']\n",
    "data_action.dropna(inplace=True)\n",
    "data_sports.dropna(inplace=True)"
   ]
  },
  {
   "cell_type": "code",
   "execution_count": 42,
   "metadata": {},
   "outputs": [
    {
     "data": {
      "image/png": "[encoded data removed]",
      "text/plain": [
       "<Figure size 1440x360 with 2 Axes>"
      ]
     },
     "metadata": {
      "needs_background": "light"
     },
     "output_type": "display_data"
    }
   ],
   "source": [
    "fig, axes = plt.subplots(1,2,figsize=(20,5))\n",
    "\n",
    "data_action.hist(bins=50, ax=axes[0])\n",
    "data_sports.hist(bins=50, ax=axes[1])\n",
    "\n",
    "axes[0].set_title('Средние пользовательские рейтинги жанров Action')\n",
    "axes[1].set_title('Средние пользовательские рейтинги жанров Sports')\n",
    "plt.show()"
   ]
  },
  {
   "cell_type": "code",
   "execution_count": 43,
   "metadata": {},
   "outputs": [
    {
     "name": "stdout",
     "output_type": "stream",
     "text": [
      "p-значение: 1.0517832389140023e-27\n",
      "Отвергаем нулевую гипотезу\n"
     ]
    }
   ],
   "source": [
    "results = st.ttest_ind(data_action, data_sports)\n",
    "\n",
    "print('p-значение:', results.pvalue)\n",
    "\n",
    "if results.pvalue < alpha:\n",
    "    print(\"Отвергаем нулевую гипотезу\")\n",
    "else:\n",
    "    print(\"Не получилось отвергнуть нулевую гипотезу\")"
   ]
  },
  {
   "cell_type": "markdown",
   "metadata": {},
   "source": [
    "<div class = \"alert alert-info\" >\n",
    "по актуальному периоду картина совершенно другая и в данном случае жанр игры очень влияеет на оценку пользователя в данном случае мы отвергае $H_0$ так как р-значение очень мало\n",
    "</div>"
   ]
  },
  {
   "cell_type": "markdown",
   "metadata": {},
   "source": [
    "##  Напишите общий вывод"
   ]
  },
  {
   "cell_type": "markdown",
   "metadata": {},
   "source": [
    "<div class = \"alert alert-info\" >\n",
    "общий вывод заключается в том, что популярность игр зависит от многово, но основные факторы это платформа, жанр, регион продажи, оченки критиков, и рейтинг ESRB. Так что популярность на 2017 год (например) платформа ps4 если же на смену не придет новое поколение ps так как предыдущее поколение быстро покидает рынок, а с нынешней игровой индустрией это происходит очень быстро, жанры по данному датосету (лично мое мнение) только определить нельзя так как распреление жанров по играм не соответствует реальности, но если смотреть по данной выборке по медеане лучше продаются шутеры, а вот экшены пользуются спросом во всех регионах. Каждая страна повернута на свой жанр игр. Самые популярные игры это игры для всех с рейтенгом Е. Ну и как итог для лучших продаж предется потратится на хорошую оценку от критиков. "
   ]
  },
  {
   "cell_type": "code",
   "execution_count": null,
   "metadata": {},
   "outputs": [],
   "source": []
  }
 ],
 "metadata": {
  "ExecuteTimeLog": [
   {
    "duration": 894,
    "start_time": "2022-01-20T10:47:17.457Z"
   },
   {
    "duration": 163,
    "start_time": "2022-01-20T10:47:54.707Z"
   },
   {
    "duration": 1210,
    "start_time": "2022-01-20T10:48:07.363Z"
   },
   {
    "duration": 19,
    "start_time": "2022-01-20T10:48:25.857Z"
   },
   {
    "duration": 26,
    "start_time": "2022-01-20T10:48:40.492Z"
   },
   {
    "duration": 12,
    "start_time": "2022-01-20T10:48:44.888Z"
   },
   {
    "duration": 11,
    "start_time": "2022-01-20T10:55:46.207Z"
   },
   {
    "duration": 407,
    "start_time": "2022-01-20T10:56:10.231Z"
   },
   {
    "duration": 24,
    "start_time": "2022-01-20T10:56:18.455Z"
   },
   {
    "duration": 819,
    "start_time": "2022-01-21T14:51:25.745Z"
   },
   {
    "duration": 229,
    "start_time": "2022-01-21T14:51:27.295Z"
   },
   {
    "duration": 15,
    "start_time": "2022-01-21T14:51:29.853Z"
   },
   {
    "duration": 12,
    "start_time": "2022-01-21T14:51:30.569Z"
   },
   {
    "duration": 342,
    "start_time": "2022-01-21T14:51:31.511Z"
   },
   {
    "duration": 4,
    "start_time": "2022-01-21T14:52:45.013Z"
   },
   {
    "duration": 6231,
    "start_time": "2022-01-21T14:52:46.916Z"
   },
   {
    "duration": 293,
    "start_time": "2022-01-22T16:06:52.531Z"
   },
   {
    "duration": 740,
    "start_time": "2022-01-22T16:06:58.438Z"
   },
   {
    "duration": 241,
    "start_time": "2022-01-22T16:06:59.179Z"
   },
   {
    "duration": 10,
    "start_time": "2022-01-22T16:06:59.421Z"
   },
   {
    "duration": 11,
    "start_time": "2022-01-22T16:07:00.655Z"
   },
   {
    "duration": 4,
    "start_time": "2022-01-22T16:07:01.966Z"
   },
   {
    "duration": 29,
    "start_time": "2022-01-22T16:07:03.299Z"
   },
   {
    "duration": 15,
    "start_time": "2022-01-22T16:07:29.999Z"
   },
   {
    "duration": 16,
    "start_time": "2022-01-22T16:07:38.609Z"
   },
   {
    "duration": 9,
    "start_time": "2022-01-22T16:10:52.531Z"
   },
   {
    "duration": 10,
    "start_time": "2022-01-22T16:10:58.473Z"
   },
   {
    "duration": 1838,
    "start_time": "2022-01-22T16:20:01.323Z"
   },
   {
    "duration": 10,
    "start_time": "2022-01-22T16:20:59.035Z"
   },
   {
    "duration": 9,
    "start_time": "2022-01-22T16:21:03.132Z"
   },
   {
    "duration": 409,
    "start_time": "2022-01-22T16:23:25.481Z"
   },
   {
    "duration": 5,
    "start_time": "2022-01-22T16:25:36.891Z"
   },
   {
    "duration": 10,
    "start_time": "2022-01-22T16:25:44.632Z"
   },
   {
    "duration": 20,
    "start_time": "2022-01-22T16:25:52.674Z"
   },
   {
    "duration": 18,
    "start_time": "2022-01-22T16:37:58.713Z"
   },
   {
    "duration": 24,
    "start_time": "2022-01-22T16:38:59.234Z"
   },
   {
    "duration": 19,
    "start_time": "2022-01-22T16:39:29.978Z"
   },
   {
    "duration": 19,
    "start_time": "2022-01-22T16:39:39.317Z"
   },
   {
    "duration": 324,
    "start_time": "2022-01-22T16:39:53.301Z"
   },
   {
    "duration": 18,
    "start_time": "2022-01-22T16:39:58.971Z"
   },
   {
    "duration": 280,
    "start_time": "2022-01-22T16:42:59.918Z"
   },
   {
    "duration": 256,
    "start_time": "2022-01-22T16:46:12.016Z"
   },
   {
    "duration": 6,
    "start_time": "2022-01-22T16:46:18.858Z"
   },
   {
    "duration": 252,
    "start_time": "2022-01-22T16:47:24.683Z"
   },
   {
    "duration": 4,
    "start_time": "2022-01-22T16:49:01.331Z"
   },
   {
    "duration": 7,
    "start_time": "2022-01-22T16:50:50.869Z"
   },
   {
    "duration": 10,
    "start_time": "2022-01-22T16:50:57.417Z"
   },
   {
    "duration": 1006,
    "start_time": "2022-01-22T16:51:19.885Z"
   },
   {
    "duration": 20,
    "start_time": "2022-01-22T16:51:44.429Z"
   },
   {
    "duration": 1525,
    "start_time": "2022-01-22T16:51:54.677Z"
   },
   {
    "duration": 10,
    "start_time": "2022-01-22T16:52:24.956Z"
   },
   {
    "duration": 18,
    "start_time": "2022-01-22T16:52:31.189Z"
   },
   {
    "duration": 19,
    "start_time": "2022-01-22T16:52:34.768Z"
   },
   {
    "duration": 180,
    "start_time": "2022-01-22T16:52:51.182Z"
   },
   {
    "duration": 6815,
    "start_time": "2022-01-22T16:52:55.761Z"
   },
   {
    "duration": 4,
    "start_time": "2022-01-22T16:53:03.758Z"
   },
   {
    "duration": 39,
    "start_time": "2022-01-22T16:53:07.318Z"
   },
   {
    "duration": 9,
    "start_time": "2022-01-22T16:53:10.340Z"
   },
   {
    "duration": 7,
    "start_time": "2022-01-22T16:53:16.354Z"
   },
   {
    "duration": 11,
    "start_time": "2022-01-22T16:53:21.018Z"
   },
   {
    "duration": 8,
    "start_time": "2022-01-22T16:53:35.831Z"
   },
   {
    "duration": 13,
    "start_time": "2022-01-22T16:53:40.885Z"
   },
   {
    "duration": 7,
    "start_time": "2022-01-22T16:56:36.644Z"
   },
   {
    "duration": 5,
    "start_time": "2022-01-22T16:57:01.471Z"
   },
   {
    "duration": 20,
    "start_time": "2022-01-22T16:57:05.820Z"
   },
   {
    "duration": 404,
    "start_time": "2022-01-22T16:57:37.310Z"
   },
   {
    "duration": 487,
    "start_time": "2022-01-22T16:57:51.678Z"
   },
   {
    "duration": 231,
    "start_time": "2022-01-22T16:59:52.961Z"
   },
   {
    "duration": 291,
    "start_time": "2022-01-22T17:01:35.591Z"
   },
   {
    "duration": 463,
    "start_time": "2022-01-22T17:01:57.298Z"
   },
   {
    "duration": 211,
    "start_time": "2022-01-22T17:02:12.395Z"
   },
   {
    "duration": 276,
    "start_time": "2022-01-22T17:05:09.185Z"
   },
   {
    "duration": 284,
    "start_time": "2022-01-22T17:05:28.145Z"
   },
   {
    "duration": 9,
    "start_time": "2022-01-22T17:05:50.043Z"
   },
   {
    "duration": 636,
    "start_time": "2022-01-22T17:06:07.208Z"
   },
   {
    "duration": 216,
    "start_time": "2022-01-22T17:06:08.060Z"
   },
   {
    "duration": 10,
    "start_time": "2022-01-22T17:06:08.574Z"
   },
   {
    "duration": 10,
    "start_time": "2022-01-22T17:06:09.004Z"
   },
   {
    "duration": 4,
    "start_time": "2022-01-22T17:06:09.598Z"
   },
   {
    "duration": 20,
    "start_time": "2022-01-22T17:06:10.408Z"
   },
   {
    "duration": 12,
    "start_time": "2022-01-22T17:06:20.134Z"
   },
   {
    "duration": 12,
    "start_time": "2022-01-22T17:06:23.298Z"
   },
   {
    "duration": 17,
    "start_time": "2022-01-22T17:06:24.823Z"
   },
   {
    "duration": 4,
    "start_time": "2022-01-22T17:06:25.782Z"
   },
   {
    "duration": 10,
    "start_time": "2022-01-22T17:06:26.537Z"
   },
   {
    "duration": 6,
    "start_time": "2022-01-22T17:06:30.158Z"
   },
   {
    "duration": 9,
    "start_time": "2022-01-22T17:06:50.803Z"
   },
   {
    "duration": 9,
    "start_time": "2022-01-22T17:10:09.219Z"
   },
   {
    "duration": 5,
    "start_time": "2022-01-22T17:17:17.035Z"
   },
   {
    "duration": 1018,
    "start_time": "2022-01-22T19:22:51.779Z"
   },
   {
    "duration": 296,
    "start_time": "2022-01-22T19:22:52.801Z"
   },
   {
    "duration": 15,
    "start_time": "2022-01-22T19:22:53.100Z"
   },
   {
    "duration": 13,
    "start_time": "2022-01-22T19:22:53.118Z"
   },
   {
    "duration": 32,
    "start_time": "2022-01-22T19:22:53.133Z"
   },
   {
    "duration": 28,
    "start_time": "2022-01-22T19:22:53.169Z"
   },
   {
    "duration": 12,
    "start_time": "2022-01-22T19:22:53.200Z"
   },
   {
    "duration": 71,
    "start_time": "2022-01-22T19:22:53.216Z"
   },
   {
    "duration": 5,
    "start_time": "2022-01-22T19:22:53.290Z"
   },
   {
    "duration": 15,
    "start_time": "2022-01-22T19:22:53.302Z"
   },
   {
    "duration": 8,
    "start_time": "2022-01-22T19:22:53.319Z"
   },
   {
    "duration": 37,
    "start_time": "2022-01-22T19:22:53.329Z"
   },
   {
    "duration": 17,
    "start_time": "2022-01-22T19:22:53.373Z"
   },
   {
    "duration": 676,
    "start_time": "2022-01-22T19:23:57.321Z"
   },
   {
    "duration": 482,
    "start_time": "2022-01-22T19:24:14.544Z"
   },
   {
    "duration": 191,
    "start_time": "2022-01-22T19:24:50.806Z"
   },
   {
    "duration": 895,
    "start_time": "2022-01-22T19:24:55.759Z"
   },
   {
    "duration": 589,
    "start_time": "2022-01-22T19:25:01.973Z"
   },
   {
    "duration": 665,
    "start_time": "2022-01-22T19:30:49.503Z"
   },
   {
    "duration": 710,
    "start_time": "2022-01-22T19:31:33.164Z"
   },
   {
    "duration": 929,
    "start_time": "2022-01-22T19:33:24.788Z"
   },
   {
    "duration": 2502,
    "start_time": "2022-01-22T19:33:46.249Z"
   },
   {
    "duration": 574,
    "start_time": "2022-01-22T19:34:20.269Z"
   },
   {
    "duration": 961,
    "start_time": "2022-01-22T19:43:13.641Z"
   },
   {
    "duration": 899,
    "start_time": "2022-01-22T19:46:36.533Z"
   },
   {
    "duration": 608,
    "start_time": "2022-01-22T19:47:29.425Z"
   },
   {
    "duration": 720,
    "start_time": "2022-01-22T19:47:45.941Z"
   },
   {
    "duration": 636,
    "start_time": "2022-01-22T19:48:06.603Z"
   },
   {
    "duration": 676,
    "start_time": "2022-01-22T19:48:21.854Z"
   },
   {
    "duration": 35,
    "start_time": "2022-01-22T19:56:48.333Z"
   },
   {
    "duration": 11,
    "start_time": "2022-01-22T19:57:42.294Z"
   },
   {
    "duration": 38,
    "start_time": "2022-01-22T19:58:18.317Z"
   },
   {
    "duration": 318,
    "start_time": "2022-01-22T19:58:51.678Z"
   },
   {
    "duration": 11,
    "start_time": "2022-01-22T20:46:38.205Z"
   },
   {
    "duration": 31,
    "start_time": "2022-01-22T20:47:02.539Z"
   },
   {
    "duration": 23,
    "start_time": "2022-01-22T20:47:09.790Z"
   },
   {
    "duration": 30,
    "start_time": "2022-01-22T20:47:18.618Z"
   },
   {
    "duration": 41,
    "start_time": "2022-01-22T20:47:41.623Z"
   },
   {
    "duration": 8,
    "start_time": "2022-01-22T20:50:25.932Z"
   },
   {
    "duration": 9,
    "start_time": "2022-01-22T20:52:14.883Z"
   },
   {
    "duration": 9,
    "start_time": "2022-01-22T20:52:25.644Z"
   },
   {
    "duration": 33,
    "start_time": "2022-01-22T21:24:34.054Z"
   },
   {
    "duration": 18,
    "start_time": "2022-01-22T21:24:48.144Z"
   },
   {
    "duration": 31,
    "start_time": "2022-01-22T21:24:52.574Z"
   },
   {
    "duration": 31,
    "start_time": "2022-01-22T21:25:12.585Z"
   },
   {
    "duration": 26,
    "start_time": "2022-01-22T21:26:11.122Z"
   },
   {
    "duration": 30,
    "start_time": "2022-01-22T21:26:31.568Z"
   },
   {
    "duration": 31,
    "start_time": "2022-01-22T21:26:36.564Z"
   },
   {
    "duration": 32,
    "start_time": "2022-01-22T21:26:48.402Z"
   },
   {
    "duration": 423,
    "start_time": "2022-01-22T21:35:14.121Z"
   },
   {
    "duration": 330,
    "start_time": "2022-01-22T21:35:31.312Z"
   },
   {
    "duration": 7077,
    "start_time": "2022-01-22T21:35:41.418Z"
   },
   {
    "duration": 7369,
    "start_time": "2022-01-22T21:35:53.125Z"
   },
   {
    "duration": 9578,
    "start_time": "2022-01-22T21:36:01.023Z"
   },
   {
    "duration": 589,
    "start_time": "2022-01-22T21:36:23.447Z"
   },
   {
    "duration": 137,
    "start_time": "2022-01-22T21:45:50.220Z"
   },
   {
    "duration": 15,
    "start_time": "2022-01-22T21:46:27.092Z"
   },
   {
    "duration": 30,
    "start_time": "2022-01-22T21:46:34.817Z"
   },
   {
    "duration": 113,
    "start_time": "2022-01-22T22:35:17.982Z"
   },
   {
    "duration": 99,
    "start_time": "2022-01-22T22:35:30.721Z"
   },
   {
    "duration": 95,
    "start_time": "2022-01-22T22:35:36.734Z"
   },
   {
    "duration": 98,
    "start_time": "2022-01-22T22:35:44.106Z"
   },
   {
    "duration": 9369,
    "start_time": "2022-01-22T22:38:17.021Z"
   },
   {
    "duration": 25,
    "start_time": "2022-01-22T22:38:28.788Z"
   },
   {
    "duration": 23,
    "start_time": "2022-01-22T22:38:49.555Z"
   },
   {
    "duration": 20,
    "start_time": "2022-01-22T22:39:22.551Z"
   },
   {
    "duration": 21,
    "start_time": "2022-01-22T22:41:03.568Z"
   },
   {
    "duration": 22,
    "start_time": "2022-01-22T22:41:41.656Z"
   },
   {
    "duration": 25,
    "start_time": "2022-01-22T22:41:57.829Z"
   },
   {
    "duration": 23,
    "start_time": "2022-01-22T22:42:16.438Z"
   },
   {
    "duration": 21,
    "start_time": "2022-01-22T22:42:58.477Z"
   },
   {
    "duration": 22,
    "start_time": "2022-01-22T22:43:16.550Z"
   },
   {
    "duration": 20,
    "start_time": "2022-01-22T22:43:31.115Z"
   },
   {
    "duration": 21,
    "start_time": "2022-01-22T22:43:45.797Z"
   },
   {
    "duration": 21,
    "start_time": "2022-01-22T22:51:17.382Z"
   },
   {
    "duration": 505,
    "start_time": "2022-01-22T22:51:39.578Z"
   },
   {
    "duration": 398,
    "start_time": "2022-01-22T22:51:52.313Z"
   },
   {
    "duration": 491,
    "start_time": "2022-01-22T22:52:02.632Z"
   },
   {
    "duration": 507,
    "start_time": "2022-01-22T22:52:24.100Z"
   },
   {
    "duration": 518,
    "start_time": "2022-01-22T22:52:40.860Z"
   },
   {
    "duration": 23,
    "start_time": "2022-01-22T22:53:21.307Z"
   },
   {
    "duration": 9,
    "start_time": "2022-01-22T22:56:48.250Z"
   },
   {
    "duration": 628,
    "start_time": "2022-01-22T22:57:20.992Z"
   },
   {
    "duration": 6,
    "start_time": "2022-01-22T22:57:33.395Z"
   },
   {
    "duration": 745,
    "start_time": "2022-01-23T09:29:21.180Z"
   },
   {
    "duration": 260,
    "start_time": "2022-01-23T09:29:21.927Z"
   },
   {
    "duration": 9,
    "start_time": "2022-01-23T09:29:22.189Z"
   },
   {
    "duration": 54,
    "start_time": "2022-01-23T09:29:22.200Z"
   },
   {
    "duration": 27,
    "start_time": "2022-01-23T09:29:22.256Z"
   },
   {
    "duration": 37,
    "start_time": "2022-01-23T09:29:22.285Z"
   },
   {
    "duration": 29,
    "start_time": "2022-01-23T09:29:22.324Z"
   },
   {
    "duration": 31,
    "start_time": "2022-01-23T09:29:22.356Z"
   },
   {
    "duration": 7,
    "start_time": "2022-01-23T09:29:22.389Z"
   },
   {
    "duration": 15,
    "start_time": "2022-01-23T09:29:22.398Z"
   },
   {
    "duration": 37,
    "start_time": "2022-01-23T09:29:22.415Z"
   },
   {
    "duration": 19,
    "start_time": "2022-01-23T09:29:22.453Z"
   },
   {
    "duration": 30,
    "start_time": "2022-01-23T09:29:22.474Z"
   },
   {
    "duration": 347,
    "start_time": "2022-01-23T09:29:22.506Z"
   },
   {
    "duration": 474,
    "start_time": "2022-01-23T09:29:22.855Z"
   },
   {
    "duration": 17,
    "start_time": "2022-01-23T09:29:23.332Z"
   },
   {
    "duration": 9,
    "start_time": "2022-01-23T09:29:23.362Z"
   },
   {
    "duration": 424,
    "start_time": "2022-01-23T09:29:23.372Z"
   },
   {
    "duration": 10,
    "start_time": "2022-01-23T09:30:43.501Z"
   },
   {
    "duration": 7,
    "start_time": "2022-01-23T09:32:08.370Z"
   },
   {
    "duration": 247,
    "start_time": "2022-01-23T09:32:20.381Z"
   },
   {
    "duration": 243,
    "start_time": "2022-01-23T09:32:43.969Z"
   },
   {
    "duration": 7,
    "start_time": "2022-01-23T09:33:22.621Z"
   },
   {
    "duration": 7,
    "start_time": "2022-01-23T09:34:59.101Z"
   },
   {
    "duration": 12,
    "start_time": "2022-01-23T09:35:00.818Z"
   },
   {
    "duration": 7,
    "start_time": "2022-01-23T09:36:46.141Z"
   },
   {
    "duration": 471,
    "start_time": "2022-01-23T09:38:14.883Z"
   },
   {
    "duration": 8,
    "start_time": "2022-01-23T09:43:03.661Z"
   },
   {
    "duration": 14,
    "start_time": "2022-01-23T09:43:04.953Z"
   },
   {
    "duration": 8,
    "start_time": "2022-01-23T09:43:20.749Z"
   },
   {
    "duration": 13,
    "start_time": "2022-01-23T09:43:24.142Z"
   },
   {
    "duration": 8,
    "start_time": "2022-01-23T09:43:30.913Z"
   },
   {
    "duration": 12,
    "start_time": "2022-01-23T09:43:31.256Z"
   },
   {
    "duration": 7,
    "start_time": "2022-01-23T09:43:37.301Z"
   },
   {
    "duration": 519,
    "start_time": "2022-01-23T09:43:38.221Z"
   },
   {
    "duration": 8,
    "start_time": "2022-01-23T09:45:06.120Z"
   },
   {
    "duration": 528,
    "start_time": "2022-01-23T09:45:06.789Z"
   },
   {
    "duration": 6,
    "start_time": "2022-01-23T09:45:14.921Z"
   },
   {
    "duration": 449,
    "start_time": "2022-01-23T09:45:15.697Z"
   },
   {
    "duration": 280,
    "start_time": "2022-01-23T09:46:49.669Z"
   },
   {
    "duration": 297,
    "start_time": "2022-01-23T09:47:22.442Z"
   },
   {
    "duration": 6,
    "start_time": "2022-01-23T09:47:53.261Z"
   },
   {
    "duration": 11,
    "start_time": "2022-01-23T09:47:53.568Z"
   },
   {
    "duration": 7,
    "start_time": "2022-01-23T09:47:57.861Z"
   },
   {
    "duration": 476,
    "start_time": "2022-01-23T09:48:00.241Z"
   },
   {
    "duration": 323,
    "start_time": "2022-01-23T09:48:29.789Z"
   },
   {
    "duration": 328,
    "start_time": "2022-01-23T09:49:08.461Z"
   },
   {
    "duration": 15,
    "start_time": "2022-01-23T09:49:09.801Z"
   },
   {
    "duration": 6,
    "start_time": "2022-01-23T09:49:10.121Z"
   },
   {
    "duration": 8,
    "start_time": "2022-01-23T09:49:10.285Z"
   },
   {
    "duration": 12,
    "start_time": "2022-01-23T09:49:10.517Z"
   },
   {
    "duration": 8,
    "start_time": "2022-01-23T09:49:11.861Z"
   },
   {
    "duration": 586,
    "start_time": "2022-01-23T09:49:13.341Z"
   },
   {
    "duration": 304,
    "start_time": "2022-01-23T09:49:24.780Z"
   },
   {
    "duration": 135,
    "start_time": "2022-01-24T12:29:52.565Z"
   },
   {
    "duration": 3,
    "start_time": "2022-01-24T12:32:51.937Z"
   },
   {
    "duration": 1068,
    "start_time": "2022-01-24T12:45:28.150Z"
   },
   {
    "duration": 274,
    "start_time": "2022-01-24T12:45:29.221Z"
   },
   {
    "duration": 20,
    "start_time": "2022-01-24T12:45:29.499Z"
   },
   {
    "duration": 16,
    "start_time": "2022-01-24T12:45:29.523Z"
   },
   {
    "duration": 5,
    "start_time": "2022-01-24T12:45:29.559Z"
   },
   {
    "duration": 21,
    "start_time": "2022-01-24T12:45:29.567Z"
   },
   {
    "duration": 12,
    "start_time": "2022-01-24T12:45:29.590Z"
   },
   {
    "duration": 60,
    "start_time": "2022-01-24T12:45:29.604Z"
   },
   {
    "duration": 5,
    "start_time": "2022-01-24T12:45:29.668Z"
   },
   {
    "duration": 14,
    "start_time": "2022-01-24T12:45:29.675Z"
   },
   {
    "duration": 6,
    "start_time": "2022-01-24T12:45:29.691Z"
   },
   {
    "duration": 13,
    "start_time": "2022-01-24T12:45:29.699Z"
   },
   {
    "duration": 45,
    "start_time": "2022-01-24T12:45:29.714Z"
   },
   {
    "duration": 550,
    "start_time": "2022-01-24T12:45:29.762Z"
   },
   {
    "duration": 17,
    "start_time": "2022-01-24T12:45:33.659Z"
   },
   {
    "duration": 406,
    "start_time": "2022-01-24T12:54:37.831Z"
   },
   {
    "duration": 528,
    "start_time": "2022-01-24T12:54:43.911Z"
   },
   {
    "duration": 582,
    "start_time": "2022-01-24T12:56:55.980Z"
   },
   {
    "duration": 24,
    "start_time": "2022-01-24T13:01:13.319Z"
   },
   {
    "duration": 10,
    "start_time": "2022-01-24T13:08:16.367Z"
   },
   {
    "duration": 17,
    "start_time": "2022-01-24T13:08:32.991Z"
   },
   {
    "duration": 18,
    "start_time": "2022-01-24T13:10:22.571Z"
   },
   {
    "duration": 8,
    "start_time": "2022-01-24T13:23:35.147Z"
   },
   {
    "duration": 11,
    "start_time": "2022-01-24T13:23:46.159Z"
   },
   {
    "duration": 10,
    "start_time": "2022-01-24T13:24:05.299Z"
   },
   {
    "duration": 885,
    "start_time": "2022-01-24T13:27:05.260Z"
   },
   {
    "duration": 794,
    "start_time": "2022-01-24T13:28:01.679Z"
   },
   {
    "duration": 798,
    "start_time": "2022-01-24T13:28:28.739Z"
   },
   {
    "duration": 858,
    "start_time": "2022-01-24T13:28:40.667Z"
   },
   {
    "duration": 819,
    "start_time": "2022-01-24T13:29:42.440Z"
   },
   {
    "duration": 825,
    "start_time": "2022-01-24T13:29:52.893Z"
   },
   {
    "duration": 813,
    "start_time": "2022-01-24T13:30:09.027Z"
   },
   {
    "duration": 734,
    "start_time": "2022-01-24T13:30:49.099Z"
   },
   {
    "duration": 1240,
    "start_time": "2022-01-25T19:03:33.326Z"
   },
   {
    "duration": 3504,
    "start_time": "2022-01-25T19:03:34.568Z"
   },
   {
    "duration": 622,
    "start_time": "2022-01-25T19:03:38.074Z"
   },
   {
    "duration": 1240,
    "start_time": "2022-01-25T19:03:38.698Z"
   },
   {
    "duration": 2298,
    "start_time": "2022-01-25T19:03:39.940Z"
   },
   {
    "duration": 1523,
    "start_time": "2022-01-25T19:03:42.240Z"
   },
   {
    "duration": 1361,
    "start_time": "2022-01-25T19:03:43.765Z"
   },
   {
    "duration": 1382,
    "start_time": "2022-01-25T19:03:45.128Z"
   },
   {
    "duration": 1169,
    "start_time": "2022-01-25T19:03:46.513Z"
   },
   {
    "duration": 1085,
    "start_time": "2022-01-25T19:03:47.684Z"
   },
   {
    "duration": 1208,
    "start_time": "2022-01-25T19:03:48.771Z"
   },
   {
    "duration": 1854,
    "start_time": "2022-01-25T19:03:49.980Z"
   },
   {
    "duration": 1910,
    "start_time": "2022-01-25T19:03:51.835Z"
   },
   {
    "duration": 2281,
    "start_time": "2022-01-25T19:03:53.746Z"
   },
   {
    "duration": 1090,
    "start_time": "2022-01-25T19:03:56.029Z"
   },
   {
    "duration": 3375,
    "start_time": "2022-01-25T19:03:57.121Z"
   },
   {
    "duration": 1100,
    "start_time": "2022-01-25T19:04:00.498Z"
   },
   {
    "duration": 2131,
    "start_time": "2022-01-25T19:04:01.600Z"
   },
   {
    "duration": 1946,
    "start_time": "2022-01-25T19:04:03.733Z"
   },
   {
    "duration": 2080,
    "start_time": "2022-01-25T19:04:05.681Z"
   },
   {
    "duration": 1634,
    "start_time": "2022-01-25T19:04:07.768Z"
   },
   {
    "duration": 676,
    "start_time": "2022-01-25T19:04:09.404Z"
   },
   {
    "duration": 456,
    "start_time": "2022-01-25T19:05:48.430Z"
   },
   {
    "duration": 354,
    "start_time": "2022-01-25T19:06:34.615Z"
   },
   {
    "duration": 332,
    "start_time": "2022-01-25T19:06:46.735Z"
   },
   {
    "duration": 341,
    "start_time": "2022-01-25T19:06:53.214Z"
   },
   {
    "duration": 105,
    "start_time": "2022-01-25T19:14:50.435Z"
   },
   {
    "duration": 364,
    "start_time": "2022-01-25T19:15:09.144Z"
   },
   {
    "duration": 9,
    "start_time": "2022-01-25T19:15:23.030Z"
   },
   {
    "duration": 11,
    "start_time": "2022-01-25T19:15:50.390Z"
   },
   {
    "duration": 311,
    "start_time": "2022-01-25T19:27:25.109Z"
   },
   {
    "duration": 321,
    "start_time": "2022-01-25T19:28:53.810Z"
   },
   {
    "duration": 300,
    "start_time": "2022-01-25T19:30:12.277Z"
   },
   {
    "duration": 326,
    "start_time": "2022-01-25T19:30:27.859Z"
   },
   {
    "duration": 1222,
    "start_time": "2022-01-25T19:30:58.608Z"
   },
   {
    "duration": 1129,
    "start_time": "2022-01-25T19:30:59.831Z"
   },
   {
    "duration": 785,
    "start_time": "2022-01-25T19:31:00.961Z"
   },
   {
    "duration": 841,
    "start_time": "2022-01-25T19:31:01.748Z"
   },
   {
    "duration": 1719,
    "start_time": "2022-01-25T19:31:02.591Z"
   },
   {
    "duration": 1616,
    "start_time": "2022-01-25T19:31:04.312Z"
   },
   {
    "duration": 928,
    "start_time": "2022-01-25T19:31:05.930Z"
   },
   {
    "duration": 810,
    "start_time": "2022-01-25T19:31:06.860Z"
   },
   {
    "duration": 257,
    "start_time": "2022-01-25T19:31:07.674Z"
   },
   {
    "duration": 498,
    "start_time": "2022-01-25T19:31:07.933Z"
   },
   {
    "duration": 919,
    "start_time": "2022-01-25T19:31:08.433Z"
   },
   {
    "duration": 637,
    "start_time": "2022-01-25T19:31:09.353Z"
   },
   {
    "duration": 792,
    "start_time": "2022-01-25T19:31:09.992Z"
   },
   {
    "duration": 1240,
    "start_time": "2022-01-25T19:31:10.786Z"
   },
   {
    "duration": 11,
    "start_time": "2022-01-25T19:31:12.027Z"
   },
   {
    "duration": 210,
    "start_time": "2022-01-25T19:31:12.039Z"
   },
   {
    "duration": 691,
    "start_time": "2022-01-25T19:31:12.251Z"
   },
   {
    "duration": 405,
    "start_time": "2022-01-25T19:31:12.944Z"
   },
   {
    "duration": 372,
    "start_time": "2022-01-25T19:31:13.350Z"
   },
   {
    "duration": 1629,
    "start_time": "2022-01-25T19:31:13.723Z"
   },
   {
    "duration": 813,
    "start_time": "2022-01-25T19:31:15.354Z"
   },
   {
    "duration": 306,
    "start_time": "2022-01-25T19:33:53.505Z"
   },
   {
    "duration": 375,
    "start_time": "2022-01-25T19:35:56.736Z"
   },
   {
    "duration": 346,
    "start_time": "2022-01-25T19:36:24.304Z"
   },
   {
    "duration": 736,
    "start_time": "2022-01-25T19:36:43.784Z"
   },
   {
    "duration": 649,
    "start_time": "2022-01-25T19:36:50.104Z"
   },
   {
    "duration": 319,
    "start_time": "2022-01-25T19:36:59.844Z"
   },
   {
    "duration": 9,
    "start_time": "2022-01-25T19:39:31.016Z"
   },
   {
    "duration": 327,
    "start_time": "2022-01-25T19:39:49.267Z"
   },
   {
    "duration": 7,
    "start_time": "2022-01-25T19:45:04.696Z"
   },
   {
    "duration": 608,
    "start_time": "2022-01-25T19:45:14.984Z"
   },
   {
    "duration": 633,
    "start_time": "2022-01-25T19:47:01.985Z"
   },
   {
    "duration": 617,
    "start_time": "2022-01-25T19:47:24.201Z"
   },
   {
    "duration": 477,
    "start_time": "2022-01-25T19:47:54.785Z"
   },
   {
    "duration": 594,
    "start_time": "2022-01-25T19:48:25.477Z"
   },
   {
    "duration": 9,
    "start_time": "2022-01-25T19:48:51.179Z"
   },
   {
    "duration": 623,
    "start_time": "2022-01-25T19:55:10.757Z"
   },
   {
    "duration": 322,
    "start_time": "2022-01-25T19:55:31.077Z"
   },
   {
    "duration": 9,
    "start_time": "2022-01-25T19:55:38.856Z"
   },
   {
    "duration": 3165,
    "start_time": "2022-01-25T19:55:42.245Z"
   },
   {
    "duration": 8,
    "start_time": "2022-01-25T19:57:07.084Z"
   },
   {
    "duration": 8,
    "start_time": "2022-01-25T19:57:25.137Z"
   },
   {
    "duration": 8,
    "start_time": "2022-01-25T19:58:22.746Z"
   },
   {
    "duration": 13,
    "start_time": "2022-01-25T19:58:46.378Z"
   },
   {
    "duration": 14,
    "start_time": "2022-01-25T20:00:09.157Z"
   },
   {
    "duration": 9,
    "start_time": "2022-01-25T20:02:33.376Z"
   },
   {
    "duration": 19,
    "start_time": "2022-01-25T20:02:39.944Z"
   },
   {
    "duration": 493,
    "start_time": "2022-01-25T20:02:50.844Z"
   },
   {
    "duration": 10,
    "start_time": "2022-01-25T20:03:14.975Z"
   },
   {
    "duration": 18,
    "start_time": "2022-01-25T20:03:17.432Z"
   },
   {
    "duration": 466,
    "start_time": "2022-01-25T20:03:35.496Z"
   },
   {
    "duration": 9,
    "start_time": "2022-01-25T20:07:21.765Z"
   },
   {
    "duration": 15,
    "start_time": "2022-01-25T20:07:28.101Z"
   },
   {
    "duration": 468,
    "start_time": "2022-01-25T20:07:39.270Z"
   },
   {
    "duration": 11,
    "start_time": "2022-01-25T20:07:57.933Z"
   },
   {
    "duration": 18,
    "start_time": "2022-01-25T20:08:03.738Z"
   },
   {
    "duration": 538,
    "start_time": "2022-01-25T20:08:06.618Z"
   },
   {
    "duration": 9,
    "start_time": "2022-01-25T20:08:38.558Z"
   },
   {
    "duration": 16,
    "start_time": "2022-01-25T20:08:42.438Z"
   },
   {
    "duration": 492,
    "start_time": "2022-01-25T20:08:47.618Z"
   },
   {
    "duration": 9,
    "start_time": "2022-01-25T20:09:14.008Z"
   },
   {
    "duration": 16,
    "start_time": "2022-01-25T20:09:21.478Z"
   },
   {
    "duration": 1098,
    "start_time": "2022-01-25T20:09:23.839Z"
   },
   {
    "duration": 16,
    "start_time": "2022-01-25T20:10:05.518Z"
   },
   {
    "duration": 460,
    "start_time": "2022-01-25T20:10:11.318Z"
   },
   {
    "duration": 18,
    "start_time": "2022-01-25T20:10:16.018Z"
   },
   {
    "duration": 504,
    "start_time": "2022-01-25T20:10:29.558Z"
   },
   {
    "duration": 16,
    "start_time": "2022-01-25T21:37:52.672Z"
   },
   {
    "duration": 492,
    "start_time": "2022-01-25T21:38:01.252Z"
   },
   {
    "duration": 17,
    "start_time": "2022-01-25T21:38:08.632Z"
   },
   {
    "duration": 557,
    "start_time": "2022-01-25T21:38:23.111Z"
   },
   {
    "duration": 310,
    "start_time": "2022-01-25T21:56:37.773Z"
   },
   {
    "duration": 13,
    "start_time": "2022-01-25T21:56:47.102Z"
   },
   {
    "duration": 12,
    "start_time": "2022-01-25T21:56:56.993Z"
   },
   {
    "duration": 14,
    "start_time": "2022-01-25T21:57:21.688Z"
   },
   {
    "duration": 31,
    "start_time": "2022-01-25T21:58:06.213Z"
   },
   {
    "duration": 18,
    "start_time": "2022-01-25T21:58:49.613Z"
   },
   {
    "duration": 18,
    "start_time": "2022-01-25T22:01:40.192Z"
   },
   {
    "duration": 7,
    "start_time": "2022-01-25T22:03:17.293Z"
   },
   {
    "duration": 14,
    "start_time": "2022-01-25T22:03:57.146Z"
   },
   {
    "duration": 10,
    "start_time": "2022-01-25T22:04:17.632Z"
   },
   {
    "duration": 310,
    "start_time": "2022-01-25T23:05:28.513Z"
   },
   {
    "duration": 21,
    "start_time": "2022-01-25T23:06:00.832Z"
   },
   {
    "duration": 15,
    "start_time": "2022-01-25T23:11:08.452Z"
   },
   {
    "duration": 17,
    "start_time": "2022-01-25T23:11:23.871Z"
   },
   {
    "duration": 18,
    "start_time": "2022-01-25T23:11:55.172Z"
   },
   {
    "duration": 18,
    "start_time": "2022-01-25T23:12:45.592Z"
   },
   {
    "duration": 11,
    "start_time": "2022-01-25T23:23:43.152Z"
   },
   {
    "duration": 16,
    "start_time": "2022-01-25T23:24:10.920Z"
   },
   {
    "duration": 303,
    "start_time": "2022-01-25T23:28:26.834Z"
   },
   {
    "duration": 14,
    "start_time": "2022-01-25T23:31:45.152Z"
   },
   {
    "duration": 292,
    "start_time": "2022-01-25T23:32:17.992Z"
   },
   {
    "duration": 296,
    "start_time": "2022-01-25T23:32:32.200Z"
   },
   {
    "duration": 17,
    "start_time": "2022-01-25T23:32:59.752Z"
   },
   {
    "duration": 310,
    "start_time": "2022-01-25T23:33:16.167Z"
   },
   {
    "duration": 763,
    "start_time": "2022-01-26T13:08:59.375Z"
   },
   {
    "duration": 208,
    "start_time": "2022-01-26T13:09:00.141Z"
   },
   {
    "duration": 11,
    "start_time": "2022-01-26T13:09:00.352Z"
   },
   {
    "duration": 15,
    "start_time": "2022-01-26T13:09:00.365Z"
   },
   {
    "duration": 29,
    "start_time": "2022-01-26T13:09:00.382Z"
   },
   {
    "duration": 38,
    "start_time": "2022-01-26T13:09:00.413Z"
   },
   {
    "duration": 22,
    "start_time": "2022-01-26T13:09:00.454Z"
   },
   {
    "duration": 37,
    "start_time": "2022-01-26T13:09:00.477Z"
   },
   {
    "duration": 7,
    "start_time": "2022-01-26T13:09:00.517Z"
   },
   {
    "duration": 31,
    "start_time": "2022-01-26T13:09:00.526Z"
   },
   {
    "duration": 10,
    "start_time": "2022-01-26T13:09:00.559Z"
   },
   {
    "duration": 18,
    "start_time": "2022-01-26T13:09:00.571Z"
   },
   {
    "duration": 20,
    "start_time": "2022-01-26T13:09:00.591Z"
   },
   {
    "duration": 319,
    "start_time": "2022-01-26T13:09:00.613Z"
   },
   {
    "duration": 14,
    "start_time": "2022-01-26T13:09:00.934Z"
   },
   {
    "duration": 12,
    "start_time": "2022-01-26T13:09:00.961Z"
   },
   {
    "duration": 373,
    "start_time": "2022-01-26T13:09:00.975Z"
   },
   {
    "duration": 24,
    "start_time": "2022-01-26T13:09:01.350Z"
   },
   {
    "duration": 187,
    "start_time": "2022-01-26T13:09:01.376Z"
   },
   {
    "duration": 102,
    "start_time": "2022-01-26T13:09:01.565Z"
   },
   {
    "duration": 113,
    "start_time": "2022-01-26T13:09:01.669Z"
   },
   {
    "duration": 504,
    "start_time": "2022-01-26T13:09:01.785Z"
   },
   {
    "duration": 18,
    "start_time": "2022-01-26T13:09:02.291Z"
   },
   {
    "duration": 585,
    "start_time": "2022-01-26T13:09:02.310Z"
   },
   {
    "duration": 17,
    "start_time": "2022-01-26T13:09:02.897Z"
   },
   {
    "duration": 590,
    "start_time": "2022-01-26T13:09:02.916Z"
   },
   {
    "duration": 18,
    "start_time": "2022-01-26T13:09:03.510Z"
   },
   {
    "duration": 518,
    "start_time": "2022-01-26T13:09:03.530Z"
   },
   {
    "duration": 28,
    "start_time": "2022-01-26T13:09:04.051Z"
   },
   {
    "duration": 539,
    "start_time": "2022-01-26T13:09:04.081Z"
   },
   {
    "duration": 10,
    "start_time": "2022-01-26T13:09:04.622Z"
   },
   {
    "duration": 50,
    "start_time": "2022-01-26T13:09:04.634Z"
   },
   {
    "duration": 42,
    "start_time": "2022-01-26T13:09:04.686Z"
   },
   {
    "duration": 330,
    "start_time": "2022-01-26T13:09:04.730Z"
   },
   {
    "duration": 8,
    "start_time": "2022-01-26T13:09:05.062Z"
   },
   {
    "duration": 37,
    "start_time": "2022-01-26T13:09:05.072Z"
   },
   {
    "duration": 321,
    "start_time": "2022-01-26T13:09:05.111Z"
   },
   {
    "duration": -1867,
    "start_time": "2022-01-26T13:09:07.301Z"
   },
   {
    "duration": -1869,
    "start_time": "2022-01-26T13:09:07.304Z"
   },
   {
    "duration": -1876,
    "start_time": "2022-01-26T13:09:07.312Z"
   },
   {
    "duration": -1878,
    "start_time": "2022-01-26T13:09:07.315Z"
   },
   {
    "duration": -1880,
    "start_time": "2022-01-26T13:09:07.318Z"
   },
   {
    "duration": -1880,
    "start_time": "2022-01-26T13:09:07.319Z"
   },
   {
    "duration": -1881,
    "start_time": "2022-01-26T13:09:07.321Z"
   },
   {
    "duration": -1882,
    "start_time": "2022-01-26T13:09:07.323Z"
   },
   {
    "duration": -1886,
    "start_time": "2022-01-26T13:09:07.328Z"
   },
   {
    "duration": 285,
    "start_time": "2022-01-26T13:36:22.535Z"
   },
   {
    "duration": 1249,
    "start_time": "2022-01-26T13:42:42.634Z"
   },
   {
    "duration": 6579,
    "start_time": "2022-01-26T13:48:37.043Z"
   },
   {
    "duration": 6799,
    "start_time": "2022-01-26T13:51:11.695Z"
   },
   {
    "duration": 1284,
    "start_time": "2022-01-26T13:52:00.814Z"
   },
   {
    "duration": 620,
    "start_time": "2022-01-26T13:54:12.315Z"
   },
   {
    "duration": 596,
    "start_time": "2022-01-26T13:55:12.575Z"
   },
   {
    "duration": 319,
    "start_time": "2022-01-26T13:56:13.203Z"
   },
   {
    "duration": 557,
    "start_time": "2022-01-26T13:56:27.134Z"
   },
   {
    "duration": 240,
    "start_time": "2022-01-26T14:01:19.757Z"
   },
   {
    "duration": 262,
    "start_time": "2022-01-26T14:01:56.834Z"
   },
   {
    "duration": 249,
    "start_time": "2022-01-26T14:02:23.122Z"
   },
   {
    "duration": 428,
    "start_time": "2022-01-26T14:03:42.295Z"
   },
   {
    "duration": 368,
    "start_time": "2022-01-26T14:04:10.454Z"
   },
   {
    "duration": 349,
    "start_time": "2022-01-26T14:05:52.235Z"
   },
   {
    "duration": 450,
    "start_time": "2022-01-26T14:06:07.774Z"
   },
   {
    "duration": 302,
    "start_time": "2022-01-26T14:06:18.592Z"
   },
   {
    "duration": 361,
    "start_time": "2022-01-26T14:06:25.334Z"
   },
   {
    "duration": 492,
    "start_time": "2022-01-26T14:06:35.094Z"
   },
   {
    "duration": 256,
    "start_time": "2022-01-26T14:06:42.510Z"
   },
   {
    "duration": 463,
    "start_time": "2022-01-26T14:06:51.575Z"
   },
   {
    "duration": 381,
    "start_time": "2022-01-26T14:07:01.275Z"
   },
   {
    "duration": 11,
    "start_time": "2022-01-26T14:10:36.555Z"
   },
   {
    "duration": 10,
    "start_time": "2022-01-26T14:11:06.334Z"
   },
   {
    "duration": 12,
    "start_time": "2022-01-26T14:11:42.494Z"
   },
   {
    "duration": 252,
    "start_time": "2022-01-26T14:12:52.316Z"
   },
   {
    "duration": 17,
    "start_time": "2022-01-26T14:13:19.393Z"
   },
   {
    "duration": 12,
    "start_time": "2022-01-26T14:13:28.254Z"
   },
   {
    "duration": 11,
    "start_time": "2022-01-26T14:14:16.346Z"
   },
   {
    "duration": 10,
    "start_time": "2022-01-26T14:14:26.314Z"
   },
   {
    "duration": 540,
    "start_time": "2022-01-26T14:14:53.246Z"
   },
   {
    "duration": 352,
    "start_time": "2022-01-26T14:15:06.294Z"
   },
   {
    "duration": 482,
    "start_time": "2022-01-26T14:17:01.295Z"
   },
   {
    "duration": 355,
    "start_time": "2022-01-26T14:17:41.295Z"
   },
   {
    "duration": 177,
    "start_time": "2022-01-26T14:22:30.894Z"
   },
   {
    "duration": 623,
    "start_time": "2022-01-26T14:24:15.874Z"
   },
   {
    "duration": 429,
    "start_time": "2022-01-26T14:24:46.274Z"
   },
   {
    "duration": 421,
    "start_time": "2022-01-26T14:25:24.574Z"
   },
   {
    "duration": 534,
    "start_time": "2022-01-26T14:26:21.014Z"
   },
   {
    "duration": 506,
    "start_time": "2022-01-26T14:28:00.635Z"
   },
   {
    "duration": 508,
    "start_time": "2022-01-26T14:30:10.214Z"
   },
   {
    "duration": 545,
    "start_time": "2022-01-26T14:33:51.274Z"
   },
   {
    "duration": 341,
    "start_time": "2022-01-26T14:33:59.275Z"
   },
   {
    "duration": 111,
    "start_time": "2022-01-26T14:35:55.026Z"
   },
   {
    "duration": 807,
    "start_time": "2022-01-26T14:39:01.253Z"
   },
   {
    "duration": 561,
    "start_time": "2022-01-26T14:40:05.394Z"
   },
   {
    "duration": 8,
    "start_time": "2022-01-26T14:42:55.674Z"
   },
   {
    "duration": 550,
    "start_time": "2022-01-26T14:43:11.235Z"
   },
   {
    "duration": 332,
    "start_time": "2022-01-26T14:43:40.994Z"
   },
   {
    "duration": 381,
    "start_time": "2022-01-26T14:44:33.034Z"
   },
   {
    "duration": 5,
    "start_time": "2022-01-26T14:44:41.213Z"
   },
   {
    "duration": 10,
    "start_time": "2022-01-26T14:51:36.394Z"
   },
   {
    "duration": 793,
    "start_time": "2022-01-26T14:51:37.814Z"
   },
   {
    "duration": 10,
    "start_time": "2022-01-26T14:52:01.063Z"
   },
   {
    "duration": 10,
    "start_time": "2022-01-26T14:52:19.854Z"
   },
   {
    "duration": 11,
    "start_time": "2022-01-26T14:52:26.354Z"
   },
   {
    "duration": 14,
    "start_time": "2022-01-26T14:52:31.774Z"
   },
   {
    "duration": 249,
    "start_time": "2022-01-26T14:52:54.154Z"
   },
   {
    "duration": 11,
    "start_time": "2022-01-26T14:53:14.026Z"
   },
   {
    "duration": 542,
    "start_time": "2022-01-26T14:53:15.914Z"
   },
   {
    "duration": 8,
    "start_time": "2022-01-26T14:53:18.454Z"
   },
   {
    "duration": 2,
    "start_time": "2022-01-26T14:54:07.074Z"
   },
   {
    "duration": 10,
    "start_time": "2022-01-26T14:57:12.882Z"
   },
   {
    "duration": 496,
    "start_time": "2022-01-26T14:57:14.103Z"
   },
   {
    "duration": 6,
    "start_time": "2022-01-26T14:57:17.046Z"
   },
   {
    "duration": 6,
    "start_time": "2022-01-26T14:57:40.814Z"
   },
   {
    "duration": 5,
    "start_time": "2022-01-26T14:58:43.894Z"
   },
   {
    "duration": 5,
    "start_time": "2022-01-26T14:58:52.341Z"
   },
   {
    "duration": 5,
    "start_time": "2022-01-26T14:59:08.514Z"
   },
   {
    "duration": 23,
    "start_time": "2022-01-26T15:13:08.366Z"
   },
   {
    "duration": 81,
    "start_time": "2022-01-26T15:16:24.053Z"
   },
   {
    "duration": 1135,
    "start_time": "2022-01-26T16:28:04.132Z"
   },
   {
    "duration": 261,
    "start_time": "2022-01-26T16:28:05.270Z"
   },
   {
    "duration": 12,
    "start_time": "2022-01-26T16:28:05.533Z"
   },
   {
    "duration": 26,
    "start_time": "2022-01-26T16:28:05.548Z"
   },
   {
    "duration": 5,
    "start_time": "2022-01-26T16:28:05.576Z"
   },
   {
    "duration": 19,
    "start_time": "2022-01-26T16:28:05.583Z"
   },
   {
    "duration": 13,
    "start_time": "2022-01-26T16:28:05.604Z"
   },
   {
    "duration": 23,
    "start_time": "2022-01-26T16:28:05.619Z"
   },
   {
    "duration": 4,
    "start_time": "2022-01-26T16:28:05.644Z"
   },
   {
    "duration": 20,
    "start_time": "2022-01-26T16:28:05.650Z"
   },
   {
    "duration": 10,
    "start_time": "2022-01-26T16:28:05.673Z"
   },
   {
    "duration": 17,
    "start_time": "2022-01-26T16:28:05.685Z"
   },
   {
    "duration": 9,
    "start_time": "2022-01-26T16:28:05.705Z"
   },
   {
    "duration": 368,
    "start_time": "2022-01-26T16:28:05.716Z"
   },
   {
    "duration": 15,
    "start_time": "2022-01-26T16:28:06.086Z"
   },
   {
    "duration": 13,
    "start_time": "2022-01-26T16:28:06.103Z"
   },
   {
    "duration": 374,
    "start_time": "2022-01-26T16:28:06.118Z"
   },
   {
    "duration": 16,
    "start_time": "2022-01-26T16:28:06.495Z"
   },
   {
    "duration": 8,
    "start_time": "2022-01-26T16:28:06.513Z"
   },
   {
    "duration": 40,
    "start_time": "2022-01-26T16:28:06.522Z"
   },
   {
    "duration": 9,
    "start_time": "2022-01-26T16:28:06.564Z"
   },
   {
    "duration": 492,
    "start_time": "2022-01-26T16:28:06.575Z"
   },
   {
    "duration": 25,
    "start_time": "2022-01-26T16:28:07.069Z"
   },
   {
    "duration": 603,
    "start_time": "2022-01-26T16:28:07.096Z"
   },
   {
    "duration": 16,
    "start_time": "2022-01-26T16:28:07.701Z"
   },
   {
    "duration": 571,
    "start_time": "2022-01-26T16:28:07.719Z"
   },
   {
    "duration": 16,
    "start_time": "2022-01-26T16:28:08.294Z"
   },
   {
    "duration": 563,
    "start_time": "2022-01-26T16:28:08.312Z"
   },
   {
    "duration": 21,
    "start_time": "2022-01-26T16:28:08.877Z"
   },
   {
    "duration": 744,
    "start_time": "2022-01-26T16:28:08.899Z"
   },
   {
    "duration": 20,
    "start_time": "2022-01-26T16:28:09.645Z"
   },
   {
    "duration": 69,
    "start_time": "2022-01-26T16:28:09.668Z"
   },
   {
    "duration": 396,
    "start_time": "2022-01-26T16:28:09.738Z"
   },
   {
    "duration": 43,
    "start_time": "2022-01-26T16:28:10.136Z"
   },
   {
    "duration": 379,
    "start_time": "2022-01-26T16:28:10.180Z"
   },
   {
    "duration": 565,
    "start_time": "2022-01-26T16:28:10.562Z"
   },
   {
    "duration": 10,
    "start_time": "2022-01-26T16:28:11.129Z"
   },
   {
    "duration": 596,
    "start_time": "2022-01-26T16:28:11.140Z"
   },
   {
    "duration": 6,
    "start_time": "2022-01-26T16:28:11.737Z"
   },
   {
    "duration": 57,
    "start_time": "2022-01-26T16:28:11.744Z"
   },
   {
    "duration": 579,
    "start_time": "2022-01-26T16:28:11.803Z"
   },
   {
    "duration": 5,
    "start_time": "2022-01-26T16:28:12.384Z"
   },
   {
    "duration": 222,
    "start_time": "2022-02-05T19:19:46.215Z"
   },
   {
    "duration": 1062,
    "start_time": "2022-02-05T19:20:27.146Z"
   },
   {
    "duration": 154,
    "start_time": "2022-02-05T19:20:28.209Z"
   },
   {
    "duration": 9,
    "start_time": "2022-02-05T19:20:28.365Z"
   },
   {
    "duration": 8,
    "start_time": "2022-02-05T19:20:28.376Z"
   },
   {
    "duration": 3,
    "start_time": "2022-02-05T19:20:28.385Z"
   },
   {
    "duration": 14,
    "start_time": "2022-02-05T19:20:28.390Z"
   },
   {
    "duration": 8,
    "start_time": "2022-02-05T19:20:28.406Z"
   },
   {
    "duration": 17,
    "start_time": "2022-02-05T19:20:28.415Z"
   },
   {
    "duration": 4,
    "start_time": "2022-02-05T19:20:28.434Z"
   },
   {
    "duration": 9,
    "start_time": "2022-02-05T19:20:28.440Z"
   },
   {
    "duration": 6,
    "start_time": "2022-02-05T19:20:28.451Z"
   },
   {
    "duration": 10,
    "start_time": "2022-02-05T19:20:28.459Z"
   },
   {
    "duration": 6,
    "start_time": "2022-02-05T19:20:28.470Z"
   },
   {
    "duration": 366,
    "start_time": "2022-02-05T19:20:28.477Z"
   },
   {
    "duration": 12,
    "start_time": "2022-02-05T19:20:28.844Z"
   },
   {
    "duration": 11,
    "start_time": "2022-02-05T19:20:28.857Z"
   },
   {
    "duration": 520,
    "start_time": "2022-02-05T19:20:28.870Z"
   },
   {
    "duration": 26,
    "start_time": "2022-02-05T19:20:29.391Z"
   },
   {
    "duration": 6,
    "start_time": "2022-02-05T19:20:29.419Z"
   },
   {
    "duration": 12,
    "start_time": "2022-02-05T19:20:29.426Z"
   },
   {
    "duration": 6,
    "start_time": "2022-02-05T19:20:29.440Z"
   },
   {
    "duration": 402,
    "start_time": "2022-02-05T19:20:29.447Z"
   },
   {
    "duration": 17,
    "start_time": "2022-02-05T19:20:29.850Z"
   },
   {
    "duration": 571,
    "start_time": "2022-02-05T19:20:29.868Z"
   },
   {
    "duration": 18,
    "start_time": "2022-02-05T19:20:30.441Z"
   },
   {
    "duration": 562,
    "start_time": "2022-02-05T19:20:30.460Z"
   },
   {
    "duration": 15,
    "start_time": "2022-02-05T19:20:31.026Z"
   },
   {
    "duration": 492,
    "start_time": "2022-02-05T19:20:31.043Z"
   },
   {
    "duration": 17,
    "start_time": "2022-02-05T19:20:31.537Z"
   },
   {
    "duration": 579,
    "start_time": "2022-02-05T19:20:31.555Z"
   },
   {
    "duration": 11,
    "start_time": "2022-02-05T19:20:32.136Z"
   },
   {
    "duration": 23,
    "start_time": "2022-02-05T19:20:32.149Z"
   },
   {
    "duration": 357,
    "start_time": "2022-02-05T19:20:38.965Z"
   },
   {
    "duration": 237,
    "start_time": "2022-02-05T19:20:46.686Z"
   },
   {
    "duration": 67,
    "start_time": "2022-02-05T19:31:09.326Z"
   },
   {
    "duration": 24,
    "start_time": "2022-02-05T19:32:01.826Z"
   },
   {
    "duration": 2,
    "start_time": "2022-02-05T21:06:14.611Z"
   },
   {
    "duration": 172,
    "start_time": "2022-02-05T21:06:14.616Z"
   },
   {
    "duration": 11,
    "start_time": "2022-02-05T21:06:14.790Z"
   },
   {
    "duration": 9,
    "start_time": "2022-02-05T21:06:14.803Z"
   },
   {
    "duration": 3,
    "start_time": "2022-02-05T21:06:14.814Z"
   },
   {
    "duration": 13,
    "start_time": "2022-02-05T21:06:14.819Z"
   },
   {
    "duration": 7,
    "start_time": "2022-02-05T21:06:14.834Z"
   },
   {
    "duration": 15,
    "start_time": "2022-02-05T21:06:14.843Z"
   },
   {
    "duration": 3,
    "start_time": "2022-02-05T21:06:14.859Z"
   },
   {
    "duration": 8,
    "start_time": "2022-02-05T21:06:14.864Z"
   },
   {
    "duration": 3,
    "start_time": "2022-02-05T21:06:14.874Z"
   },
   {
    "duration": 34,
    "start_time": "2022-02-05T21:06:14.879Z"
   },
   {
    "duration": 4,
    "start_time": "2022-02-05T21:06:14.915Z"
   },
   {
    "duration": 357,
    "start_time": "2022-02-05T21:06:14.921Z"
   },
   {
    "duration": 11,
    "start_time": "2022-02-05T21:06:15.280Z"
   },
   {
    "duration": 24,
    "start_time": "2022-02-05T21:06:15.292Z"
   },
   {
    "duration": 353,
    "start_time": "2022-02-05T21:06:15.317Z"
   },
   {
    "duration": 13,
    "start_time": "2022-02-05T21:06:15.672Z"
   },
   {
    "duration": 5,
    "start_time": "2022-02-05T21:06:15.687Z"
   },
   {
    "duration": 24,
    "start_time": "2022-02-05T21:06:15.694Z"
   },
   {
    "duration": 7,
    "start_time": "2022-02-05T21:06:15.719Z"
   },
   {
    "duration": 388,
    "start_time": "2022-02-05T21:06:15.727Z"
   },
   {
    "duration": 17,
    "start_time": "2022-02-05T21:06:16.117Z"
   },
   {
    "duration": 507,
    "start_time": "2022-02-05T21:06:16.136Z"
   },
   {
    "duration": 17,
    "start_time": "2022-02-05T21:06:16.644Z"
   },
   {
    "duration": 565,
    "start_time": "2022-02-05T21:06:16.663Z"
   },
   {
    "duration": 17,
    "start_time": "2022-02-05T21:06:17.229Z"
   },
   {
    "duration": 537,
    "start_time": "2022-02-05T21:06:17.248Z"
   },
   {
    "duration": 27,
    "start_time": "2022-02-05T21:06:17.786Z"
   },
   {
    "duration": 513,
    "start_time": "2022-02-05T21:06:17.815Z"
   },
   {
    "duration": 10,
    "start_time": "2022-02-05T21:06:18.329Z"
   },
   {
    "duration": 16,
    "start_time": "2022-02-05T21:06:18.341Z"
   },
   {
    "duration": 448,
    "start_time": "2022-02-05T21:06:18.358Z"
   },
   {
    "duration": 63,
    "start_time": "2022-02-05T21:06:21.674Z"
   },
   {
    "duration": 21,
    "start_time": "2022-02-05T21:06:54.878Z"
   },
   {
    "duration": 379,
    "start_time": "2022-02-05T21:12:25.555Z"
   },
   {
    "duration": 534,
    "start_time": "2022-02-05T21:15:35.478Z"
   },
   {
    "duration": 7,
    "start_time": "2022-02-05T21:39:26.741Z"
   },
   {
    "duration": 561,
    "start_time": "2022-02-05T21:39:33.753Z"
   },
   {
    "duration": 5,
    "start_time": "2022-02-05T21:39:51.237Z"
   },
   {
    "duration": 8,
    "start_time": "2022-02-05T21:43:28.456Z"
   },
   {
    "duration": 576,
    "start_time": "2022-02-05T21:43:31.594Z"
   },
   {
    "duration": 6,
    "start_time": "2022-02-05T21:43:45.836Z"
   },
   {
    "duration": 683,
    "start_time": "2022-02-05T21:44:24.578Z"
   },
   {
    "duration": 5,
    "start_time": "2022-02-05T21:44:38.043Z"
   },
   {
    "duration": 1039,
    "start_time": "2022-02-05T21:49:47.035Z"
   },
   {
    "duration": 173,
    "start_time": "2022-02-05T21:49:48.076Z"
   },
   {
    "duration": 10,
    "start_time": "2022-02-05T21:49:48.251Z"
   },
   {
    "duration": 7,
    "start_time": "2022-02-05T21:49:48.263Z"
   },
   {
    "duration": 4,
    "start_time": "2022-02-05T21:49:48.272Z"
   },
   {
    "duration": 13,
    "start_time": "2022-02-05T21:49:48.277Z"
   },
   {
    "duration": 28,
    "start_time": "2022-02-05T21:49:48.291Z"
   },
   {
    "duration": 15,
    "start_time": "2022-02-05T21:49:48.322Z"
   },
   {
    "duration": 4,
    "start_time": "2022-02-05T21:49:48.340Z"
   },
   {
    "duration": 10,
    "start_time": "2022-02-05T21:49:48.345Z"
   },
   {
    "duration": 5,
    "start_time": "2022-02-05T21:49:48.357Z"
   },
   {
    "duration": 9,
    "start_time": "2022-02-05T21:49:48.363Z"
   },
   {
    "duration": 6,
    "start_time": "2022-02-05T21:49:48.413Z"
   },
   {
    "duration": 339,
    "start_time": "2022-02-05T21:49:48.420Z"
   },
   {
    "duration": 13,
    "start_time": "2022-02-05T21:49:48.761Z"
   },
   {
    "duration": 12,
    "start_time": "2022-02-05T21:49:48.776Z"
   },
   {
    "duration": 349,
    "start_time": "2022-02-05T21:49:48.812Z"
   },
   {
    "duration": 16,
    "start_time": "2022-02-05T21:49:49.163Z"
   },
   {
    "duration": 7,
    "start_time": "2022-02-05T21:49:49.180Z"
   },
   {
    "duration": 32,
    "start_time": "2022-02-05T21:49:49.189Z"
   },
   {
    "duration": 8,
    "start_time": "2022-02-05T21:49:49.222Z"
   },
   {
    "duration": 377,
    "start_time": "2022-02-05T21:49:49.232Z"
   },
   {
    "duration": 17,
    "start_time": "2022-02-05T21:49:49.613Z"
   },
   {
    "duration": 520,
    "start_time": "2022-02-05T21:49:49.632Z"
   },
   {
    "duration": 17,
    "start_time": "2022-02-05T21:49:50.154Z"
   },
   {
    "duration": 559,
    "start_time": "2022-02-05T21:49:50.173Z"
   },
   {
    "duration": 16,
    "start_time": "2022-02-05T21:49:50.733Z"
   },
   {
    "duration": 538,
    "start_time": "2022-02-05T21:49:50.751Z"
   },
   {
    "duration": 29,
    "start_time": "2022-02-05T21:49:51.290Z"
   },
   {
    "duration": 589,
    "start_time": "2022-02-05T21:49:51.321Z"
   },
   {
    "duration": 11,
    "start_time": "2022-02-05T21:49:51.912Z"
   },
   {
    "duration": 14,
    "start_time": "2022-02-05T21:49:51.925Z"
   },
   {
    "duration": 374,
    "start_time": "2022-02-05T21:49:51.941Z"
   },
   {
    "duration": 67,
    "start_time": "2022-02-05T21:49:52.317Z"
   },
   {
    "duration": 21,
    "start_time": "2022-02-05T21:49:52.386Z"
   },
   {
    "duration": 358,
    "start_time": "2022-02-05T21:49:52.409Z"
   },
   {
    "duration": 532,
    "start_time": "2022-02-05T21:49:52.769Z"
   },
   {
    "duration": 12,
    "start_time": "2022-02-05T21:49:53.302Z"
   },
   {
    "duration": 558,
    "start_time": "2022-02-05T21:49:53.316Z"
   },
   {
    "duration": 6,
    "start_time": "2022-02-05T21:49:53.876Z"
   },
   {
    "duration": 18,
    "start_time": "2022-02-05T21:49:53.884Z"
   },
   {
    "duration": 560,
    "start_time": "2022-02-05T21:49:53.912Z"
   },
   {
    "duration": 5,
    "start_time": "2022-02-05T21:49:54.474Z"
   },
   {
    "duration": 4,
    "start_time": "2022-02-05T21:51:59.052Z"
   },
   {
    "duration": 18,
    "start_time": "2022-02-05T21:53:00.900Z"
   },
   {
    "duration": 960,
    "start_time": "2022-02-05T21:53:18.735Z"
   },
   {
    "duration": 201,
    "start_time": "2022-02-05T21:53:19.697Z"
   },
   {
    "duration": 9,
    "start_time": "2022-02-05T21:53:19.900Z"
   },
   {
    "duration": 8,
    "start_time": "2022-02-05T21:53:19.911Z"
   },
   {
    "duration": 3,
    "start_time": "2022-02-05T21:53:19.921Z"
   },
   {
    "duration": 13,
    "start_time": "2022-02-05T21:53:19.925Z"
   },
   {
    "duration": 7,
    "start_time": "2022-02-05T21:53:19.940Z"
   },
   {
    "duration": 14,
    "start_time": "2022-02-05T21:53:19.949Z"
   },
   {
    "duration": 4,
    "start_time": "2022-02-05T21:53:19.965Z"
   },
   {
    "duration": 41,
    "start_time": "2022-02-05T21:53:19.971Z"
   },
   {
    "duration": 4,
    "start_time": "2022-02-05T21:53:20.014Z"
   },
   {
    "duration": 13,
    "start_time": "2022-02-05T21:53:20.020Z"
   },
   {
    "duration": 6,
    "start_time": "2022-02-05T21:53:20.035Z"
   },
   {
    "duration": 349,
    "start_time": "2022-02-05T21:53:20.043Z"
   },
   {
    "duration": 19,
    "start_time": "2022-02-05T21:53:20.393Z"
   },
   {
    "duration": 12,
    "start_time": "2022-02-05T21:53:20.413Z"
   },
   {
    "duration": 356,
    "start_time": "2022-02-05T21:53:20.426Z"
   },
   {
    "duration": 14,
    "start_time": "2022-02-05T21:53:20.784Z"
   },
   {
    "duration": 6,
    "start_time": "2022-02-05T21:53:20.812Z"
   },
   {
    "duration": 11,
    "start_time": "2022-02-05T21:53:20.820Z"
   },
   {
    "duration": 7,
    "start_time": "2022-02-05T21:53:20.832Z"
   },
   {
    "duration": 382,
    "start_time": "2022-02-05T21:53:20.841Z"
   },
   {
    "duration": 16,
    "start_time": "2022-02-05T21:53:21.224Z"
   },
   {
    "duration": 502,
    "start_time": "2022-02-05T21:53:21.242Z"
   },
   {
    "duration": 17,
    "start_time": "2022-02-05T21:53:21.746Z"
   },
   {
    "duration": 561,
    "start_time": "2022-02-05T21:53:21.765Z"
   },
   {
    "duration": 17,
    "start_time": "2022-02-05T21:53:22.330Z"
   },
   {
    "duration": 543,
    "start_time": "2022-02-05T21:53:22.349Z"
   },
   {
    "duration": 27,
    "start_time": "2022-02-05T21:53:22.894Z"
   },
   {
    "duration": 597,
    "start_time": "2022-02-05T21:53:22.922Z"
   },
   {
    "duration": 11,
    "start_time": "2022-02-05T21:53:23.520Z"
   },
   {
    "duration": 15,
    "start_time": "2022-02-05T21:53:23.533Z"
   },
   {
    "duration": 377,
    "start_time": "2022-02-05T21:53:23.550Z"
   },
   {
    "duration": 3,
    "start_time": "2022-02-05T21:53:23.929Z"
   },
   {
    "duration": 18,
    "start_time": "2022-02-05T21:53:23.934Z"
   },
   {
    "duration": 392,
    "start_time": "2022-02-05T21:53:23.953Z"
   },
   {
    "duration": 538,
    "start_time": "2022-02-05T21:53:24.346Z"
   },
   {
    "duration": 7,
    "start_time": "2022-02-05T21:53:24.885Z"
   },
   {
    "duration": 581,
    "start_time": "2022-02-05T21:53:24.893Z"
   },
   {
    "duration": 5,
    "start_time": "2022-02-05T21:53:25.475Z"
   },
   {
    "duration": 10,
    "start_time": "2022-02-05T21:53:25.482Z"
   },
   {
    "duration": 582,
    "start_time": "2022-02-05T21:53:25.493Z"
   },
   {
    "duration": 4,
    "start_time": "2022-02-05T21:53:26.077Z"
   }
  ],
  "kernelspec": {
   "display_name": "Python 3 (ipykernel)",
   "language": "python",
   "name": "python3"
  },
  "language_info": {
   "codemirror_mode": {
    "name": "ipython",
    "version": 3
   },
   "file_extension": ".py",
   "mimetype": "text/x-python",
   "name": "python",
   "nbconvert_exporter": "python",
   "pygments_lexer": "ipython3",
   "version": "3.9.7"
  },
  "toc": {
   "base_numbering": 1,
   "nav_menu": {},
   "number_sections": true,
   "sideBar": true,
   "skip_h1_title": true,
   "title_cell": "Table of Contents",
   "title_sidebar": "Contents",
   "toc_cell": false,
   "toc_position": {},
   "toc_section_display": true,
   "toc_window_display": false
  }
 },
 "nbformat": 4,
 "nbformat_minor": 2
}
